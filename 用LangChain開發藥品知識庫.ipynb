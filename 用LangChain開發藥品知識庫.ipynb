{
  "cells": [
    {
      "cell_type": "markdown",
      "metadata": {
        "id": "view-in-github",
        "colab_type": "text"
      },
      "source": [
        "<a href=\"https://colab.research.google.com/github/willismax/2022_ithelp_marathon/blob/master/%E7%94%A8LangChain%E9%96%8B%E7%99%BC%E8%97%A5%E5%93%81%E7%9F%A5%E8%AD%98%E5%BA%AB.ipynb\" target=\"_parent\"><img src=\"https://colab.research.google.com/assets/colab-badge.svg\" alt=\"Open In Colab\"/></a>"
      ]
    },
    {
      "cell_type": "markdown",
      "metadata": {
        "id": "wMmJ97QazaCg"
      },
      "source": [
        "# 建立環境"
      ]
    },
    {
      "cell_type": "markdown",
      "metadata": {
        "id": "9lWjqoV-smOH"
      },
      "source": [
        "## 安裝套件"
      ]
    },
    {
      "cell_type": "code",
      "execution_count": null,
      "metadata": {
        "colab": {
          "base_uri": "https://localhost:8080/",
          "height": 1000
        },
        "id": "9HgnzJ6Tn_Rl",
        "outputId": "46254121-b1c3-4b3e-f586-b80b7fc63075"
      },
      "outputs": [
        {
          "output_type": "stream",
          "name": "stdout",
          "text": [
            "Collecting langchain\n",
            "  Downloading langchain-0.2.6-py3-none-any.whl (975 kB)\n",
            "\u001b[2K     \u001b[90m━━━━━━━━━━━━━━━━━━━━━━━━━━━━━━━━━━━━━━━━\u001b[0m \u001b[32m975.5/975.5 kB\u001b[0m \u001b[31m6.4 MB/s\u001b[0m eta \u001b[36m0:00:00\u001b[0m\n",
            "\u001b[?25hRequirement already satisfied: PyYAML>=5.3 in /usr/local/lib/python3.10/dist-packages (from langchain) (6.0.1)\n",
            "Requirement already satisfied: SQLAlchemy<3,>=1.4 in /usr/local/lib/python3.10/dist-packages (from langchain) (2.0.31)\n",
            "Requirement already satisfied: aiohttp<4.0.0,>=3.8.3 in /usr/local/lib/python3.10/dist-packages (from langchain) (3.9.5)\n",
            "Requirement already satisfied: async-timeout<5.0.0,>=4.0.0 in /usr/local/lib/python3.10/dist-packages (from langchain) (4.0.3)\n",
            "Collecting langchain-core<0.3.0,>=0.2.10 (from langchain)\n",
            "  Downloading langchain_core-0.2.10-py3-none-any.whl (332 kB)\n",
            "\u001b[2K     \u001b[90m━━━━━━━━━━━━━━━━━━━━━━━━━━━━━━━━━━━━━━━━\u001b[0m \u001b[32m332.8/332.8 kB\u001b[0m \u001b[31m16.8 MB/s\u001b[0m eta \u001b[36m0:00:00\u001b[0m\n",
            "\u001b[?25hCollecting langchain-text-splitters<0.3.0,>=0.2.0 (from langchain)\n",
            "  Downloading langchain_text_splitters-0.2.2-py3-none-any.whl (25 kB)\n",
            "Collecting langsmith<0.2.0,>=0.1.17 (from langchain)\n",
            "  Downloading langsmith-0.1.82-py3-none-any.whl (127 kB)\n",
            "\u001b[2K     \u001b[90m━━━━━━━━━━━━━━━━━━━━━━━━━━━━━━━━━━━━━━━━\u001b[0m \u001b[32m127.4/127.4 kB\u001b[0m \u001b[31m5.5 MB/s\u001b[0m eta \u001b[36m0:00:00\u001b[0m\n",
            "\u001b[?25hRequirement already satisfied: numpy<2,>=1 in /usr/local/lib/python3.10/dist-packages (from langchain) (1.25.2)\n",
            "Requirement already satisfied: pydantic<3,>=1 in /usr/local/lib/python3.10/dist-packages (from langchain) (2.7.4)\n",
            "Requirement already satisfied: requests<3,>=2 in /usr/local/lib/python3.10/dist-packages (from langchain) (2.31.0)\n",
            "Requirement already satisfied: tenacity!=8.4.0,<9.0.0,>=8.1.0 in /usr/local/lib/python3.10/dist-packages (from langchain) (8.4.1)\n",
            "Requirement already satisfied: aiosignal>=1.1.2 in /usr/local/lib/python3.10/dist-packages (from aiohttp<4.0.0,>=3.8.3->langchain) (1.3.1)\n",
            "Requirement already satisfied: attrs>=17.3.0 in /usr/local/lib/python3.10/dist-packages (from aiohttp<4.0.0,>=3.8.3->langchain) (23.2.0)\n",
            "Requirement already satisfied: frozenlist>=1.1.1 in /usr/local/lib/python3.10/dist-packages (from aiohttp<4.0.0,>=3.8.3->langchain) (1.4.1)\n",
            "Requirement already satisfied: multidict<7.0,>=4.5 in /usr/local/lib/python3.10/dist-packages (from aiohttp<4.0.0,>=3.8.3->langchain) (6.0.5)\n",
            "Requirement already satisfied: yarl<2.0,>=1.0 in /usr/local/lib/python3.10/dist-packages (from aiohttp<4.0.0,>=3.8.3->langchain) (1.9.4)\n",
            "Collecting jsonpatch<2.0,>=1.33 (from langchain-core<0.3.0,>=0.2.10->langchain)\n",
            "  Downloading jsonpatch-1.33-py2.py3-none-any.whl (12 kB)\n",
            "Requirement already satisfied: packaging<25,>=23.2 in /usr/local/lib/python3.10/dist-packages (from langchain-core<0.3.0,>=0.2.10->langchain) (24.1)\n",
            "Collecting orjson<4.0.0,>=3.9.14 (from langsmith<0.2.0,>=0.1.17->langchain)\n",
            "  Downloading orjson-3.10.5-cp310-cp310-manylinux_2_17_x86_64.manylinux2014_x86_64.whl (144 kB)\n",
            "\u001b[2K     \u001b[90m━━━━━━━━━━━━━━━━━━━━━━━━━━━━━━━━━━━━━━━━\u001b[0m \u001b[32m145.0/145.0 kB\u001b[0m \u001b[31m2.4 MB/s\u001b[0m eta \u001b[36m0:00:00\u001b[0m\n",
            "\u001b[?25hRequirement already satisfied: annotated-types>=0.4.0 in /usr/local/lib/python3.10/dist-packages (from pydantic<3,>=1->langchain) (0.7.0)\n",
            "Requirement already satisfied: pydantic-core==2.18.4 in /usr/local/lib/python3.10/dist-packages (from pydantic<3,>=1->langchain) (2.18.4)\n",
            "Requirement already satisfied: typing-extensions>=4.6.1 in /usr/local/lib/python3.10/dist-packages (from pydantic<3,>=1->langchain) (4.12.2)\n",
            "Requirement already satisfied: charset-normalizer<4,>=2 in /usr/local/lib/python3.10/dist-packages (from requests<3,>=2->langchain) (3.3.2)\n",
            "Requirement already satisfied: idna<4,>=2.5 in /usr/local/lib/python3.10/dist-packages (from requests<3,>=2->langchain) (3.7)\n",
            "Requirement already satisfied: urllib3<3,>=1.21.1 in /usr/local/lib/python3.10/dist-packages (from requests<3,>=2->langchain) (2.0.7)\n",
            "Requirement already satisfied: certifi>=2017.4.17 in /usr/local/lib/python3.10/dist-packages (from requests<3,>=2->langchain) (2024.6.2)\n",
            "Requirement already satisfied: greenlet!=0.4.17 in /usr/local/lib/python3.10/dist-packages (from SQLAlchemy<3,>=1.4->langchain) (3.0.3)\n",
            "Collecting jsonpointer>=1.9 (from jsonpatch<2.0,>=1.33->langchain-core<0.3.0,>=0.2.10->langchain)\n",
            "  Downloading jsonpointer-3.0.0-py2.py3-none-any.whl (7.6 kB)\n",
            "Installing collected packages: orjson, jsonpointer, jsonpatch, langsmith, langchain-core, langchain-text-splitters, langchain\n",
            "Successfully installed jsonpatch-1.33 jsonpointer-3.0.0 langchain-0.2.6 langchain-core-0.2.10 langchain-text-splitters-0.2.2 langsmith-0.1.82 orjson-3.10.5\n",
            "Collecting langchain_community\n",
            "  Downloading langchain_community-0.2.6-py3-none-any.whl (2.2 MB)\n",
            "\u001b[2K     \u001b[90m━━━━━━━━━━━━━━━━━━━━━━━━━━━━━━━━━━━━━━━━\u001b[0m \u001b[32m2.2/2.2 MB\u001b[0m \u001b[31m8.2 MB/s\u001b[0m eta \u001b[36m0:00:00\u001b[0m\n",
            "\u001b[?25hRequirement already satisfied: PyYAML>=5.3 in /usr/local/lib/python3.10/dist-packages (from langchain_community) (6.0.1)\n",
            "Requirement already satisfied: SQLAlchemy<3,>=1.4 in /usr/local/lib/python3.10/dist-packages (from langchain_community) (2.0.31)\n",
            "Requirement already satisfied: aiohttp<4.0.0,>=3.8.3 in /usr/local/lib/python3.10/dist-packages (from langchain_community) (3.9.5)\n",
            "Collecting dataclasses-json<0.7,>=0.5.7 (from langchain_community)\n",
            "  Downloading dataclasses_json-0.6.7-py3-none-any.whl (28 kB)\n",
            "Requirement already satisfied: langchain<0.3.0,>=0.2.6 in /usr/local/lib/python3.10/dist-packages (from langchain_community) (0.2.6)\n",
            "Requirement already satisfied: langchain-core<0.3.0,>=0.2.10 in /usr/local/lib/python3.10/dist-packages (from langchain_community) (0.2.10)\n",
            "Requirement already satisfied: langsmith<0.2.0,>=0.1.0 in /usr/local/lib/python3.10/dist-packages (from langchain_community) (0.1.82)\n",
            "Requirement already satisfied: numpy<2,>=1 in /usr/local/lib/python3.10/dist-packages (from langchain_community) (1.25.2)\n",
            "Requirement already satisfied: requests<3,>=2 in /usr/local/lib/python3.10/dist-packages (from langchain_community) (2.31.0)\n",
            "Requirement already satisfied: tenacity!=8.4.0,<9.0.0,>=8.1.0 in /usr/local/lib/python3.10/dist-packages (from langchain_community) (8.4.1)\n",
            "Requirement already satisfied: aiosignal>=1.1.2 in /usr/local/lib/python3.10/dist-packages (from aiohttp<4.0.0,>=3.8.3->langchain_community) (1.3.1)\n",
            "Requirement already satisfied: attrs>=17.3.0 in /usr/local/lib/python3.10/dist-packages (from aiohttp<4.0.0,>=3.8.3->langchain_community) (23.2.0)\n",
            "Requirement already satisfied: frozenlist>=1.1.1 in /usr/local/lib/python3.10/dist-packages (from aiohttp<4.0.0,>=3.8.3->langchain_community) (1.4.1)\n",
            "Requirement already satisfied: multidict<7.0,>=4.5 in /usr/local/lib/python3.10/dist-packages (from aiohttp<4.0.0,>=3.8.3->langchain_community) (6.0.5)\n",
            "Requirement already satisfied: yarl<2.0,>=1.0 in /usr/local/lib/python3.10/dist-packages (from aiohttp<4.0.0,>=3.8.3->langchain_community) (1.9.4)\n",
            "Requirement already satisfied: async-timeout<5.0,>=4.0 in /usr/local/lib/python3.10/dist-packages (from aiohttp<4.0.0,>=3.8.3->langchain_community) (4.0.3)\n",
            "Collecting marshmallow<4.0.0,>=3.18.0 (from dataclasses-json<0.7,>=0.5.7->langchain_community)\n",
            "  Downloading marshmallow-3.21.3-py3-none-any.whl (49 kB)\n",
            "\u001b[2K     \u001b[90m━━━━━━━━━━━━━━━━━━━━━━━━━━━━━━━━━━━━━━━━\u001b[0m \u001b[32m49.2/49.2 kB\u001b[0m \u001b[31m5.9 MB/s\u001b[0m eta \u001b[36m0:00:00\u001b[0m\n",
            "\u001b[?25hCollecting typing-inspect<1,>=0.4.0 (from dataclasses-json<0.7,>=0.5.7->langchain_community)\n",
            "  Downloading typing_inspect-0.9.0-py3-none-any.whl (8.8 kB)\n",
            "Requirement already satisfied: langchain-text-splitters<0.3.0,>=0.2.0 in /usr/local/lib/python3.10/dist-packages (from langchain<0.3.0,>=0.2.6->langchain_community) (0.2.2)\n",
            "Requirement already satisfied: pydantic<3,>=1 in /usr/local/lib/python3.10/dist-packages (from langchain<0.3.0,>=0.2.6->langchain_community) (2.7.4)\n",
            "Requirement already satisfied: jsonpatch<2.0,>=1.33 in /usr/local/lib/python3.10/dist-packages (from langchain-core<0.3.0,>=0.2.10->langchain_community) (1.33)\n",
            "Requirement already satisfied: packaging<25,>=23.2 in /usr/local/lib/python3.10/dist-packages (from langchain-core<0.3.0,>=0.2.10->langchain_community) (24.1)\n",
            "Requirement already satisfied: orjson<4.0.0,>=3.9.14 in /usr/local/lib/python3.10/dist-packages (from langsmith<0.2.0,>=0.1.0->langchain_community) (3.10.5)\n",
            "Requirement already satisfied: charset-normalizer<4,>=2 in /usr/local/lib/python3.10/dist-packages (from requests<3,>=2->langchain_community) (3.3.2)\n",
            "Requirement already satisfied: idna<4,>=2.5 in /usr/local/lib/python3.10/dist-packages (from requests<3,>=2->langchain_community) (3.7)\n",
            "Requirement already satisfied: urllib3<3,>=1.21.1 in /usr/local/lib/python3.10/dist-packages (from requests<3,>=2->langchain_community) (2.0.7)\n",
            "Requirement already satisfied: certifi>=2017.4.17 in /usr/local/lib/python3.10/dist-packages (from requests<3,>=2->langchain_community) (2024.6.2)\n",
            "Requirement already satisfied: typing-extensions>=4.6.0 in /usr/local/lib/python3.10/dist-packages (from SQLAlchemy<3,>=1.4->langchain_community) (4.12.2)\n",
            "Requirement already satisfied: greenlet!=0.4.17 in /usr/local/lib/python3.10/dist-packages (from SQLAlchemy<3,>=1.4->langchain_community) (3.0.3)\n",
            "Requirement already satisfied: jsonpointer>=1.9 in /usr/local/lib/python3.10/dist-packages (from jsonpatch<2.0,>=1.33->langchain-core<0.3.0,>=0.2.10->langchain_community) (3.0.0)\n",
            "Requirement already satisfied: annotated-types>=0.4.0 in /usr/local/lib/python3.10/dist-packages (from pydantic<3,>=1->langchain<0.3.0,>=0.2.6->langchain_community) (0.7.0)\n",
            "Requirement already satisfied: pydantic-core==2.18.4 in /usr/local/lib/python3.10/dist-packages (from pydantic<3,>=1->langchain<0.3.0,>=0.2.6->langchain_community) (2.18.4)\n",
            "Collecting mypy-extensions>=0.3.0 (from typing-inspect<1,>=0.4.0->dataclasses-json<0.7,>=0.5.7->langchain_community)\n",
            "  Downloading mypy_extensions-1.0.0-py3-none-any.whl (4.7 kB)\n",
            "Installing collected packages: mypy-extensions, marshmallow, typing-inspect, dataclasses-json, langchain_community\n",
            "Successfully installed dataclasses-json-0.6.7 langchain_community-0.2.6 marshmallow-3.21.3 mypy-extensions-1.0.0 typing-inspect-0.9.0\n",
            "Collecting langchain_openai\n",
            "  Downloading langchain_openai-0.1.10-py3-none-any.whl (40 kB)\n",
            "\u001b[2K     \u001b[90m━━━━━━━━━━━━━━━━━━━━━━━━━━━━━━━━━━━━━━━━\u001b[0m \u001b[32m40.6/40.6 kB\u001b[0m \u001b[31m1.3 MB/s\u001b[0m eta \u001b[36m0:00:00\u001b[0m\n",
            "\u001b[?25hRequirement already satisfied: langchain-core<0.3,>=0.2.2 in /usr/local/lib/python3.10/dist-packages (from langchain_openai) (0.2.10)\n",
            "Collecting openai<2.0.0,>=1.26.0 (from langchain_openai)\n",
            "  Downloading openai-1.35.5-py3-none-any.whl (327 kB)\n",
            "\u001b[2K     \u001b[90m━━━━━━━━━━━━━━━━━━━━━━━━━━━━━━━━━━━━━━━━\u001b[0m \u001b[32m327.5/327.5 kB\u001b[0m \u001b[31m8.5 MB/s\u001b[0m eta \u001b[36m0:00:00\u001b[0m\n",
            "\u001b[?25hCollecting tiktoken<1,>=0.7 (from langchain_openai)\n",
            "  Downloading tiktoken-0.7.0-cp310-cp310-manylinux_2_17_x86_64.manylinux2014_x86_64.whl (1.1 MB)\n",
            "\u001b[2K     \u001b[90m━━━━━━━━━━━━━━━━━━━━━━━━━━━━━━━━━━━━━━━━\u001b[0m \u001b[32m1.1/1.1 MB\u001b[0m \u001b[31m23.6 MB/s\u001b[0m eta \u001b[36m0:00:00\u001b[0m\n",
            "\u001b[?25hRequirement already satisfied: PyYAML>=5.3 in /usr/local/lib/python3.10/dist-packages (from langchain-core<0.3,>=0.2.2->langchain_openai) (6.0.1)\n",
            "Requirement already satisfied: jsonpatch<2.0,>=1.33 in /usr/local/lib/python3.10/dist-packages (from langchain-core<0.3,>=0.2.2->langchain_openai) (1.33)\n",
            "Requirement already satisfied: langsmith<0.2.0,>=0.1.75 in /usr/local/lib/python3.10/dist-packages (from langchain-core<0.3,>=0.2.2->langchain_openai) (0.1.82)\n",
            "Requirement already satisfied: packaging<25,>=23.2 in /usr/local/lib/python3.10/dist-packages (from langchain-core<0.3,>=0.2.2->langchain_openai) (24.1)\n",
            "Requirement already satisfied: pydantic<3,>=1 in /usr/local/lib/python3.10/dist-packages (from langchain-core<0.3,>=0.2.2->langchain_openai) (2.7.4)\n",
            "Requirement already satisfied: tenacity!=8.4.0,<9.0.0,>=8.1.0 in /usr/local/lib/python3.10/dist-packages (from langchain-core<0.3,>=0.2.2->langchain_openai) (8.4.1)\n",
            "Requirement already satisfied: anyio<5,>=3.5.0 in /usr/local/lib/python3.10/dist-packages (from openai<2.0.0,>=1.26.0->langchain_openai) (3.7.1)\n",
            "Requirement already satisfied: distro<2,>=1.7.0 in /usr/lib/python3/dist-packages (from openai<2.0.0,>=1.26.0->langchain_openai) (1.7.0)\n",
            "Collecting httpx<1,>=0.23.0 (from openai<2.0.0,>=1.26.0->langchain_openai)\n",
            "  Downloading httpx-0.27.0-py3-none-any.whl (75 kB)\n",
            "\u001b[2K     \u001b[90m━━━━━━━━━━━━━━━━━━━━━━━━━━━━━━━━━━━━━━━━\u001b[0m \u001b[32m75.6/75.6 kB\u001b[0m \u001b[31m8.5 MB/s\u001b[0m eta \u001b[36m0:00:00\u001b[0m\n",
            "\u001b[?25hRequirement already satisfied: sniffio in /usr/local/lib/python3.10/dist-packages (from openai<2.0.0,>=1.26.0->langchain_openai) (1.3.1)\n",
            "Requirement already satisfied: tqdm>4 in /usr/local/lib/python3.10/dist-packages (from openai<2.0.0,>=1.26.0->langchain_openai) (4.66.4)\n",
            "Requirement already satisfied: typing-extensions<5,>=4.7 in /usr/local/lib/python3.10/dist-packages (from openai<2.0.0,>=1.26.0->langchain_openai) (4.12.2)\n",
            "Requirement already satisfied: regex>=2022.1.18 in /usr/local/lib/python3.10/dist-packages (from tiktoken<1,>=0.7->langchain_openai) (2024.5.15)\n",
            "Requirement already satisfied: requests>=2.26.0 in /usr/local/lib/python3.10/dist-packages (from tiktoken<1,>=0.7->langchain_openai) (2.31.0)\n",
            "Requirement already satisfied: idna>=2.8 in /usr/local/lib/python3.10/dist-packages (from anyio<5,>=3.5.0->openai<2.0.0,>=1.26.0->langchain_openai) (3.7)\n",
            "Requirement already satisfied: exceptiongroup in /usr/local/lib/python3.10/dist-packages (from anyio<5,>=3.5.0->openai<2.0.0,>=1.26.0->langchain_openai) (1.2.1)\n",
            "Requirement already satisfied: certifi in /usr/local/lib/python3.10/dist-packages (from httpx<1,>=0.23.0->openai<2.0.0,>=1.26.0->langchain_openai) (2024.6.2)\n",
            "Collecting httpcore==1.* (from httpx<1,>=0.23.0->openai<2.0.0,>=1.26.0->langchain_openai)\n",
            "  Downloading httpcore-1.0.5-py3-none-any.whl (77 kB)\n",
            "\u001b[2K     \u001b[90m━━━━━━━━━━━━━━━━━━━━━━━━━━━━━━━━━━━━━━━━\u001b[0m \u001b[32m77.9/77.9 kB\u001b[0m \u001b[31m5.4 MB/s\u001b[0m eta \u001b[36m0:00:00\u001b[0m\n",
            "\u001b[?25hCollecting h11<0.15,>=0.13 (from httpcore==1.*->httpx<1,>=0.23.0->openai<2.0.0,>=1.26.0->langchain_openai)\n",
            "  Downloading h11-0.14.0-py3-none-any.whl (58 kB)\n",
            "\u001b[2K     \u001b[90m━━━━━━━━━━━━━━━━━━━━━━━━━━━━━━━━━━━━━━━━\u001b[0m \u001b[32m58.3/58.3 kB\u001b[0m \u001b[31m174.0 kB/s\u001b[0m eta \u001b[36m0:00:00\u001b[0m\n",
            "\u001b[?25hRequirement already satisfied: jsonpointer>=1.9 in /usr/local/lib/python3.10/dist-packages (from jsonpatch<2.0,>=1.33->langchain-core<0.3,>=0.2.2->langchain_openai) (3.0.0)\n",
            "Requirement already satisfied: orjson<4.0.0,>=3.9.14 in /usr/local/lib/python3.10/dist-packages (from langsmith<0.2.0,>=0.1.75->langchain-core<0.3,>=0.2.2->langchain_openai) (3.10.5)\n",
            "Requirement already satisfied: annotated-types>=0.4.0 in /usr/local/lib/python3.10/dist-packages (from pydantic<3,>=1->langchain-core<0.3,>=0.2.2->langchain_openai) (0.7.0)\n",
            "Requirement already satisfied: pydantic-core==2.18.4 in /usr/local/lib/python3.10/dist-packages (from pydantic<3,>=1->langchain-core<0.3,>=0.2.2->langchain_openai) (2.18.4)\n",
            "Requirement already satisfied: charset-normalizer<4,>=2 in /usr/local/lib/python3.10/dist-packages (from requests>=2.26.0->tiktoken<1,>=0.7->langchain_openai) (3.3.2)\n",
            "Requirement already satisfied: urllib3<3,>=1.21.1 in /usr/local/lib/python3.10/dist-packages (from requests>=2.26.0->tiktoken<1,>=0.7->langchain_openai) (2.0.7)\n",
            "Installing collected packages: h11, tiktoken, httpcore, httpx, openai, langchain_openai\n",
            "Successfully installed h11-0.14.0 httpcore-1.0.5 httpx-0.27.0 langchain_openai-0.1.10 openai-1.35.5 tiktoken-0.7.0\n",
            "Collecting langchain_google_genai\n",
            "  Downloading langchain_google_genai-1.0.7-py3-none-any.whl (36 kB)\n",
            "Collecting google-generativeai<0.8.0,>=0.7.0 (from langchain_google_genai)\n",
            "  Downloading google_generativeai-0.7.1-py3-none-any.whl (163 kB)\n",
            "\u001b[2K     \u001b[90m━━━━━━━━━━━━━━━━━━━━━━━━━━━━━━━━━━━━━━━━\u001b[0m \u001b[32m163.9/163.9 kB\u001b[0m \u001b[31m6.2 MB/s\u001b[0m eta \u001b[36m0:00:00\u001b[0m\n",
            "\u001b[?25hRequirement already satisfied: langchain-core<0.3,>=0.2.9 in /usr/local/lib/python3.10/dist-packages (from langchain_google_genai) (0.2.10)\n",
            "Collecting google-ai-generativelanguage==0.6.6 (from google-generativeai<0.8.0,>=0.7.0->langchain_google_genai)\n",
            "  Downloading google_ai_generativelanguage-0.6.6-py3-none-any.whl (718 kB)\n",
            "\u001b[2K     \u001b[90m━━━━━━━━━━━━━━━━━━━━━━━━━━━━━━━━━━━━━━━━\u001b[0m \u001b[32m718.3/718.3 kB\u001b[0m \u001b[31m22.9 MB/s\u001b[0m eta \u001b[36m0:00:00\u001b[0m\n",
            "\u001b[?25hRequirement already satisfied: google-api-core in /usr/local/lib/python3.10/dist-packages (from google-generativeai<0.8.0,>=0.7.0->langchain_google_genai) (2.11.1)\n",
            "Requirement already satisfied: google-api-python-client in /usr/local/lib/python3.10/dist-packages (from google-generativeai<0.8.0,>=0.7.0->langchain_google_genai) (2.84.0)\n",
            "Requirement already satisfied: google-auth>=2.15.0 in /usr/local/lib/python3.10/dist-packages (from google-generativeai<0.8.0,>=0.7.0->langchain_google_genai) (2.27.0)\n",
            "Requirement already satisfied: protobuf in /usr/local/lib/python3.10/dist-packages (from google-generativeai<0.8.0,>=0.7.0->langchain_google_genai) (3.20.3)\n",
            "Requirement already satisfied: pydantic in /usr/local/lib/python3.10/dist-packages (from google-generativeai<0.8.0,>=0.7.0->langchain_google_genai) (2.7.4)\n",
            "Requirement already satisfied: tqdm in /usr/local/lib/python3.10/dist-packages (from google-generativeai<0.8.0,>=0.7.0->langchain_google_genai) (4.66.4)\n",
            "Requirement already satisfied: typing-extensions in /usr/local/lib/python3.10/dist-packages (from google-generativeai<0.8.0,>=0.7.0->langchain_google_genai) (4.12.2)\n",
            "Requirement already satisfied: proto-plus<2.0.0dev,>=1.22.3 in /usr/local/lib/python3.10/dist-packages (from google-ai-generativelanguage==0.6.6->google-generativeai<0.8.0,>=0.7.0->langchain_google_genai) (1.24.0)\n",
            "Requirement already satisfied: PyYAML>=5.3 in /usr/local/lib/python3.10/dist-packages (from langchain-core<0.3,>=0.2.9->langchain_google_genai) (6.0.1)\n",
            "Requirement already satisfied: jsonpatch<2.0,>=1.33 in /usr/local/lib/python3.10/dist-packages (from langchain-core<0.3,>=0.2.9->langchain_google_genai) (1.33)\n",
            "Requirement already satisfied: langsmith<0.2.0,>=0.1.75 in /usr/local/lib/python3.10/dist-packages (from langchain-core<0.3,>=0.2.9->langchain_google_genai) (0.1.82)\n",
            "Requirement already satisfied: packaging<25,>=23.2 in /usr/local/lib/python3.10/dist-packages (from langchain-core<0.3,>=0.2.9->langchain_google_genai) (24.1)\n",
            "Requirement already satisfied: tenacity!=8.4.0,<9.0.0,>=8.1.0 in /usr/local/lib/python3.10/dist-packages (from langchain-core<0.3,>=0.2.9->langchain_google_genai) (8.4.1)\n",
            "Requirement already satisfied: cachetools<6.0,>=2.0.0 in /usr/local/lib/python3.10/dist-packages (from google-auth>=2.15.0->google-generativeai<0.8.0,>=0.7.0->langchain_google_genai) (5.3.3)\n",
            "Requirement already satisfied: pyasn1-modules>=0.2.1 in /usr/local/lib/python3.10/dist-packages (from google-auth>=2.15.0->google-generativeai<0.8.0,>=0.7.0->langchain_google_genai) (0.4.0)\n",
            "Requirement already satisfied: rsa<5,>=3.1.4 in /usr/local/lib/python3.10/dist-packages (from google-auth>=2.15.0->google-generativeai<0.8.0,>=0.7.0->langchain_google_genai) (4.9)\n",
            "Requirement already satisfied: jsonpointer>=1.9 in /usr/local/lib/python3.10/dist-packages (from jsonpatch<2.0,>=1.33->langchain-core<0.3,>=0.2.9->langchain_google_genai) (3.0.0)\n",
            "Requirement already satisfied: orjson<4.0.0,>=3.9.14 in /usr/local/lib/python3.10/dist-packages (from langsmith<0.2.0,>=0.1.75->langchain-core<0.3,>=0.2.9->langchain_google_genai) (3.10.5)\n",
            "Requirement already satisfied: requests<3,>=2 in /usr/local/lib/python3.10/dist-packages (from langsmith<0.2.0,>=0.1.75->langchain-core<0.3,>=0.2.9->langchain_google_genai) (2.31.0)\n",
            "Requirement already satisfied: annotated-types>=0.4.0 in /usr/local/lib/python3.10/dist-packages (from pydantic->google-generativeai<0.8.0,>=0.7.0->langchain_google_genai) (0.7.0)\n",
            "Requirement already satisfied: pydantic-core==2.18.4 in /usr/local/lib/python3.10/dist-packages (from pydantic->google-generativeai<0.8.0,>=0.7.0->langchain_google_genai) (2.18.4)\n",
            "Requirement already satisfied: googleapis-common-protos<2.0.dev0,>=1.56.2 in /usr/local/lib/python3.10/dist-packages (from google-api-core->google-generativeai<0.8.0,>=0.7.0->langchain_google_genai) (1.63.1)\n",
            "Requirement already satisfied: httplib2<1dev,>=0.15.0 in /usr/local/lib/python3.10/dist-packages (from google-api-python-client->google-generativeai<0.8.0,>=0.7.0->langchain_google_genai) (0.22.0)\n",
            "Requirement already satisfied: google-auth-httplib2>=0.1.0 in /usr/local/lib/python3.10/dist-packages (from google-api-python-client->google-generativeai<0.8.0,>=0.7.0->langchain_google_genai) (0.1.1)\n",
            "Requirement already satisfied: uritemplate<5,>=3.0.1 in /usr/local/lib/python3.10/dist-packages (from google-api-python-client->google-generativeai<0.8.0,>=0.7.0->langchain_google_genai) (4.1.1)\n",
            "Requirement already satisfied: grpcio<2.0dev,>=1.33.2 in /usr/local/lib/python3.10/dist-packages (from google-api-core->google-generativeai<0.8.0,>=0.7.0->langchain_google_genai) (1.64.1)\n",
            "Requirement already satisfied: grpcio-status<2.0.dev0,>=1.33.2 in /usr/local/lib/python3.10/dist-packages (from google-api-core->google-generativeai<0.8.0,>=0.7.0->langchain_google_genai) (1.48.2)\n",
            "Requirement already satisfied: pyparsing!=3.0.0,!=3.0.1,!=3.0.2,!=3.0.3,<4,>=2.4.2 in /usr/local/lib/python3.10/dist-packages (from httplib2<1dev,>=0.15.0->google-api-python-client->google-generativeai<0.8.0,>=0.7.0->langchain_google_genai) (3.1.2)\n",
            "Requirement already satisfied: pyasn1<0.7.0,>=0.4.6 in /usr/local/lib/python3.10/dist-packages (from pyasn1-modules>=0.2.1->google-auth>=2.15.0->google-generativeai<0.8.0,>=0.7.0->langchain_google_genai) (0.6.0)\n",
            "Requirement already satisfied: charset-normalizer<4,>=2 in /usr/local/lib/python3.10/dist-packages (from requests<3,>=2->langsmith<0.2.0,>=0.1.75->langchain-core<0.3,>=0.2.9->langchain_google_genai) (3.3.2)\n",
            "Requirement already satisfied: idna<4,>=2.5 in /usr/local/lib/python3.10/dist-packages (from requests<3,>=2->langsmith<0.2.0,>=0.1.75->langchain-core<0.3,>=0.2.9->langchain_google_genai) (3.7)\n",
            "Requirement already satisfied: urllib3<3,>=1.21.1 in /usr/local/lib/python3.10/dist-packages (from requests<3,>=2->langsmith<0.2.0,>=0.1.75->langchain-core<0.3,>=0.2.9->langchain_google_genai) (2.0.7)\n",
            "Requirement already satisfied: certifi>=2017.4.17 in /usr/local/lib/python3.10/dist-packages (from requests<3,>=2->langsmith<0.2.0,>=0.1.75->langchain-core<0.3,>=0.2.9->langchain_google_genai) (2024.6.2)\n",
            "Installing collected packages: google-ai-generativelanguage, google-generativeai, langchain_google_genai\n",
            "  Attempting uninstall: google-ai-generativelanguage\n",
            "    Found existing installation: google-ai-generativelanguage 0.6.4\n",
            "    Uninstalling google-ai-generativelanguage-0.6.4:\n",
            "      Successfully uninstalled google-ai-generativelanguage-0.6.4\n",
            "  Attempting uninstall: google-generativeai\n",
            "    Found existing installation: google-generativeai 0.5.4\n",
            "    Uninstalling google-generativeai-0.5.4:\n",
            "      Successfully uninstalled google-generativeai-0.5.4\n",
            "Successfully installed google-ai-generativelanguage-0.6.6 google-generativeai-0.7.1 langchain_google_genai-1.0.7\n"
          ]
        },
        {
          "output_type": "display_data",
          "data": {
            "application/vnd.colab-display-data+json": {
              "pip_warning": {
                "packages": [
                  "google"
                ]
              },
              "id": "9760f830616d4cbda8c3b86177ddbe13"
            }
          },
          "metadata": {}
        },
        {
          "output_type": "stream",
          "name": "stdout",
          "text": [
            "Requirement already satisfied: rich in /usr/local/lib/python3.10/dist-packages (13.7.1)\n",
            "Requirement already satisfied: markdown-it-py>=2.2.0 in /usr/local/lib/python3.10/dist-packages (from rich) (3.0.0)\n",
            "Requirement already satisfied: pygments<3.0.0,>=2.13.0 in /usr/local/lib/python3.10/dist-packages (from rich) (2.16.1)\n",
            "Requirement already satisfied: mdurl~=0.1 in /usr/local/lib/python3.10/dist-packages (from markdown-it-py>=2.2.0->rich) (0.1.2)\n",
            "\u001b[31mERROR: Operation cancelled by user\u001b[0m\u001b[31m\n",
            "\u001b[0m"
          ]
        }
      ],
      "source": [
        "!pip install langchain\n",
        "!pip install langchain_community\n",
        "!pip install langchain_openai\n",
        "!pip install langchain_google_genai\n",
        "!pip install rich"
      ]
    },
    {
      "cell_type": "markdown",
      "metadata": {
        "id": "GZVIO39ospuy"
      },
      "source": [
        "## 匯入套件與金鑰\n",
        "\n",
        "記得在 Colab 的 Secret 中設定 OPENAI_API_KEY 與 GOOGLE_API_KEY 兩個金鑰。"
      ]
    },
    {
      "cell_type": "code",
      "execution_count": null,
      "metadata": {
        "id": "D-J9nYUnoz6O"
      },
      "outputs": [],
      "source": [
        "# 匯入套件和金鑰\n",
        "import os\n",
        "from google.colab import userdata\n",
        "from rich.pretty import pprint\n",
        "os.environ[\"OPENAI_API_KEY\"] = userdata.get('OPENAI_API_KEY')\n",
        "os.environ[\"GOOGLE_API_KEY\"] = userdata.get('GOOGLE_API_KEY')"
      ]
    },
    {
      "cell_type": "markdown",
      "metadata": {
        "id": "1KKpEPHzHHuy"
      },
      "source": [
        "# 抽象化聊天模型物件\n",
        "\n",
        "LangChain 把不同的 API 都抽象化成為統一的介面, 讓你可以用同樣的程式碼使用不同模型與 API。"
      ]
    },
    {
      "cell_type": "markdown",
      "metadata": {
        "id": "yySMYZpvkBYd"
      },
      "source": [
        "## OpenAI"
      ]
    },
    {
      "cell_type": "code",
      "execution_count": null,
      "metadata": {
        "id": "wkgzayhdockk"
      },
      "outputs": [],
      "source": [
        "from langchain_openai import ChatOpenAI\n",
        "llm = ChatOpenAI(model=\"gpt-4o\")"
      ]
    },
    {
      "cell_type": "code",
      "execution_count": null,
      "metadata": {
        "colab": {
          "base_uri": "https://localhost:8080/",
          "height": 212
        },
        "id": "LnVel7Tve49R",
        "outputId": "69288203-d51e-41cd-c534-5aac11e273a3"
      },
      "outputs": [
        {
          "output_type": "display_data",
          "data": {
            "text/plain": [
              "\u001b[1;35mAIMessage\u001b[0m\u001b[1m(\u001b[0m\n",
              "\u001b[2;32m│   \u001b[0m\u001b[33mcontent\u001b[0m=\u001b[32m'我是 OpenAI 開發的人工智慧助手，可以協助回答問題、提供建議及分享資訊。不論是學術問題、日常生活的疑問或是其他主題，我都樂於幫忙。有什麼我可以為你服務的嗎？'\u001b[0m,\n",
              "\u001b[2;32m│   \u001b[0m\u001b[33mresponse_metadata\u001b[0m=\u001b[1m{\u001b[0m\n",
              "\u001b[2;32m│   │   \u001b[0m\u001b[32m'token_usage'\u001b[0m: \u001b[1m{\u001b[0m\u001b[32m'completion_tokens'\u001b[0m: \u001b[1;36m57\u001b[0m, \u001b[32m'prompt_tokens'\u001b[0m: \u001b[1;36m11\u001b[0m, \u001b[32m'total_tokens'\u001b[0m: \u001b[1;36m68\u001b[0m\u001b[1m}\u001b[0m,\n",
              "\u001b[2;32m│   │   \u001b[0m\u001b[32m'model_name'\u001b[0m: \u001b[32m'gpt-4o-2024-05-13'\u001b[0m,\n",
              "\u001b[2;32m│   │   \u001b[0m\u001b[32m'system_fingerprint'\u001b[0m: \u001b[32m'fp_d576307f90'\u001b[0m,\n",
              "\u001b[2;32m│   │   \u001b[0m\u001b[32m'finish_reason'\u001b[0m: \u001b[32m'stop'\u001b[0m,\n",
              "\u001b[2;32m│   │   \u001b[0m\u001b[32m'logprobs'\u001b[0m: \u001b[3;35mNone\u001b[0m\n",
              "\u001b[2;32m│   \u001b[0m\u001b[1m}\u001b[0m,\n",
              "\u001b[2;32m│   \u001b[0m\u001b[33mid\u001b[0m=\u001b[32m'run-d01cd212-1c5c-4eee-8187-a1196a7a576f-0'\u001b[0m,\n",
              "\u001b[2;32m│   \u001b[0m\u001b[33musage_metadata\u001b[0m=\u001b[1m{\u001b[0m\u001b[32m'input_tokens'\u001b[0m: \u001b[1;36m11\u001b[0m, \u001b[32m'output_tokens'\u001b[0m: \u001b[1;36m57\u001b[0m, \u001b[32m'total_tokens'\u001b[0m: \u001b[1;36m68\u001b[0m\u001b[1m}\u001b[0m\n",
              "\u001b[1m)\u001b[0m\n"
            ],
            "text/html": [
              "<pre style=\"white-space:pre;overflow-x:auto;line-height:normal;font-family:Menlo,'DejaVu Sans Mono',consolas,'Courier New',monospace\"><span style=\"color: #800080; text-decoration-color: #800080; font-weight: bold\">AIMessage</span><span style=\"font-weight: bold\">(</span>\n",
              "<span style=\"color: #7fbf7f; text-decoration-color: #7fbf7f\">│   </span><span style=\"color: #808000; text-decoration-color: #808000\">content</span>=<span style=\"color: #008000; text-decoration-color: #008000\">'我是 OpenAI 開發的人工智慧助手，可以協助回答問題、提供建議及分享資訊。不論是學術問題、日常生活的疑問或是其他主題，我都樂於幫忙。有什麼我可以為你服務的嗎？'</span>,\n",
              "<span style=\"color: #7fbf7f; text-decoration-color: #7fbf7f\">│   </span><span style=\"color: #808000; text-decoration-color: #808000\">response_metadata</span>=<span style=\"font-weight: bold\">{</span>\n",
              "<span style=\"color: #7fbf7f; text-decoration-color: #7fbf7f\">│   │   </span><span style=\"color: #008000; text-decoration-color: #008000\">'token_usage'</span>: <span style=\"font-weight: bold\">{</span><span style=\"color: #008000; text-decoration-color: #008000\">'completion_tokens'</span>: <span style=\"color: #008080; text-decoration-color: #008080; font-weight: bold\">57</span>, <span style=\"color: #008000; text-decoration-color: #008000\">'prompt_tokens'</span>: <span style=\"color: #008080; text-decoration-color: #008080; font-weight: bold\">11</span>, <span style=\"color: #008000; text-decoration-color: #008000\">'total_tokens'</span>: <span style=\"color: #008080; text-decoration-color: #008080; font-weight: bold\">68</span><span style=\"font-weight: bold\">}</span>,\n",
              "<span style=\"color: #7fbf7f; text-decoration-color: #7fbf7f\">│   │   </span><span style=\"color: #008000; text-decoration-color: #008000\">'model_name'</span>: <span style=\"color: #008000; text-decoration-color: #008000\">'gpt-4o-2024-05-13'</span>,\n",
              "<span style=\"color: #7fbf7f; text-decoration-color: #7fbf7f\">│   │   </span><span style=\"color: #008000; text-decoration-color: #008000\">'system_fingerprint'</span>: <span style=\"color: #008000; text-decoration-color: #008000\">'fp_d576307f90'</span>,\n",
              "<span style=\"color: #7fbf7f; text-decoration-color: #7fbf7f\">│   │   </span><span style=\"color: #008000; text-decoration-color: #008000\">'finish_reason'</span>: <span style=\"color: #008000; text-decoration-color: #008000\">'stop'</span>,\n",
              "<span style=\"color: #7fbf7f; text-decoration-color: #7fbf7f\">│   │   </span><span style=\"color: #008000; text-decoration-color: #008000\">'logprobs'</span>: <span style=\"color: #800080; text-decoration-color: #800080; font-style: italic\">None</span>\n",
              "<span style=\"color: #7fbf7f; text-decoration-color: #7fbf7f\">│   </span><span style=\"font-weight: bold\">}</span>,\n",
              "<span style=\"color: #7fbf7f; text-decoration-color: #7fbf7f\">│   </span><span style=\"color: #808000; text-decoration-color: #808000\">id</span>=<span style=\"color: #008000; text-decoration-color: #008000\">'run-d01cd212-1c5c-4eee-8187-a1196a7a576f-0'</span>,\n",
              "<span style=\"color: #7fbf7f; text-decoration-color: #7fbf7f\">│   </span><span style=\"color: #808000; text-decoration-color: #808000\">usage_metadata</span>=<span style=\"font-weight: bold\">{</span><span style=\"color: #008000; text-decoration-color: #008000\">'input_tokens'</span>: <span style=\"color: #008080; text-decoration-color: #008080; font-weight: bold\">11</span>, <span style=\"color: #008000; text-decoration-color: #008000\">'output_tokens'</span>: <span style=\"color: #008080; text-decoration-color: #008080; font-weight: bold\">57</span>, <span style=\"color: #008000; text-decoration-color: #008000\">'total_tokens'</span>: <span style=\"color: #008080; text-decoration-color: #008080; font-weight: bold\">68</span><span style=\"font-weight: bold\">}</span>\n",
              "<span style=\"font-weight: bold\">)</span>\n",
              "</pre>\n"
            ]
          },
          "metadata": {}
        }
      ],
      "source": [
        "result = llm.invoke(\"你是誰?\")\n",
        "pprint(result)"
      ]
    },
    {
      "cell_type": "code",
      "execution_count": null,
      "metadata": {
        "colab": {
          "base_uri": "https://localhost:8080/"
        },
        "id": "hTK7bu3jtZ0m",
        "outputId": "dc97b1eb-2d2a-41bc-ff2a-321f530c477d"
      },
      "outputs": [
        {
          "output_type": "stream",
          "name": "stdout",
          "text": [
            "我是 OpenAI 開發的人工智慧助手，可以協助回答問題、提供建議及分享資訊。不論是學術問題、日常生活的疑問或是其他主題，我都樂於幫忙。有什麼我可以為你服務的嗎？\n"
          ]
        }
      ],
      "source": [
        "print(result.content)"
      ]
    },
    {
      "cell_type": "markdown",
      "metadata": {
        "id": "hNI00eRTkFTa"
      },
      "source": [
        "## Google Gemini"
      ]
    },
    {
      "cell_type": "code",
      "execution_count": null,
      "metadata": {
        "id": "sBBrn2eCgqNg"
      },
      "outputs": [],
      "source": [
        "from langchain_google_genai import ChatGoogleGenerativeAI\n",
        "llm_g = ChatGoogleGenerativeAI(model=\"gemini-1.5-flash\")"
      ]
    },
    {
      "cell_type": "markdown",
      "metadata": {
        "id": "eE1lvZgqj_EY"
      },
      "source": [
        "### 相同的程式碼使用不同的語言模型\n",
        "\n",
        "LangChain 不只抽象化程式介面, 也把回覆內容統整成一致的物件。"
      ]
    },
    {
      "cell_type": "code",
      "execution_count": null,
      "metadata": {
        "colab": {
          "base_uri": "https://localhost:8080/",
          "height": 260
        },
        "id": "Ax0mLAf9j3YF",
        "outputId": "460f0a0a-5697-477f-9973-cfc285198faf"
      },
      "outputs": [
        {
          "output_type": "display_data",
          "data": {
            "text/plain": [
              "\u001b[1;35mAIMessage\u001b[0m\u001b[1m(\u001b[0m\n",
              "\u001b[2;32m│   \u001b[0m\u001b[33mcontent\u001b[0m=\u001b[32m'我是一個大型語言模型，由 Google 訓練。'\u001b[0m,\n",
              "\u001b[2;32m│   \u001b[0m\u001b[33mresponse_metadata\u001b[0m=\u001b[1m{\u001b[0m\n",
              "\u001b[2;32m│   │   \u001b[0m\u001b[32m'prompt_feedback'\u001b[0m: \u001b[1m{\u001b[0m\u001b[32m'block_reason'\u001b[0m: \u001b[1;36m0\u001b[0m, \u001b[32m'safety_ratings'\u001b[0m: \u001b[1m[\u001b[0m\u001b[1m]\u001b[0m\u001b[1m}\u001b[0m,\n",
              "\u001b[2;32m│   │   \u001b[0m\u001b[32m'finish_reason'\u001b[0m: \u001b[32m'STOP'\u001b[0m,\n",
              "\u001b[2;32m│   │   \u001b[0m\u001b[32m'safety_ratings'\u001b[0m: \u001b[1m[\u001b[0m\n",
              "\u001b[2;32m│   │   │   \u001b[0m\u001b[1m{\u001b[0m\u001b[32m'category'\u001b[0m: \u001b[32m'HARM_CATEGORY_SEXUALLY_EXPLICIT'\u001b[0m, \u001b[32m'probability'\u001b[0m: \u001b[32m'NEGLIGIBLE'\u001b[0m, \u001b[32m'blocked'\u001b[0m: \u001b[3;91mFalse\u001b[0m\u001b[1m}\u001b[0m,\n",
              "\u001b[2;32m│   │   │   \u001b[0m\u001b[1m{\u001b[0m\u001b[32m'category'\u001b[0m: \u001b[32m'HARM_CATEGORY_HATE_SPEECH'\u001b[0m, \u001b[32m'probability'\u001b[0m: \u001b[32m'NEGLIGIBLE'\u001b[0m, \u001b[32m'blocked'\u001b[0m: \u001b[3;91mFalse\u001b[0m\u001b[1m}\u001b[0m,\n",
              "\u001b[2;32m│   │   │   \u001b[0m\u001b[1m{\u001b[0m\u001b[32m'category'\u001b[0m: \u001b[32m'HARM_CATEGORY_HARASSMENT'\u001b[0m, \u001b[32m'probability'\u001b[0m: \u001b[32m'NEGLIGIBLE'\u001b[0m, \u001b[32m'blocked'\u001b[0m: \u001b[3;91mFalse\u001b[0m\u001b[1m}\u001b[0m,\n",
              "\u001b[2;32m│   │   │   \u001b[0m\u001b[1m{\u001b[0m\u001b[32m'category'\u001b[0m: \u001b[32m'HARM_CATEGORY_DANGEROUS_CONTENT'\u001b[0m, \u001b[32m'probability'\u001b[0m: \u001b[32m'NEGLIGIBLE'\u001b[0m, \u001b[32m'blocked'\u001b[0m: \u001b[3;91mFalse\u001b[0m\u001b[1m}\u001b[0m\n",
              "\u001b[2;32m│   │   \u001b[0m\u001b[1m]\u001b[0m\n",
              "\u001b[2;32m│   \u001b[0m\u001b[1m}\u001b[0m,\n",
              "\u001b[2;32m│   \u001b[0m\u001b[33mid\u001b[0m=\u001b[32m'run-6e2b088a-e06e-40a0-bcdf-3b5b36795677-0'\u001b[0m,\n",
              "\u001b[2;32m│   \u001b[0m\u001b[33musage_metadata\u001b[0m=\u001b[1m{\u001b[0m\u001b[32m'input_tokens'\u001b[0m: \u001b[1;36m4\u001b[0m, \u001b[32m'output_tokens'\u001b[0m: \u001b[1;36m11\u001b[0m, \u001b[32m'total_tokens'\u001b[0m: \u001b[1;36m15\u001b[0m\u001b[1m}\u001b[0m\n",
              "\u001b[1m)\u001b[0m\n"
            ],
            "text/html": [
              "<pre style=\"white-space:pre;overflow-x:auto;line-height:normal;font-family:Menlo,'DejaVu Sans Mono',consolas,'Courier New',monospace\"><span style=\"color: #800080; text-decoration-color: #800080; font-weight: bold\">AIMessage</span><span style=\"font-weight: bold\">(</span>\n",
              "<span style=\"color: #7fbf7f; text-decoration-color: #7fbf7f\">│   </span><span style=\"color: #808000; text-decoration-color: #808000\">content</span>=<span style=\"color: #008000; text-decoration-color: #008000\">'我是一個大型語言模型，由 Google 訓練。'</span>,\n",
              "<span style=\"color: #7fbf7f; text-decoration-color: #7fbf7f\">│   </span><span style=\"color: #808000; text-decoration-color: #808000\">response_metadata</span>=<span style=\"font-weight: bold\">{</span>\n",
              "<span style=\"color: #7fbf7f; text-decoration-color: #7fbf7f\">│   │   </span><span style=\"color: #008000; text-decoration-color: #008000\">'prompt_feedback'</span>: <span style=\"font-weight: bold\">{</span><span style=\"color: #008000; text-decoration-color: #008000\">'block_reason'</span>: <span style=\"color: #008080; text-decoration-color: #008080; font-weight: bold\">0</span>, <span style=\"color: #008000; text-decoration-color: #008000\">'safety_ratings'</span>: <span style=\"font-weight: bold\">[]}</span>,\n",
              "<span style=\"color: #7fbf7f; text-decoration-color: #7fbf7f\">│   │   </span><span style=\"color: #008000; text-decoration-color: #008000\">'finish_reason'</span>: <span style=\"color: #008000; text-decoration-color: #008000\">'STOP'</span>,\n",
              "<span style=\"color: #7fbf7f; text-decoration-color: #7fbf7f\">│   │   </span><span style=\"color: #008000; text-decoration-color: #008000\">'safety_ratings'</span>: <span style=\"font-weight: bold\">[</span>\n",
              "<span style=\"color: #7fbf7f; text-decoration-color: #7fbf7f\">│   │   │   </span><span style=\"font-weight: bold\">{</span><span style=\"color: #008000; text-decoration-color: #008000\">'category'</span>: <span style=\"color: #008000; text-decoration-color: #008000\">'HARM_CATEGORY_SEXUALLY_EXPLICIT'</span>, <span style=\"color: #008000; text-decoration-color: #008000\">'probability'</span>: <span style=\"color: #008000; text-decoration-color: #008000\">'NEGLIGIBLE'</span>, <span style=\"color: #008000; text-decoration-color: #008000\">'blocked'</span>: <span style=\"color: #ff0000; text-decoration-color: #ff0000; font-style: italic\">False</span><span style=\"font-weight: bold\">}</span>,\n",
              "<span style=\"color: #7fbf7f; text-decoration-color: #7fbf7f\">│   │   │   </span><span style=\"font-weight: bold\">{</span><span style=\"color: #008000; text-decoration-color: #008000\">'category'</span>: <span style=\"color: #008000; text-decoration-color: #008000\">'HARM_CATEGORY_HATE_SPEECH'</span>, <span style=\"color: #008000; text-decoration-color: #008000\">'probability'</span>: <span style=\"color: #008000; text-decoration-color: #008000\">'NEGLIGIBLE'</span>, <span style=\"color: #008000; text-decoration-color: #008000\">'blocked'</span>: <span style=\"color: #ff0000; text-decoration-color: #ff0000; font-style: italic\">False</span><span style=\"font-weight: bold\">}</span>,\n",
              "<span style=\"color: #7fbf7f; text-decoration-color: #7fbf7f\">│   │   │   </span><span style=\"font-weight: bold\">{</span><span style=\"color: #008000; text-decoration-color: #008000\">'category'</span>: <span style=\"color: #008000; text-decoration-color: #008000\">'HARM_CATEGORY_HARASSMENT'</span>, <span style=\"color: #008000; text-decoration-color: #008000\">'probability'</span>: <span style=\"color: #008000; text-decoration-color: #008000\">'NEGLIGIBLE'</span>, <span style=\"color: #008000; text-decoration-color: #008000\">'blocked'</span>: <span style=\"color: #ff0000; text-decoration-color: #ff0000; font-style: italic\">False</span><span style=\"font-weight: bold\">}</span>,\n",
              "<span style=\"color: #7fbf7f; text-decoration-color: #7fbf7f\">│   │   │   </span><span style=\"font-weight: bold\">{</span><span style=\"color: #008000; text-decoration-color: #008000\">'category'</span>: <span style=\"color: #008000; text-decoration-color: #008000\">'HARM_CATEGORY_DANGEROUS_CONTENT'</span>, <span style=\"color: #008000; text-decoration-color: #008000\">'probability'</span>: <span style=\"color: #008000; text-decoration-color: #008000\">'NEGLIGIBLE'</span>, <span style=\"color: #008000; text-decoration-color: #008000\">'blocked'</span>: <span style=\"color: #ff0000; text-decoration-color: #ff0000; font-style: italic\">False</span><span style=\"font-weight: bold\">}</span>\n",
              "<span style=\"color: #7fbf7f; text-decoration-color: #7fbf7f\">│   │   </span><span style=\"font-weight: bold\">]</span>\n",
              "<span style=\"color: #7fbf7f; text-decoration-color: #7fbf7f\">│   </span><span style=\"font-weight: bold\">}</span>,\n",
              "<span style=\"color: #7fbf7f; text-decoration-color: #7fbf7f\">│   </span><span style=\"color: #808000; text-decoration-color: #808000\">id</span>=<span style=\"color: #008000; text-decoration-color: #008000\">'run-6e2b088a-e06e-40a0-bcdf-3b5b36795677-0'</span>,\n",
              "<span style=\"color: #7fbf7f; text-decoration-color: #7fbf7f\">│   </span><span style=\"color: #808000; text-decoration-color: #808000\">usage_metadata</span>=<span style=\"font-weight: bold\">{</span><span style=\"color: #008000; text-decoration-color: #008000\">'input_tokens'</span>: <span style=\"color: #008080; text-decoration-color: #008080; font-weight: bold\">4</span>, <span style=\"color: #008000; text-decoration-color: #008000\">'output_tokens'</span>: <span style=\"color: #008080; text-decoration-color: #008080; font-weight: bold\">11</span>, <span style=\"color: #008000; text-decoration-color: #008000\">'total_tokens'</span>: <span style=\"color: #008080; text-decoration-color: #008080; font-weight: bold\">15</span><span style=\"font-weight: bold\">}</span>\n",
              "<span style=\"font-weight: bold\">)</span>\n",
              "</pre>\n"
            ]
          },
          "metadata": {}
        }
      ],
      "source": [
        "result = llm_g.invoke(\"你是誰?\")\n",
        "pprint(result)"
      ]
    },
    {
      "cell_type": "code",
      "execution_count": null,
      "metadata": {
        "colab": {
          "base_uri": "https://localhost:8080/"
        },
        "id": "T0PpD6gXhakF",
        "outputId": "72b503e7-860a-4a1b-ca9b-ad04fed78946"
      },
      "outputs": [
        {
          "output_type": "stream",
          "name": "stdout",
          "text": [
            "我是一個大型語言模型，由 Google 訓練。\n"
          ]
        }
      ],
      "source": [
        "print(result.content)"
      ]
    },
    {
      "cell_type": "markdown",
      "metadata": {
        "id": "fGO8XAkSkPZ4"
      },
      "source": [
        "### 更換不同的語言模型"
      ]
    },
    {
      "cell_type": "code",
      "execution_count": null,
      "metadata": {
        "id": "zg8qD2R1hdPh"
      },
      "outputs": [],
      "source": [
        "llm_pro = ChatGoogleGenerativeAI(model='gemini-1.5-pro',temperature=0.7)"
      ]
    },
    {
      "cell_type": "code",
      "execution_count": null,
      "metadata": {
        "colab": {
          "base_uri": "https://localhost:8080/"
        },
        "id": "h97Kat_thjus",
        "outputId": "2169ae92-b9ce-4217-bcd0-50546a323ec1"
      },
      "outputs": [
        {
          "output_type": "stream",
          "name": "stdout",
          "text": [
            "我是一個大型語言模型，由 Google 訓練。 \n",
            "\n",
            "以下是一些我可以做的事：\n",
            "\n",
            "* **回答你的問題：**  我會盡力回答你提出的任何問題，無論是簡單還是複雜的，只要提供足夠的資訊。\n",
            "* **產生文字：**  我可以寫故事、詩歌、文章、程式碼等等。只要告訴我你想讓我寫什麼。\n",
            "* **翻譯語言：**  我可以將文字翻譯成多種語言。\n",
            "* **總結文字：**  我可以從長篇文章或文件中提取關鍵資訊，並以簡潔的方式呈現給你。\n",
            "* **進行對話：**  我可以和你進行自然的對話，就像你和真人聊天一樣。\n",
            "\n",
            "你想讓我做些什麼呢？ \n",
            "\n"
          ]
        }
      ],
      "source": [
        "print(llm_pro.invoke(\"你是誰?\").content)"
      ]
    },
    {
      "cell_type": "markdown",
      "metadata": {
        "id": "A6gGVw7oHPRr"
      },
      "source": [
        "# 提示模板的概念\n",
        "\n",
        "借用 Python 中格式化字串的語法, 彈性抽換提示的部分內容。"
      ]
    },
    {
      "cell_type": "code",
      "execution_count": null,
      "metadata": {
        "colab": {
          "base_uri": "https://localhost:8080/",
          "height": 292
        },
        "id": "Qzol7LJb0tnA",
        "outputId": "07560ead-5479-4903-9ed3-6bd0c4ba3896"
      },
      "outputs": [
        {
          "output_type": "display_data",
          "data": {
            "text/plain": [
              "\u001b[1;35mChatPromptTemplate\u001b[0m\u001b[1m(\u001b[0m\n",
              "\u001b[2;32m│   \u001b[0m\u001b[33minput_variables\u001b[0m=\u001b[1m[\u001b[0m\n",
              "\u001b[2;32m│   │   \u001b[0m\u001b[32m'role'\u001b[0m,\n",
              "\u001b[2;32m│   │   \u001b[0m\u001b[32m'topic'\u001b[0m\n",
              "\u001b[2;32m│   \u001b[0m\u001b[1m]\u001b[0m,\n",
              "\u001b[2;32m│   \u001b[0m\u001b[33mmessages\u001b[0m=\u001b[1m[\u001b[0m\n",
              "\u001b[2;32m│   │   \u001b[0m\u001b[1;35mHumanMessagePromptTemplate\u001b[0m\u001b[1m(\u001b[0m\n",
              "\u001b[2;32m│   │   │   \u001b[0m\u001b[33mprompt\u001b[0m=\u001b[1;35mPromptTemplate\u001b[0m\u001b[1m(\u001b[0m\n",
              "\u001b[2;32m│   │   │   │   \u001b[0m\u001b[33minput_variables\u001b[0m=\u001b[1m[\u001b[0m\n",
              "\u001b[2;32m│   │   │   │   │   \u001b[0m\u001b[32m'role'\u001b[0m,\n",
              "\u001b[2;32m│   │   │   │   │   \u001b[0m\u001b[32m'topic'\u001b[0m\n",
              "\u001b[2;32m│   │   │   │   \u001b[0m\u001b[1m]\u001b[0m,\n",
              "\u001b[2;32m│   │   │   │   \u001b[0m\u001b[33mtemplate\u001b[0m=\u001b[32m'請試著以\u001b[0m\u001b[32m{\u001b[0m\u001b[32mrole\u001b[0m\u001b[32m}\u001b[0m\u001b[32m的角度說明, 告訴我一個關於\u001b[0m\u001b[32m{\u001b[0m\u001b[32mtopic\u001b[0m\u001b[32m}\u001b[0m\u001b[32m的知識'\u001b[0m\n",
              "\u001b[2;32m│   │   │   \u001b[0m\u001b[1m)\u001b[0m\n",
              "\u001b[2;32m│   │   \u001b[0m\u001b[1m)\u001b[0m\n",
              "\u001b[2;32m│   \u001b[0m\u001b[1m]\u001b[0m\n",
              "\u001b[1m)\u001b[0m\n"
            ],
            "text/html": [
              "<pre style=\"white-space:pre;overflow-x:auto;line-height:normal;font-family:Menlo,'DejaVu Sans Mono',consolas,'Courier New',monospace\"><span style=\"color: #800080; text-decoration-color: #800080; font-weight: bold\">ChatPromptTemplate</span><span style=\"font-weight: bold\">(</span>\n",
              "<span style=\"color: #7fbf7f; text-decoration-color: #7fbf7f\">│   </span><span style=\"color: #808000; text-decoration-color: #808000\">input_variables</span>=<span style=\"font-weight: bold\">[</span>\n",
              "<span style=\"color: #7fbf7f; text-decoration-color: #7fbf7f\">│   │   </span><span style=\"color: #008000; text-decoration-color: #008000\">'role'</span>,\n",
              "<span style=\"color: #7fbf7f; text-decoration-color: #7fbf7f\">│   │   </span><span style=\"color: #008000; text-decoration-color: #008000\">'topic'</span>\n",
              "<span style=\"color: #7fbf7f; text-decoration-color: #7fbf7f\">│   </span><span style=\"font-weight: bold\">]</span>,\n",
              "<span style=\"color: #7fbf7f; text-decoration-color: #7fbf7f\">│   </span><span style=\"color: #808000; text-decoration-color: #808000\">messages</span>=<span style=\"font-weight: bold\">[</span>\n",
              "<span style=\"color: #7fbf7f; text-decoration-color: #7fbf7f\">│   │   </span><span style=\"color: #800080; text-decoration-color: #800080; font-weight: bold\">HumanMessagePromptTemplate</span><span style=\"font-weight: bold\">(</span>\n",
              "<span style=\"color: #7fbf7f; text-decoration-color: #7fbf7f\">│   │   │   </span><span style=\"color: #808000; text-decoration-color: #808000\">prompt</span>=<span style=\"color: #800080; text-decoration-color: #800080; font-weight: bold\">PromptTemplate</span><span style=\"font-weight: bold\">(</span>\n",
              "<span style=\"color: #7fbf7f; text-decoration-color: #7fbf7f\">│   │   │   │   </span><span style=\"color: #808000; text-decoration-color: #808000\">input_variables</span>=<span style=\"font-weight: bold\">[</span>\n",
              "<span style=\"color: #7fbf7f; text-decoration-color: #7fbf7f\">│   │   │   │   │   </span><span style=\"color: #008000; text-decoration-color: #008000\">'role'</span>,\n",
              "<span style=\"color: #7fbf7f; text-decoration-color: #7fbf7f\">│   │   │   │   │   </span><span style=\"color: #008000; text-decoration-color: #008000\">'topic'</span>\n",
              "<span style=\"color: #7fbf7f; text-decoration-color: #7fbf7f\">│   │   │   │   </span><span style=\"font-weight: bold\">]</span>,\n",
              "<span style=\"color: #7fbf7f; text-decoration-color: #7fbf7f\">│   │   │   │   </span><span style=\"color: #808000; text-decoration-color: #808000\">template</span>=<span style=\"color: #008000; text-decoration-color: #008000\">'請試著以{role}的角度說明, 告訴我一個關於{topic}的知識'</span>\n",
              "<span style=\"color: #7fbf7f; text-decoration-color: #7fbf7f\">│   │   │   </span><span style=\"font-weight: bold\">)</span>\n",
              "<span style=\"color: #7fbf7f; text-decoration-color: #7fbf7f\">│   │   </span><span style=\"font-weight: bold\">)</span>\n",
              "<span style=\"color: #7fbf7f; text-decoration-color: #7fbf7f\">│   </span><span style=\"font-weight: bold\">]</span>\n",
              "<span style=\"font-weight: bold\">)</span>\n",
              "</pre>\n"
            ]
          },
          "metadata": {}
        }
      ],
      "source": [
        "from langchain.prompts import ChatPromptTemplate\n",
        "prompt_template = (\n",
        "    ChatPromptTemplate.from_template(\n",
        "        \"請試著以{role}的角度說明, 告訴我一個關於{topic}的知識\")\n",
        ")\n",
        "pprint(prompt_template, expand_all=True)"
      ]
    },
    {
      "cell_type": "markdown",
      "metadata": {
        "id": "EO43_Jq6uVL5"
      },
      "source": [
        "## 替換提示的部分內容"
      ]
    },
    {
      "cell_type": "code",
      "execution_count": null,
      "metadata": {
        "colab": {
          "base_uri": "https://localhost:8080/",
          "height": 132
        },
        "id": "aijFzzSckoaO",
        "outputId": "0493062c-5728-4a1e-d99e-4d20451da96d"
      },
      "outputs": [
        {
          "output_type": "display_data",
          "data": {
            "text/plain": [
              "\u001b[1;35mChatPromptValue\u001b[0m\u001b[1m(\u001b[0m\n",
              "\u001b[2;32m│   \u001b[0m\u001b[33mmessages\u001b[0m=\u001b[1m[\u001b[0m\n",
              "\u001b[2;32m│   │   \u001b[0m\u001b[1;35mHumanMessage\u001b[0m\u001b[1m(\u001b[0m\n",
              "\u001b[2;32m│   │   │   \u001b[0m\u001b[33mcontent\u001b[0m=\u001b[32m'請試著以獅子的角度說明, 告訴我一個關於斑馬的知識'\u001b[0m\n",
              "\u001b[2;32m│   │   \u001b[0m\u001b[1m)\u001b[0m\n",
              "\u001b[2;32m│   \u001b[0m\u001b[1m]\u001b[0m\n",
              "\u001b[1m)\u001b[0m\n"
            ],
            "text/html": [
              "<pre style=\"white-space:pre;overflow-x:auto;line-height:normal;font-family:Menlo,'DejaVu Sans Mono',consolas,'Courier New',monospace\"><span style=\"color: #800080; text-decoration-color: #800080; font-weight: bold\">ChatPromptValue</span><span style=\"font-weight: bold\">(</span>\n",
              "<span style=\"color: #7fbf7f; text-decoration-color: #7fbf7f\">│   </span><span style=\"color: #808000; text-decoration-color: #808000\">messages</span>=<span style=\"font-weight: bold\">[</span>\n",
              "<span style=\"color: #7fbf7f; text-decoration-color: #7fbf7f\">│   │   </span><span style=\"color: #800080; text-decoration-color: #800080; font-weight: bold\">HumanMessage</span><span style=\"font-weight: bold\">(</span>\n",
              "<span style=\"color: #7fbf7f; text-decoration-color: #7fbf7f\">│   │   │   </span><span style=\"color: #808000; text-decoration-color: #808000\">content</span>=<span style=\"color: #008000; text-decoration-color: #008000\">'請試著以獅子的角度說明, 告訴我一個關於斑馬的知識'</span>\n",
              "<span style=\"color: #7fbf7f; text-decoration-color: #7fbf7f\">│   │   </span><span style=\"font-weight: bold\">)</span>\n",
              "<span style=\"color: #7fbf7f; text-decoration-color: #7fbf7f\">│   </span><span style=\"font-weight: bold\">]</span>\n",
              "<span style=\"font-weight: bold\">)</span>\n",
              "</pre>\n"
            ]
          },
          "metadata": {}
        }
      ],
      "source": [
        "prompt_value = prompt_template.invoke(\n",
        "    {\"role\": \"獅子\", \"topic\": \"斑馬\"})\n",
        "pprint(prompt_value, expand_all=True)"
      ]
    },
    {
      "cell_type": "code",
      "execution_count": null,
      "metadata": {
        "colab": {
          "base_uri": "https://localhost:8080/",
          "height": 229
        },
        "id": "6yJ-PGPoqbqf",
        "outputId": "c90932bc-6942-4961-9866-2c07684d12a2"
      },
      "outputs": [
        {
          "output_type": "display_data",
          "data": {
            "text/plain": [
              "\u001b[1;35mAIMessage\u001b[0m\u001b[1m(\u001b[0m\n",
              "\u001b[2;32m│   \u001b[0m\u001b[33mcontent\u001b[0m=\u001b[32m'好的，讓我從獅子的角度來告訴你一些關於斑馬的知識。\\n\\n作為一隻獅子，我的生活主要圍繞著捕獵和保持領土。我經常觀察我們草原上的其他動物，特別是斑馬。斑馬的條紋是他們最顯著的特徵，這些條紋不僅漂亮，還有實際的用途。條紋可以幫助他們在草原上隱藏自己，特別是在曙光和黃昏時的光線下，條紋可以讓他們在高草中變得難以分辨。這對我們捕獵者來說是個挑戰。\\n\\n另外，斑馬是群居動物，他們通常以家庭為單位組成小群體，並且會和其他斑馬群一起活動，形成更大的群體。這種社交結構讓他們在面對威脅時更有警覺性。他們會輪流警戒，如果有任何異常情況，他們會發出鳴叫聲來警告其他成員。\\n\\n雖然斑馬看起來是容易的獵物，但實際上他們非常警覺，而且他們強壯的腿能夠踢出非常有力的後踢，對我們獅子來說可能會造成傷害。所以每次捕獵斑馬都需要謹慎計劃和團隊合作。\\n\\n不過，斑馬也有弱點。他們需要定期喝水，所以他們會經常光顧固定的水源。這給了我們獵捕的機會，只要我們耐心等待，就可能在他們放鬆警戒的時候發動攻擊。\\n\\n這就是我作為獅子對斑馬的觀察和了解。希望你覺得有趣！'\u001b[0m,\n",
              "\u001b[2;32m│   \u001b[0m\u001b[33mresponse_metadata\u001b[0m=\u001b[1m{\u001b[0m\n",
              "\u001b[2;32m│   │   \u001b[0m\u001b[32m'token_usage'\u001b[0m: \u001b[1m{\u001b[0m\u001b[32m'completion_tokens'\u001b[0m: \u001b[1;36m437\u001b[0m, \u001b[32m'prompt_tokens'\u001b[0m: \u001b[1;36m34\u001b[0m, \u001b[32m'total_tokens'\u001b[0m: \u001b[1;36m471\u001b[0m\u001b[1m}\u001b[0m,\n",
              "\u001b[2;32m│   │   \u001b[0m\u001b[32m'model_name'\u001b[0m: \u001b[32m'gpt-4o-2024-05-13'\u001b[0m,\n",
              "\u001b[2;32m│   │   \u001b[0m\u001b[32m'system_fingerprint'\u001b[0m: \u001b[32m'fp_d576307f90'\u001b[0m,\n",
              "\u001b[2;32m│   │   \u001b[0m\u001b[32m'finish_reason'\u001b[0m: \u001b[32m'stop'\u001b[0m,\n",
              "\u001b[2;32m│   │   \u001b[0m\u001b[32m'logprobs'\u001b[0m: \u001b[3;35mNone\u001b[0m\n",
              "\u001b[2;32m│   \u001b[0m\u001b[1m}\u001b[0m,\n",
              "\u001b[2;32m│   \u001b[0m\u001b[33mid\u001b[0m=\u001b[32m'run-f5dcadd8-2c99-4213-9156-2b5d6c75252e-0'\u001b[0m,\n",
              "\u001b[2;32m│   \u001b[0m\u001b[33musage_metadata\u001b[0m=\u001b[1m{\u001b[0m\u001b[32m'input_tokens'\u001b[0m: \u001b[1;36m34\u001b[0m, \u001b[32m'output_tokens'\u001b[0m: \u001b[1;36m437\u001b[0m, \u001b[32m'total_tokens'\u001b[0m: \u001b[1;36m471\u001b[0m\u001b[1m}\u001b[0m\n",
              "\u001b[1m)\u001b[0m\n"
            ],
            "text/html": [
              "<pre style=\"white-space:pre;overflow-x:auto;line-height:normal;font-family:Menlo,'DejaVu Sans Mono',consolas,'Courier New',monospace\"><span style=\"color: #800080; text-decoration-color: #800080; font-weight: bold\">AIMessage</span><span style=\"font-weight: bold\">(</span>\n",
              "<span style=\"color: #7fbf7f; text-decoration-color: #7fbf7f\">│   </span><span style=\"color: #808000; text-decoration-color: #808000\">content</span>=<span style=\"color: #008000; text-decoration-color: #008000\">'好的，讓我從獅子的角度來告訴你一些關於斑馬的知識。\\n\\n作為一隻獅子，我的生活主要圍繞著捕獵和保持領土。我經常觀察我們草原上的其他動物，特別是斑馬。斑馬的條紋是他們最顯著的特徵，這些條紋不僅漂亮，還有實際的用途。條紋可以幫助他們在草原上隱藏自己，特別是在曙光和黃昏時的光線下，條紋可以讓他們在高草中變得難以分辨。這對我們捕獵者來說是個挑戰。\\n\\n另外，斑馬是群居動物，他們通常以家庭為單位組成小群體，並且會和其他斑馬群一起活動，形成更大的群體。這種社交結構讓他們在面對威脅時更有警覺性。他們會輪流警戒，如果有任何異常情況，他們會發出鳴叫聲來警告其他成員。\\n\\n雖然斑馬看起來是容易的獵物，但實際上他們非常警覺，而且他們強壯的腿能夠踢出非常有力的後踢，對我們獅子來說可能會造成傷害。所以每次捕獵斑馬都需要謹慎計劃和團隊合作。\\n\\n不過，斑馬也有弱點。他們需要定期喝水，所以他們會經常光顧固定的水源。這給了我們獵捕的機會，只要我們耐心等待，就可能在他們放鬆警戒的時候發動攻擊。\\n\\n這就是我作為獅子對斑馬的觀察和了解。希望你覺得有趣！'</span>,\n",
              "<span style=\"color: #7fbf7f; text-decoration-color: #7fbf7f\">│   </span><span style=\"color: #808000; text-decoration-color: #808000\">response_metadata</span>=<span style=\"font-weight: bold\">{</span>\n",
              "<span style=\"color: #7fbf7f; text-decoration-color: #7fbf7f\">│   │   </span><span style=\"color: #008000; text-decoration-color: #008000\">'token_usage'</span>: <span style=\"font-weight: bold\">{</span><span style=\"color: #008000; text-decoration-color: #008000\">'completion_tokens'</span>: <span style=\"color: #008080; text-decoration-color: #008080; font-weight: bold\">437</span>, <span style=\"color: #008000; text-decoration-color: #008000\">'prompt_tokens'</span>: <span style=\"color: #008080; text-decoration-color: #008080; font-weight: bold\">34</span>, <span style=\"color: #008000; text-decoration-color: #008000\">'total_tokens'</span>: <span style=\"color: #008080; text-decoration-color: #008080; font-weight: bold\">471</span><span style=\"font-weight: bold\">}</span>,\n",
              "<span style=\"color: #7fbf7f; text-decoration-color: #7fbf7f\">│   │   </span><span style=\"color: #008000; text-decoration-color: #008000\">'model_name'</span>: <span style=\"color: #008000; text-decoration-color: #008000\">'gpt-4o-2024-05-13'</span>,\n",
              "<span style=\"color: #7fbf7f; text-decoration-color: #7fbf7f\">│   │   </span><span style=\"color: #008000; text-decoration-color: #008000\">'system_fingerprint'</span>: <span style=\"color: #008000; text-decoration-color: #008000\">'fp_d576307f90'</span>,\n",
              "<span style=\"color: #7fbf7f; text-decoration-color: #7fbf7f\">│   │   </span><span style=\"color: #008000; text-decoration-color: #008000\">'finish_reason'</span>: <span style=\"color: #008000; text-decoration-color: #008000\">'stop'</span>,\n",
              "<span style=\"color: #7fbf7f; text-decoration-color: #7fbf7f\">│   │   </span><span style=\"color: #008000; text-decoration-color: #008000\">'logprobs'</span>: <span style=\"color: #800080; text-decoration-color: #800080; font-style: italic\">None</span>\n",
              "<span style=\"color: #7fbf7f; text-decoration-color: #7fbf7f\">│   </span><span style=\"font-weight: bold\">}</span>,\n",
              "<span style=\"color: #7fbf7f; text-decoration-color: #7fbf7f\">│   </span><span style=\"color: #808000; text-decoration-color: #808000\">id</span>=<span style=\"color: #008000; text-decoration-color: #008000\">'run-f5dcadd8-2c99-4213-9156-2b5d6c75252e-0'</span>,\n",
              "<span style=\"color: #7fbf7f; text-decoration-color: #7fbf7f\">│   </span><span style=\"color: #808000; text-decoration-color: #808000\">usage_metadata</span>=<span style=\"font-weight: bold\">{</span><span style=\"color: #008000; text-decoration-color: #008000\">'input_tokens'</span>: <span style=\"color: #008080; text-decoration-color: #008080; font-weight: bold\">34</span>, <span style=\"color: #008000; text-decoration-color: #008000\">'output_tokens'</span>: <span style=\"color: #008080; text-decoration-color: #008080; font-weight: bold\">437</span>, <span style=\"color: #008000; text-decoration-color: #008000\">'total_tokens'</span>: <span style=\"color: #008080; text-decoration-color: #008080; font-weight: bold\">471</span><span style=\"font-weight: bold\">}</span>\n",
              "<span style=\"font-weight: bold\">)</span>\n",
              "</pre>\n"
            ]
          },
          "metadata": {}
        }
      ],
      "source": [
        "pprint(llm.invoke(prompt_value))"
      ]
    },
    {
      "cell_type": "markdown",
      "metadata": {
        "id": "m97Hf6U4uNdz"
      },
      "source": [
        "## 手動串接不同的元件"
      ]
    },
    {
      "cell_type": "code",
      "execution_count": null,
      "metadata": {
        "colab": {
          "base_uri": "https://localhost:8080/",
          "height": 229
        },
        "id": "59YgnLM35kzG",
        "outputId": "1115fc5c-5839-4a3e-8998-2d80e036b121"
      },
      "outputs": [
        {
          "output_type": "display_data",
          "data": {
            "text/plain": [
              "\u001b[1;35mAIMessage\u001b[0m\u001b[1m(\u001b[0m\n",
              "\u001b[2;32m│   \u001b[0m\u001b[33mcontent\u001b[0m=\u001b[32m'作為一隻獅子，我告訴你，斑馬可不是隨便就能捕捉的獵物。它們的條紋不只是好看的花紋，還有著重要的功能。這些黑白相間的條紋可以在陽光下造成視覺錯覺，讓我們這些獵食者難以精確鎖定單一目標，特別是在群體移動時。更重要的是，斑馬也是跑得非常快的動物，能夠在短時間內加速達到每小時65公里，這讓我們必須非常小心策劃才能成功捕獲一隻斑馬。总的來說，斑馬是我們獅子眼中的一個具有挑戰性的對手，捕食它們需要智慧和團隊合作。'\u001b[0m,\n",
              "\u001b[2;32m│   \u001b[0m\u001b[33mresponse_metadata\u001b[0m=\u001b[1m{\u001b[0m\n",
              "\u001b[2;32m│   │   \u001b[0m\u001b[32m'token_usage'\u001b[0m: \u001b[1m{\u001b[0m\u001b[32m'completion_tokens'\u001b[0m: \u001b[1;36m196\u001b[0m, \u001b[32m'prompt_tokens'\u001b[0m: \u001b[1;36m34\u001b[0m, \u001b[32m'total_tokens'\u001b[0m: \u001b[1;36m230\u001b[0m\u001b[1m}\u001b[0m,\n",
              "\u001b[2;32m│   │   \u001b[0m\u001b[32m'model_name'\u001b[0m: \u001b[32m'gpt-4o-2024-05-13'\u001b[0m,\n",
              "\u001b[2;32m│   │   \u001b[0m\u001b[32m'system_fingerprint'\u001b[0m: \u001b[32m'fp_d576307f90'\u001b[0m,\n",
              "\u001b[2;32m│   │   \u001b[0m\u001b[32m'finish_reason'\u001b[0m: \u001b[32m'stop'\u001b[0m,\n",
              "\u001b[2;32m│   │   \u001b[0m\u001b[32m'logprobs'\u001b[0m: \u001b[3;35mNone\u001b[0m\n",
              "\u001b[2;32m│   \u001b[0m\u001b[1m}\u001b[0m,\n",
              "\u001b[2;32m│   \u001b[0m\u001b[33mid\u001b[0m=\u001b[32m'run-708a166e-b303-484f-9f0d-f5fa274dfe2f-0'\u001b[0m,\n",
              "\u001b[2;32m│   \u001b[0m\u001b[33musage_metadata\u001b[0m=\u001b[1m{\u001b[0m\u001b[32m'input_tokens'\u001b[0m: \u001b[1;36m34\u001b[0m, \u001b[32m'output_tokens'\u001b[0m: \u001b[1;36m196\u001b[0m, \u001b[32m'total_tokens'\u001b[0m: \u001b[1;36m230\u001b[0m\u001b[1m}\u001b[0m\n",
              "\u001b[1m)\u001b[0m\n"
            ],
            "text/html": [
              "<pre style=\"white-space:pre;overflow-x:auto;line-height:normal;font-family:Menlo,'DejaVu Sans Mono',consolas,'Courier New',monospace\"><span style=\"color: #800080; text-decoration-color: #800080; font-weight: bold\">AIMessage</span><span style=\"font-weight: bold\">(</span>\n",
              "<span style=\"color: #7fbf7f; text-decoration-color: #7fbf7f\">│   </span><span style=\"color: #808000; text-decoration-color: #808000\">content</span>=<span style=\"color: #008000; text-decoration-color: #008000\">'作為一隻獅子，我告訴你，斑馬可不是隨便就能捕捉的獵物。它們的條紋不只是好看的花紋，還有著重要的功能。這些黑白相間的條紋可以在陽光下造成視覺錯覺，讓我們這些獵食者難以精確鎖定單一目標，特別是在群體移動時。更重要的是，斑馬也是跑得非常快的動物，能夠在短時間內加速達到每小時65公里，這讓我們必須非常小心策劃才能成功捕獲一隻斑馬。总的來說，斑馬是我們獅子眼中的一個具有挑戰性的對手，捕食它們需要智慧和團隊合作。'</span>,\n",
              "<span style=\"color: #7fbf7f; text-decoration-color: #7fbf7f\">│   </span><span style=\"color: #808000; text-decoration-color: #808000\">response_metadata</span>=<span style=\"font-weight: bold\">{</span>\n",
              "<span style=\"color: #7fbf7f; text-decoration-color: #7fbf7f\">│   │   </span><span style=\"color: #008000; text-decoration-color: #008000\">'token_usage'</span>: <span style=\"font-weight: bold\">{</span><span style=\"color: #008000; text-decoration-color: #008000\">'completion_tokens'</span>: <span style=\"color: #008080; text-decoration-color: #008080; font-weight: bold\">196</span>, <span style=\"color: #008000; text-decoration-color: #008000\">'prompt_tokens'</span>: <span style=\"color: #008080; text-decoration-color: #008080; font-weight: bold\">34</span>, <span style=\"color: #008000; text-decoration-color: #008000\">'total_tokens'</span>: <span style=\"color: #008080; text-decoration-color: #008080; font-weight: bold\">230</span><span style=\"font-weight: bold\">}</span>,\n",
              "<span style=\"color: #7fbf7f; text-decoration-color: #7fbf7f\">│   │   </span><span style=\"color: #008000; text-decoration-color: #008000\">'model_name'</span>: <span style=\"color: #008000; text-decoration-color: #008000\">'gpt-4o-2024-05-13'</span>,\n",
              "<span style=\"color: #7fbf7f; text-decoration-color: #7fbf7f\">│   │   </span><span style=\"color: #008000; text-decoration-color: #008000\">'system_fingerprint'</span>: <span style=\"color: #008000; text-decoration-color: #008000\">'fp_d576307f90'</span>,\n",
              "<span style=\"color: #7fbf7f; text-decoration-color: #7fbf7f\">│   │   </span><span style=\"color: #008000; text-decoration-color: #008000\">'finish_reason'</span>: <span style=\"color: #008000; text-decoration-color: #008000\">'stop'</span>,\n",
              "<span style=\"color: #7fbf7f; text-decoration-color: #7fbf7f\">│   │   </span><span style=\"color: #008000; text-decoration-color: #008000\">'logprobs'</span>: <span style=\"color: #800080; text-decoration-color: #800080; font-style: italic\">None</span>\n",
              "<span style=\"color: #7fbf7f; text-decoration-color: #7fbf7f\">│   </span><span style=\"font-weight: bold\">}</span>,\n",
              "<span style=\"color: #7fbf7f; text-decoration-color: #7fbf7f\">│   </span><span style=\"color: #808000; text-decoration-color: #808000\">id</span>=<span style=\"color: #008000; text-decoration-color: #008000\">'run-708a166e-b303-484f-9f0d-f5fa274dfe2f-0'</span>,\n",
              "<span style=\"color: #7fbf7f; text-decoration-color: #7fbf7f\">│   </span><span style=\"color: #808000; text-decoration-color: #808000\">usage_metadata</span>=<span style=\"font-weight: bold\">{</span><span style=\"color: #008000; text-decoration-color: #008000\">'input_tokens'</span>: <span style=\"color: #008080; text-decoration-color: #008080; font-weight: bold\">34</span>, <span style=\"color: #008000; text-decoration-color: #008000\">'output_tokens'</span>: <span style=\"color: #008080; text-decoration-color: #008080; font-weight: bold\">196</span>, <span style=\"color: #008000; text-decoration-color: #008000\">'total_tokens'</span>: <span style=\"color: #008080; text-decoration-color: #008080; font-weight: bold\">230</span><span style=\"font-weight: bold\">}</span>\n",
              "<span style=\"font-weight: bold\">)</span>\n",
              "</pre>\n"
            ]
          },
          "metadata": {}
        }
      ],
      "source": [
        "nodes = [prompt_template, llm]\n",
        "arg = {\"role\": \"獅子\", \"topic\": \"斑馬\"}\n",
        "for node in nodes:\n",
        "    arg = node.invoke(arg)\n",
        "pprint(arg)"
      ]
    },
    {
      "cell_type": "markdown",
      "metadata": {
        "id": "Rl5YCYAjlEXR"
      },
      "source": [
        "# LCEL--LangChain Expression Language\n",
        "\n",
        "由於 LangChain 的元件 (都是 `Runnable` 類別) 擁有同樣的介面 (`invoke`) 借用了 Linux 的 shell 中 | 資料通道的概念, 幫你把個別元件的輸出傳送給下一個元件當輸入。"
      ]
    },
    {
      "cell_type": "code",
      "execution_count": null,
      "metadata": {
        "colab": {
          "base_uri": "https://localhost:8080/",
          "height": 229
        },
        "id": "wJ07sutRp-y5",
        "outputId": "61487313-0de7-40ce-ba04-94c9273bba7e"
      },
      "outputs": [
        {
          "output_type": "display_data",
          "data": {
            "text/plain": [
              "\u001b[1;35mAIMessage\u001b[0m\u001b[1m(\u001b[0m\n",
              "\u001b[2;32m│   \u001b[0m\u001b[33mcontent\u001b[0m=\u001b[32m'作為一頭獅子，我在草原上生活了許多年，對斑馬這種動物有不少了解。你知道嗎，斑馬的條紋並不只是為了美觀，它們其實有幾個重要的功能。\\n\\n首先，斑馬的條紋有助於迷惑捕食者。當我們獅子在追捕斑馬時，這些條紋會在陽光下產生一種視覺錯覺，使我們難以判斷它們的具體位置和速度，特別是在一群斑馬一起奔跑時，條紋會混合在一起，讓我們更難以鎖定目標。\\n\\n其次，條紋還有助於斑馬之間的社交互動。每一頭斑馬的條紋都是獨一無二的，就像人類的指紋一樣。這讓它們能夠彼此識別，即使在大群體中也能找到自己的同伴或家人。\\n\\n最後，有研究認為，這些條紋還能驅趕某些昆蟲，比如吸血昆蟲。條紋可能會干擾昆蟲的視覺系統，使它們難以找到斑馬的皮膚。\\n\\n總的來說，斑馬的條紋對我們獅子來說是一種挑戰，但這也是草原生態系統的一部分，讓我們彼此之間的生存競爭更加有趣而複雜。'\u001b[0m,\n",
              "\u001b[2;32m│   \u001b[0m\u001b[33mresponse_metadata\u001b[0m=\u001b[1m{\u001b[0m\n",
              "\u001b[2;32m│   │   \u001b[0m\u001b[32m'token_usage'\u001b[0m: \u001b[1m{\u001b[0m\u001b[32m'completion_tokens'\u001b[0m: \u001b[1;36m351\u001b[0m, \u001b[32m'prompt_tokens'\u001b[0m: \u001b[1;36m34\u001b[0m, \u001b[32m'total_tokens'\u001b[0m: \u001b[1;36m385\u001b[0m\u001b[1m}\u001b[0m,\n",
              "\u001b[2;32m│   │   \u001b[0m\u001b[32m'model_name'\u001b[0m: \u001b[32m'gpt-4o-2024-05-13'\u001b[0m,\n",
              "\u001b[2;32m│   │   \u001b[0m\u001b[32m'system_fingerprint'\u001b[0m: \u001b[32m'fp_ce0793330f'\u001b[0m,\n",
              "\u001b[2;32m│   │   \u001b[0m\u001b[32m'finish_reason'\u001b[0m: \u001b[32m'stop'\u001b[0m,\n",
              "\u001b[2;32m│   │   \u001b[0m\u001b[32m'logprobs'\u001b[0m: \u001b[3;35mNone\u001b[0m\n",
              "\u001b[2;32m│   \u001b[0m\u001b[1m}\u001b[0m,\n",
              "\u001b[2;32m│   \u001b[0m\u001b[33mid\u001b[0m=\u001b[32m'run-10bc5600-4d26-444d-8fc7-9b31cfc7b7e7-0'\u001b[0m,\n",
              "\u001b[2;32m│   \u001b[0m\u001b[33musage_metadata\u001b[0m=\u001b[1m{\u001b[0m\u001b[32m'input_tokens'\u001b[0m: \u001b[1;36m34\u001b[0m, \u001b[32m'output_tokens'\u001b[0m: \u001b[1;36m351\u001b[0m, \u001b[32m'total_tokens'\u001b[0m: \u001b[1;36m385\u001b[0m\u001b[1m}\u001b[0m\n",
              "\u001b[1m)\u001b[0m\n"
            ],
            "text/html": [
              "<pre style=\"white-space:pre;overflow-x:auto;line-height:normal;font-family:Menlo,'DejaVu Sans Mono',consolas,'Courier New',monospace\"><span style=\"color: #800080; text-decoration-color: #800080; font-weight: bold\">AIMessage</span><span style=\"font-weight: bold\">(</span>\n",
              "<span style=\"color: #7fbf7f; text-decoration-color: #7fbf7f\">│   </span><span style=\"color: #808000; text-decoration-color: #808000\">content</span>=<span style=\"color: #008000; text-decoration-color: #008000\">'作為一頭獅子，我在草原上生活了許多年，對斑馬這種動物有不少了解。你知道嗎，斑馬的條紋並不只是為了美觀，它們其實有幾個重要的功能。\\n\\n首先，斑馬的條紋有助於迷惑捕食者。當我們獅子在追捕斑馬時，這些條紋會在陽光下產生一種視覺錯覺，使我們難以判斷它們的具體位置和速度，特別是在一群斑馬一起奔跑時，條紋會混合在一起，讓我們更難以鎖定目標。\\n\\n其次，條紋還有助於斑馬之間的社交互動。每一頭斑馬的條紋都是獨一無二的，就像人類的指紋一樣。這讓它們能夠彼此識別，即使在大群體中也能找到自己的同伴或家人。\\n\\n最後，有研究認為，這些條紋還能驅趕某些昆蟲，比如吸血昆蟲。條紋可能會干擾昆蟲的視覺系統，使它們難以找到斑馬的皮膚。\\n\\n總的來說，斑馬的條紋對我們獅子來說是一種挑戰，但這也是草原生態系統的一部分，讓我們彼此之間的生存競爭更加有趣而複雜。'</span>,\n",
              "<span style=\"color: #7fbf7f; text-decoration-color: #7fbf7f\">│   </span><span style=\"color: #808000; text-decoration-color: #808000\">response_metadata</span>=<span style=\"font-weight: bold\">{</span>\n",
              "<span style=\"color: #7fbf7f; text-decoration-color: #7fbf7f\">│   │   </span><span style=\"color: #008000; text-decoration-color: #008000\">'token_usage'</span>: <span style=\"font-weight: bold\">{</span><span style=\"color: #008000; text-decoration-color: #008000\">'completion_tokens'</span>: <span style=\"color: #008080; text-decoration-color: #008080; font-weight: bold\">351</span>, <span style=\"color: #008000; text-decoration-color: #008000\">'prompt_tokens'</span>: <span style=\"color: #008080; text-decoration-color: #008080; font-weight: bold\">34</span>, <span style=\"color: #008000; text-decoration-color: #008000\">'total_tokens'</span>: <span style=\"color: #008080; text-decoration-color: #008080; font-weight: bold\">385</span><span style=\"font-weight: bold\">}</span>,\n",
              "<span style=\"color: #7fbf7f; text-decoration-color: #7fbf7f\">│   │   </span><span style=\"color: #008000; text-decoration-color: #008000\">'model_name'</span>: <span style=\"color: #008000; text-decoration-color: #008000\">'gpt-4o-2024-05-13'</span>,\n",
              "<span style=\"color: #7fbf7f; text-decoration-color: #7fbf7f\">│   │   </span><span style=\"color: #008000; text-decoration-color: #008000\">'system_fingerprint'</span>: <span style=\"color: #008000; text-decoration-color: #008000\">'fp_ce0793330f'</span>,\n",
              "<span style=\"color: #7fbf7f; text-decoration-color: #7fbf7f\">│   │   </span><span style=\"color: #008000; text-decoration-color: #008000\">'finish_reason'</span>: <span style=\"color: #008000; text-decoration-color: #008000\">'stop'</span>,\n",
              "<span style=\"color: #7fbf7f; text-decoration-color: #7fbf7f\">│   │   </span><span style=\"color: #008000; text-decoration-color: #008000\">'logprobs'</span>: <span style=\"color: #800080; text-decoration-color: #800080; font-style: italic\">None</span>\n",
              "<span style=\"color: #7fbf7f; text-decoration-color: #7fbf7f\">│   </span><span style=\"font-weight: bold\">}</span>,\n",
              "<span style=\"color: #7fbf7f; text-decoration-color: #7fbf7f\">│   </span><span style=\"color: #808000; text-decoration-color: #808000\">id</span>=<span style=\"color: #008000; text-decoration-color: #008000\">'run-10bc5600-4d26-444d-8fc7-9b31cfc7b7e7-0'</span>,\n",
              "<span style=\"color: #7fbf7f; text-decoration-color: #7fbf7f\">│   </span><span style=\"color: #808000; text-decoration-color: #808000\">usage_metadata</span>=<span style=\"font-weight: bold\">{</span><span style=\"color: #008000; text-decoration-color: #008000\">'input_tokens'</span>: <span style=\"color: #008080; text-decoration-color: #008080; font-weight: bold\">34</span>, <span style=\"color: #008000; text-decoration-color: #008000\">'output_tokens'</span>: <span style=\"color: #008080; text-decoration-color: #008080; font-weight: bold\">351</span>, <span style=\"color: #008000; text-decoration-color: #008000\">'total_tokens'</span>: <span style=\"color: #008080; text-decoration-color: #008080; font-weight: bold\">385</span><span style=\"font-weight: bold\">}</span>\n",
              "<span style=\"font-weight: bold\">)</span>\n",
              "</pre>\n"
            ]
          },
          "metadata": {}
        }
      ],
      "source": [
        "chain = prompt_template | llm\n",
        "pprint(chain.invoke({\"role\": \"獅子\", \"topic\": \"斑馬\"}))"
      ]
    },
    {
      "cell_type": "markdown",
      "metadata": {
        "id": "eG3tdn9yOXc4"
      },
      "source": [
        "## 也可以固定部分參數建立新的模板"
      ]
    },
    {
      "cell_type": "code",
      "execution_count": null,
      "metadata": {
        "colab": {
          "base_uri": "https://localhost:8080/"
        },
        "id": "T7blu1Ut18Dg",
        "outputId": "aa340b8d-61fe-4a54-f991-6db44f1686e6"
      },
      "outputs": [
        {
          "output_type": "stream",
          "name": "stdout",
          "text": [
            "作為一頭獅子，我每天都在廣袤的草原上遊走，尋找著下一頓美餐。斑馬是我們獅子最常見的獵物之一，但牠們並不容易捕捉。斑馬有一項非常有趣的特點，那就是牠們身上的黑白條紋。\n",
            "\n",
            "你可能會以為這些條紋只是為了美觀，但其實它們有著重要的功能。這些條紋可以幫助斑馬在群體中混淆掠食者的視線，特別是當牠們成群結隊地奔跑時。當一群斑馬快速移動，條紋會產生一種視覺上的錯覺，使我們獅子難以鎖定一隻個體進行追捕。\n",
            "\n",
            "此外，科學家還發現這些條紋可能有助於斑馬抵禦昆蟲叮咬，尤其是那些傳播疾病的昆蟲。所以，儘管我們獅子經常把斑馬當作目標，但牠們也有自己的生存智慧來對抗我們。狩獵斑馬需要耐心、策略和運氣，可不是那麼簡單的事情呢！\n"
          ]
        }
      ],
      "source": [
        "chain = prompt_template.partial(role='獅子') | llm\n",
        "print(chain.invoke({\"topic\":\"斑馬\"}).content)"
      ]
    },
    {
      "cell_type": "markdown",
      "source": [
        "## 外部函式替換部分內容"
      ],
      "metadata": {
        "id": "vrHW3q7o244j"
      }
    },
    {
      "cell_type": "code",
      "source": [
        "import pytz\n",
        "from datetime import datetime\n",
        "timezone = pytz.timezone('Asia/Taipei')"
      ],
      "metadata": {
        "id": "dUgdeKWOBzOx"
      },
      "execution_count": null,
      "outputs": []
    },
    {
      "cell_type": "code",
      "source": [
        "def get_datetime():\n",
        "    now = datetime.now(timezone)\n",
        "    return now.strftime(\"%Y/%m/%d, %H:%M:%S\")\n",
        "print(get_datetime())"
      ],
      "metadata": {
        "colab": {
          "base_uri": "https://localhost:8080/"
        },
        "id": "PckJytySB-e2",
        "outputId": "cbbc2ff7-70e7-4194-e1af-f663158c91fd"
      },
      "execution_count": null,
      "outputs": [
        {
          "output_type": "stream",
          "name": "stdout",
          "text": [
            "2024/06/27, 10:59:40\n"
          ]
        }
      ]
    },
    {
      "cell_type": "code",
      "source": [
        "prompt = (\n",
        "    ChatPromptTemplate.from_template(\n",
        "        \"目前時間為{time}, \"\n",
        "        \"{input}\")\n",
        ")"
      ],
      "metadata": {
        "id": "ZxyHiIGcB_L0"
      },
      "execution_count": null,
      "outputs": []
    },
    {
      "cell_type": "code",
      "source": [
        "partial_prompt = prompt.partial(time=get_datetime)\n",
        "chain2 = partial_prompt | llm\n",
        "print(chain2.invoke(\"目前時間是?\").content)"
      ],
      "metadata": {
        "colab": {
          "base_uri": "https://localhost:8080/"
        },
        "id": "0vd-cPKrCgCg",
        "outputId": "b4d44681-a94b-4d3b-ccd4-3e90481c4257"
      },
      "execution_count": null,
      "outputs": [
        {
          "output_type": "stream",
          "name": "stdout",
          "text": [
            "目前時間為2024年6月27日，上午10點59分46秒。\n"
          ]
        }
      ]
    },
    {
      "cell_type": "markdown",
      "metadata": {
        "id": "oDRM50DO1NBi"
      },
      "source": [
        "# 輸出內容解析器\n",
        "\n",
        "規定語言模型的輸出內容格式, 並且把輸出結果轉成 Python 的資料結構, 方便程式後續的處理。"
      ]
    },
    {
      "cell_type": "markdown",
      "metadata": {
        "id": "gTZP2DFK1nNd"
      },
      "source": [
        "## 簡單的輸出內容解析器"
      ]
    },
    {
      "cell_type": "code",
      "execution_count": null,
      "metadata": {
        "id": "gEV13roc1rOD"
      },
      "outputs": [],
      "source": [
        "from langchain_core.output_parsers import StrOutputParser\n",
        "str_parser = StrOutputParser()"
      ]
    },
    {
      "cell_type": "markdown",
      "metadata": {
        "id": "wxq8rISqkcJm"
      },
      "source": [
        "### 使用 LCEL 串接方式相輸出交給輸出內容解析器處理"
      ]
    },
    {
      "cell_type": "code",
      "execution_count": null,
      "metadata": {
        "colab": {
          "base_uri": "https://localhost:8080/"
        },
        "id": "Lp4QOS7k2Cg8",
        "outputId": "bb098fd9-ec32-47cc-e44b-de5a5263efeb"
      },
      "outputs": [
        {
          "output_type": "stream",
          "name": "stdout",
          "text": [
            "作為一隻獅子，我們經常觀察和追捕斑馬，所以我對它們有不少了解。斑馬的身上有著黑白相間的條紋，這些條紋不僅是它們的標誌性外觀，還有一些實際的功能。條紋可以幫助斑馬在群體中混淆掠食者的視線，特別是在奔跑時，這種視覺效果讓我們這些獵食者更難鎖定單一個體。\n",
            "\n",
            "此外，斑馬的條紋在不同地區和亞種之間也會有所不同。比如，平原斑馬的條紋較寬且規則，而山地斑馬的條紋則較為細密且不規則。這些條紋還有助於體溫調節，因為黑白條紋在日光下會產生不同的溫差，有助於斑馬散熱。\n",
            "\n",
            "斑馬是群居動物，牠們通常會形成小型的家庭群體，並在需要時與其他群體結合成更大的群體。這樣的社會結構不僅讓牠們在覓食時更為安全，也讓我們這些獵食者更難以成功進行伏擊。\n",
            "\n",
            "總之，斑馬的條紋和群體生活方式是它們生存的重要策略，即使對我們這些獅子來說，斑馬也不是那麼容易捕捉的獵物。\n"
          ]
        }
      ],
      "source": [
        "chain = chain | str_parser\n",
        "print(chain.invoke({\"role\": \"獅子\", \"topic\": \"斑馬\"}))"
      ]
    },
    {
      "cell_type": "markdown",
      "metadata": {
        "id": "4x_24hs-xu4M"
      },
      "source": [
        "## 複雜格式的輸出內容解析器自帶指令\n",
        "\n",
        "有些格式需要事先告知語言模型, 就會自帶可以嵌入到提示的指令。"
      ]
    },
    {
      "cell_type": "code",
      "execution_count": null,
      "metadata": {
        "colab": {
          "base_uri": "https://localhost:8080/"
        },
        "id": "pJzcJNdgF81d",
        "outputId": "f9527c12-f834-4f8b-d9f8-fde7adf4123d"
      },
      "outputs": [
        {
          "output_type": "stream",
          "name": "stdout",
          "text": [
            "Return a JSON object.\n"
          ]
        }
      ],
      "source": [
        "from langchain_core.output_parsers import JsonOutputParser\n",
        "json_parser = JsonOutputParser()\n",
        "format_instructions = json_parser.get_format_instructions()\n",
        "print(format_instructions)"
      ]
    },
    {
      "cell_type": "markdown",
      "metadata": {
        "id": "BHBO2ZV9xma2"
      },
      "source": [
        "### 將輸出內容解析器的指令加入提示"
      ]
    },
    {
      "cell_type": "code",
      "execution_count": null,
      "metadata": {
        "colab": {
          "base_uri": "https://localhost:8080/"
        },
        "id": "X7-Kil2qGSVs",
        "outputId": "faa36f3f-525e-4c1b-9938-64cbd4e9a56f"
      },
      "outputs": [
        {
          "output_type": "stream",
          "name": "stdout",
          "text": [
            "{\n",
            "  \"國家\": \"台灣\",\n",
            "  \"首都\": \"台北\"\n",
            "}\n"
          ]
        }
      ],
      "source": [
        "message = llm.invoke(\"請提供一個國家的名稱和首都,\"\n",
        "                    f\"{format_instructions}, 使用台灣語言\")\n",
        "print(message.content)"
      ]
    },
    {
      "cell_type": "markdown",
      "metadata": {
        "id": "2zy3p2PTx0mL"
      },
      "source": [
        "### 用輸出內容解析器將輸出結果轉成 Python 物件"
      ]
    },
    {
      "cell_type": "code",
      "execution_count": null,
      "metadata": {
        "colab": {
          "base_uri": "https://localhost:8080/",
          "height": 87
        },
        "id": "4G-8dzd4GVJw",
        "outputId": "d0c7dc42-8b27-4f57-c67a-1da740656d54"
      },
      "outputs": [
        {
          "output_type": "display_data",
          "data": {
            "text/plain": [
              "\u001b[1m{\u001b[0m\n",
              "\u001b[2;32m│   \u001b[0m\u001b[32m'國家'\u001b[0m: \u001b[32m'日本'\u001b[0m,\n",
              "\u001b[2;32m│   \u001b[0m\u001b[32m'首都'\u001b[0m: \u001b[32m'東京'\u001b[0m\n",
              "\u001b[1m}\u001b[0m\n"
            ],
            "text/html": [
              "<pre style=\"white-space:pre;overflow-x:auto;line-height:normal;font-family:Menlo,'DejaVu Sans Mono',consolas,'Courier New',monospace\"><span style=\"font-weight: bold\">{</span>\n",
              "<span style=\"color: #7fbf7f; text-decoration-color: #7fbf7f\">│   </span><span style=\"color: #008000; text-decoration-color: #008000\">'國家'</span>: <span style=\"color: #008000; text-decoration-color: #008000\">'日本'</span>,\n",
              "<span style=\"color: #7fbf7f; text-decoration-color: #7fbf7f\">│   </span><span style=\"color: #008000; text-decoration-color: #008000\">'首都'</span>: <span style=\"color: #008000; text-decoration-color: #008000\">'東京'</span>\n",
              "<span style=\"font-weight: bold\">}</span>\n",
              "</pre>\n"
            ]
          },
          "metadata": {}
        }
      ],
      "source": [
        "json_output = json_parser.invoke(message)\n",
        "pprint(json_output, expand_all=True)"
      ]
    },
    {
      "cell_type": "markdown",
      "metadata": {
        "id": "7cgnAOHQ0gDI"
      },
      "source": [
        "### 跟語言模型串接在一起"
      ]
    },
    {
      "cell_type": "code",
      "execution_count": null,
      "metadata": {
        "colab": {
          "base_uri": "https://localhost:8080/",
          "height": 87
        },
        "id": "-C380FrO0KAS",
        "outputId": "662f1c7c-7878-4989-d1bd-7812331afaf6"
      },
      "outputs": [
        {
          "output_type": "display_data",
          "data": {
            "text/plain": [
              "\u001b[1m{\u001b[0m\n",
              "\u001b[2;32m│   \u001b[0m\u001b[32m'國家'\u001b[0m: \u001b[32m'台灣'\u001b[0m,\n",
              "\u001b[2;32m│   \u001b[0m\u001b[32m'首都'\u001b[0m: \u001b[32m'台北'\u001b[0m\n",
              "\u001b[1m}\u001b[0m\n"
            ],
            "text/html": [
              "<pre style=\"white-space:pre;overflow-x:auto;line-height:normal;font-family:Menlo,'DejaVu Sans Mono',consolas,'Courier New',monospace\"><span style=\"font-weight: bold\">{</span>\n",
              "<span style=\"color: #7fbf7f; text-decoration-color: #7fbf7f\">│   </span><span style=\"color: #008000; text-decoration-color: #008000\">'國家'</span>: <span style=\"color: #008000; text-decoration-color: #008000\">'台灣'</span>,\n",
              "<span style=\"color: #7fbf7f; text-decoration-color: #7fbf7f\">│   </span><span style=\"color: #008000; text-decoration-color: #008000\">'首都'</span>: <span style=\"color: #008000; text-decoration-color: #008000\">'台北'</span>\n",
              "<span style=\"font-weight: bold\">}</span>\n",
              "</pre>\n"
            ]
          },
          "metadata": {}
        }
      ],
      "source": [
        "chain = llm | json_parser\n",
        "pprint(chain.invoke(\"請提供一個國家的名稱和首都,\"\n",
        "                    f\"{format_instructions}, 使用台灣語言\"),\n",
        "       expand_all=True)"
      ]
    },
    {
      "cell_type": "markdown",
      "metadata": {
        "id": "oiYFRuQrHe0z"
      },
      "source": [
        "# 使用 LangChain 準備好現成的工具 (外部函式)--網路搜尋"
      ]
    },
    {
      "cell_type": "code",
      "source": [
        "!pip install duckduckgo-search"
      ],
      "metadata": {
        "colab": {
          "base_uri": "https://localhost:8080/"
        },
        "id": "Vj-DI1EGi7J-",
        "outputId": "a6bf7e9a-79a0-4650-bd06-ee4964bd9468"
      },
      "execution_count": null,
      "outputs": [
        {
          "output_type": "stream",
          "name": "stdout",
          "text": [
            "Collecting duckduckgo-search\n",
            "  Downloading duckduckgo_search-6.1.7-py3-none-any.whl (24 kB)\n",
            "Requirement already satisfied: click>=8.1.7 in /usr/local/lib/python3.10/dist-packages (from duckduckgo-search) (8.1.7)\n",
            "Collecting pyreqwest-impersonate>=0.4.8 (from duckduckgo-search)\n",
            "  Downloading pyreqwest_impersonate-0.4.8-cp310-cp310-manylinux_2_17_x86_64.manylinux2014_x86_64.whl (2.7 MB)\n",
            "\u001b[2K     \u001b[90m━━━━━━━━━━━━━━━━━━━━━━━━━━━━━━━━━━━━━━━━\u001b[0m \u001b[32m2.7/2.7 MB\u001b[0m \u001b[31m25.1 MB/s\u001b[0m eta \u001b[36m0:00:00\u001b[0m\n",
            "\u001b[?25hRequirement already satisfied: orjson>=3.10.5 in /usr/local/lib/python3.10/dist-packages (from duckduckgo-search) (3.10.5)\n",
            "Installing collected packages: pyreqwest-impersonate, duckduckgo-search\n",
            "Successfully installed duckduckgo-search-6.1.7 pyreqwest-impersonate-0.4.8\n"
          ]
        }
      ]
    },
    {
      "cell_type": "code",
      "execution_count": null,
      "metadata": {
        "id": "YJwNXQeZNf2h"
      },
      "outputs": [],
      "source": [
        "from langchain_community.tools import DuckDuckGoSearchRun\n",
        "search_run = DuckDuckGoSearchRun()"
      ]
    },
    {
      "cell_type": "code",
      "source": [
        "print(search_run.invoke(\"2023年金馬獎影后是？\"))"
      ],
      "metadata": {
        "colab": {
          "base_uri": "https://localhost:8080/"
        },
        "id": "6JLH2CiZt1i0",
        "outputId": "dfb65ce8-94d5-4d9e-ab6c-759bc636f294"
      },
      "execution_count": null,
      "outputs": [
        {
          "output_type": "stream",
          "name": "stdout",
          "text": [
            "Entertainment. 【2023金馬獎】金馬60 得獎名單一覽!. 12歲林品彤成史上年紀最小金馬影后、吳慷仁奪金馬影帝. 2023金馬獎得獎名單、入圍名單一覽!. By Inna Chou. 2023年11月26日. 2023金馬獎頒獎典禮 11 月 25 日在國父紀念館盛大舉行，60 屆金馬獎邀請到許多國際嘉賓 ... 華語電影圈的年度盛事、2023年第60屆金馬獎，完整得獎名單看這裡。 金馬60 x《遠見》專題報導. 今年的最大贏家為《老狐狸》，一共獲得4項大獎，包含最佳導演、最佳男配角、最佳造型設計與最佳原創電影音樂。而最佳影片為《石門》，本片還同時獲得最佳剪輯。 ENTERTAINMENT mc愛電影. 【金馬60】2023金馬獎得獎名單!. 吳慷仁奪影帝爆淚，林品彤成最年輕影后. 2023金馬獎得獎名單正式公開啦!. 首度以《富都青年》入圍金馬的吳慷仁成功抱回影帝，而最佳女主角則由年僅12歲的林品彤拿下。. by Ren 與 Benny -2023/11/26更新. Photo ... 今（2023）年第60屆金馬獎，影帝（最佳男主角獎）由《富都青年》吳慷仁獲獎，首度入圍就得獎。年僅12歲的林品彤憑藉《小曉》精湛演出獲頒最佳女主角獎，為最年輕金馬影后。最佳劇情片、最佳剪輯由《石門》獲獎。《老狐狸》獲最佳導演獎、最佳男配角獎、最佳原創電影音樂、最佳造型設計獎 ... 2023年第60屆金馬獎於11月25日在國父紀念館舉行，今年報名作品共有552部。. 入圍暨得獎名單. 典禮時間地點. 直播／轉播平台. 金馬獎主持人. 表演嘉賓. 頒獎嘉賓. 12歲的林品彤以電影《小曉》成為史上最年輕金馬影后。. 吳慷仁以馬來西亞電影《富都青年》第一次 ...\n"
          ]
        }
      ]
    },
    {
      "cell_type": "code",
      "execution_count": null,
      "metadata": {
        "colab": {
          "base_uri": "https://localhost:8080/"
        },
        "id": "0-QxlFcYJexI",
        "outputId": "25094f3f-cc96-4baf-eb91-3bd6f2d24b7a"
      },
      "outputs": [
        {
          "output_type": "stream",
          "name": "stdout",
          "text": [
            "2023年金馬獎影后是12歲的林品彤，她憑藉電影《小曉》獲得此獎項，成為金馬獎史上最年輕的影后。\n"
          ]
        }
      ],
      "source": [
        "from langchain_core.runnables import RunnablePassthrough\n",
        "\n",
        "result_template = \"請回答問題:{input}\\n 以下為搜尋結果{results}\"\n",
        "result_prompt = ChatPromptTemplate.from_template(result_template)\n",
        "\n",
        "chain = (\n",
        "    {\"results\": search_run,\"input\": RunnablePassthrough()}\n",
        "    | result_prompt | llm | str_parser)\n",
        "print(chain.invoke(\"2023年金馬獎影后是？\"))"
      ]
    },
    {
      "cell_type": "markdown",
      "metadata": {
        "id": "XRydTptb3x4u"
      },
      "source": [
        "## 提供工具資訊給模型 (function calling)"
      ]
    },
    {
      "cell_type": "code",
      "execution_count": null,
      "metadata": {
        "colab": {
          "base_uri": "https://localhost:8080/"
        },
        "id": "NrPLyhkBJkHY",
        "outputId": "9f3a2ddc-8d77-44be-feb1-8abede77f279"
      },
      "outputs": [
        {
          "output_type": "stream",
          "name": "stdout",
          "text": [
            "工具名稱：duckduckgo_search\n",
            "工具描述：A wrapper around DuckDuckGo Search. Useful for when you need to answer questions about current events. Input should be a search query.\n",
            "工具參數：{'query': {'title': 'Query', 'description': 'search query to look up', 'type': 'string'}}\n"
          ]
        }
      ],
      "source": [
        "print(f'工具名稱：{search_run.name}')\n",
        "print(f'工具描述：{search_run.description}')\n",
        "print(f'工具參數：{search_run.args}')"
      ]
    },
    {
      "cell_type": "code",
      "execution_count": null,
      "metadata": {
        "id": "XebWMVKLJ9GK"
      },
      "outputs": [],
      "source": [
        "model_with_tools = llm.bind_tools([search_run])"
      ]
    },
    {
      "cell_type": "code",
      "execution_count": null,
      "metadata": {
        "colab": {
          "base_uri": "https://localhost:8080/",
          "height": 471
        },
        "id": "SnFa-ZIo57Wr",
        "outputId": "bc5b2cb4-f64b-4450-c673-56038ba4141f"
      },
      "outputs": [
        {
          "output_type": "display_data",
          "data": {
            "text/plain": [
              "\u001b[1;35mAIMessage\u001b[0m\u001b[1m(\u001b[0m\n",
              "\u001b[2;32m│   \u001b[0m\u001b[33mcontent\u001b[0m=\u001b[32m''\u001b[0m,\n",
              "\u001b[2;32m│   \u001b[0m\u001b[33madditional_kwargs\u001b[0m=\u001b[1m{\u001b[0m\n",
              "\u001b[2;32m│   │   \u001b[0m\u001b[32m'tool_calls'\u001b[0m: \u001b[1m[\u001b[0m\n",
              "\u001b[2;32m│   │   │   \u001b[0m\u001b[1m{\u001b[0m\n",
              "\u001b[2;32m│   │   │   │   \u001b[0m\u001b[32m'id'\u001b[0m: \u001b[32m'call_86hZ4FSKKPSkpukdZ7BTl18y'\u001b[0m,\n",
              "\u001b[2;32m│   │   │   │   \u001b[0m\u001b[32m'function'\u001b[0m: \u001b[1m{\u001b[0m\u001b[32m'arguments'\u001b[0m: \u001b[32m'\u001b[0m\u001b[32m{\u001b[0m\u001b[32m\"query\":\"2023年金馬獎影后\"\u001b[0m\u001b[32m}\u001b[0m\u001b[32m'\u001b[0m, \u001b[32m'name'\u001b[0m: \u001b[32m'duckduckgo_search'\u001b[0m\u001b[1m}\u001b[0m,\n",
              "\u001b[2;32m│   │   │   │   \u001b[0m\u001b[32m'type'\u001b[0m: \u001b[32m'function'\u001b[0m\n",
              "\u001b[2;32m│   │   │   \u001b[0m\u001b[1m}\u001b[0m\n",
              "\u001b[2;32m│   │   \u001b[0m\u001b[1m]\u001b[0m\n",
              "\u001b[2;32m│   \u001b[0m\u001b[1m}\u001b[0m,\n",
              "\u001b[2;32m│   \u001b[0m\u001b[33mresponse_metadata\u001b[0m=\u001b[1m{\u001b[0m\n",
              "\u001b[2;32m│   │   \u001b[0m\u001b[32m'token_usage'\u001b[0m: \u001b[1m{\u001b[0m\u001b[32m'completion_tokens'\u001b[0m: \u001b[1;36m25\u001b[0m, \u001b[32m'prompt_tokens'\u001b[0m: \u001b[1;36m84\u001b[0m, \u001b[32m'total_tokens'\u001b[0m: \u001b[1;36m109\u001b[0m\u001b[1m}\u001b[0m,\n",
              "\u001b[2;32m│   │   \u001b[0m\u001b[32m'model_name'\u001b[0m: \u001b[32m'gpt-4o-2024-05-13'\u001b[0m,\n",
              "\u001b[2;32m│   │   \u001b[0m\u001b[32m'system_fingerprint'\u001b[0m: \u001b[32m'fp_4008e3b719'\u001b[0m,\n",
              "\u001b[2;32m│   │   \u001b[0m\u001b[32m'finish_reason'\u001b[0m: \u001b[32m'tool_calls'\u001b[0m,\n",
              "\u001b[2;32m│   │   \u001b[0m\u001b[32m'logprobs'\u001b[0m: \u001b[3;35mNone\u001b[0m\n",
              "\u001b[2;32m│   \u001b[0m\u001b[1m}\u001b[0m,\n",
              "\u001b[2;32m│   \u001b[0m\u001b[33mid\u001b[0m=\u001b[32m'run-4de33d65-fc55-43dc-becd-2712aa046940-0'\u001b[0m,\n",
              "\u001b[2;32m│   \u001b[0m\u001b[33mtool_calls\u001b[0m=\u001b[1m[\u001b[0m\n",
              "\u001b[2;32m│   │   \u001b[0m\u001b[1m{\u001b[0m\n",
              "\u001b[2;32m│   │   │   \u001b[0m\u001b[32m'name'\u001b[0m: \u001b[32m'duckduckgo_search'\u001b[0m,\n",
              "\u001b[2;32m│   │   │   \u001b[0m\u001b[32m'args'\u001b[0m: \u001b[1m{\u001b[0m\u001b[32m'query'\u001b[0m: \u001b[32m'2023年金馬獎影后'\u001b[0m\u001b[1m}\u001b[0m,\n",
              "\u001b[2;32m│   │   │   \u001b[0m\u001b[32m'id'\u001b[0m: \u001b[32m'call_86hZ4FSKKPSkpukdZ7BTl18y'\u001b[0m\n",
              "\u001b[2;32m│   │   \u001b[0m\u001b[1m}\u001b[0m\n",
              "\u001b[2;32m│   \u001b[0m\u001b[1m]\u001b[0m,\n",
              "\u001b[2;32m│   \u001b[0m\u001b[33musage_metadata\u001b[0m=\u001b[1m{\u001b[0m\u001b[32m'input_tokens'\u001b[0m: \u001b[1;36m84\u001b[0m, \u001b[32m'output_tokens'\u001b[0m: \u001b[1;36m25\u001b[0m, \u001b[32m'total_tokens'\u001b[0m: \u001b[1;36m109\u001b[0m\u001b[1m}\u001b[0m\n",
              "\u001b[1m)\u001b[0m\n"
            ],
            "text/html": [
              "<pre style=\"white-space:pre;overflow-x:auto;line-height:normal;font-family:Menlo,'DejaVu Sans Mono',consolas,'Courier New',monospace\"><span style=\"color: #800080; text-decoration-color: #800080; font-weight: bold\">AIMessage</span><span style=\"font-weight: bold\">(</span>\n",
              "<span style=\"color: #7fbf7f; text-decoration-color: #7fbf7f\">│   </span><span style=\"color: #808000; text-decoration-color: #808000\">content</span>=<span style=\"color: #008000; text-decoration-color: #008000\">''</span>,\n",
              "<span style=\"color: #7fbf7f; text-decoration-color: #7fbf7f\">│   </span><span style=\"color: #808000; text-decoration-color: #808000\">additional_kwargs</span>=<span style=\"font-weight: bold\">{</span>\n",
              "<span style=\"color: #7fbf7f; text-decoration-color: #7fbf7f\">│   │   </span><span style=\"color: #008000; text-decoration-color: #008000\">'tool_calls'</span>: <span style=\"font-weight: bold\">[</span>\n",
              "<span style=\"color: #7fbf7f; text-decoration-color: #7fbf7f\">│   │   │   </span><span style=\"font-weight: bold\">{</span>\n",
              "<span style=\"color: #7fbf7f; text-decoration-color: #7fbf7f\">│   │   │   │   </span><span style=\"color: #008000; text-decoration-color: #008000\">'id'</span>: <span style=\"color: #008000; text-decoration-color: #008000\">'call_86hZ4FSKKPSkpukdZ7BTl18y'</span>,\n",
              "<span style=\"color: #7fbf7f; text-decoration-color: #7fbf7f\">│   │   │   │   </span><span style=\"color: #008000; text-decoration-color: #008000\">'function'</span>: <span style=\"font-weight: bold\">{</span><span style=\"color: #008000; text-decoration-color: #008000\">'arguments'</span>: <span style=\"color: #008000; text-decoration-color: #008000\">'{\"query\":\"2023年金馬獎影后\"}'</span>, <span style=\"color: #008000; text-decoration-color: #008000\">'name'</span>: <span style=\"color: #008000; text-decoration-color: #008000\">'duckduckgo_search'</span><span style=\"font-weight: bold\">}</span>,\n",
              "<span style=\"color: #7fbf7f; text-decoration-color: #7fbf7f\">│   │   │   │   </span><span style=\"color: #008000; text-decoration-color: #008000\">'type'</span>: <span style=\"color: #008000; text-decoration-color: #008000\">'function'</span>\n",
              "<span style=\"color: #7fbf7f; text-decoration-color: #7fbf7f\">│   │   │   </span><span style=\"font-weight: bold\">}</span>\n",
              "<span style=\"color: #7fbf7f; text-decoration-color: #7fbf7f\">│   │   </span><span style=\"font-weight: bold\">]</span>\n",
              "<span style=\"color: #7fbf7f; text-decoration-color: #7fbf7f\">│   </span><span style=\"font-weight: bold\">}</span>,\n",
              "<span style=\"color: #7fbf7f; text-decoration-color: #7fbf7f\">│   </span><span style=\"color: #808000; text-decoration-color: #808000\">response_metadata</span>=<span style=\"font-weight: bold\">{</span>\n",
              "<span style=\"color: #7fbf7f; text-decoration-color: #7fbf7f\">│   │   </span><span style=\"color: #008000; text-decoration-color: #008000\">'token_usage'</span>: <span style=\"font-weight: bold\">{</span><span style=\"color: #008000; text-decoration-color: #008000\">'completion_tokens'</span>: <span style=\"color: #008080; text-decoration-color: #008080; font-weight: bold\">25</span>, <span style=\"color: #008000; text-decoration-color: #008000\">'prompt_tokens'</span>: <span style=\"color: #008080; text-decoration-color: #008080; font-weight: bold\">84</span>, <span style=\"color: #008000; text-decoration-color: #008000\">'total_tokens'</span>: <span style=\"color: #008080; text-decoration-color: #008080; font-weight: bold\">109</span><span style=\"font-weight: bold\">}</span>,\n",
              "<span style=\"color: #7fbf7f; text-decoration-color: #7fbf7f\">│   │   </span><span style=\"color: #008000; text-decoration-color: #008000\">'model_name'</span>: <span style=\"color: #008000; text-decoration-color: #008000\">'gpt-4o-2024-05-13'</span>,\n",
              "<span style=\"color: #7fbf7f; text-decoration-color: #7fbf7f\">│   │   </span><span style=\"color: #008000; text-decoration-color: #008000\">'system_fingerprint'</span>: <span style=\"color: #008000; text-decoration-color: #008000\">'fp_4008e3b719'</span>,\n",
              "<span style=\"color: #7fbf7f; text-decoration-color: #7fbf7f\">│   │   </span><span style=\"color: #008000; text-decoration-color: #008000\">'finish_reason'</span>: <span style=\"color: #008000; text-decoration-color: #008000\">'tool_calls'</span>,\n",
              "<span style=\"color: #7fbf7f; text-decoration-color: #7fbf7f\">│   │   </span><span style=\"color: #008000; text-decoration-color: #008000\">'logprobs'</span>: <span style=\"color: #800080; text-decoration-color: #800080; font-style: italic\">None</span>\n",
              "<span style=\"color: #7fbf7f; text-decoration-color: #7fbf7f\">│   </span><span style=\"font-weight: bold\">}</span>,\n",
              "<span style=\"color: #7fbf7f; text-decoration-color: #7fbf7f\">│   </span><span style=\"color: #808000; text-decoration-color: #808000\">id</span>=<span style=\"color: #008000; text-decoration-color: #008000\">'run-4de33d65-fc55-43dc-becd-2712aa046940-0'</span>,\n",
              "<span style=\"color: #7fbf7f; text-decoration-color: #7fbf7f\">│   </span><span style=\"color: #808000; text-decoration-color: #808000\">tool_calls</span>=<span style=\"font-weight: bold\">[</span>\n",
              "<span style=\"color: #7fbf7f; text-decoration-color: #7fbf7f\">│   │   </span><span style=\"font-weight: bold\">{</span>\n",
              "<span style=\"color: #7fbf7f; text-decoration-color: #7fbf7f\">│   │   │   </span><span style=\"color: #008000; text-decoration-color: #008000\">'name'</span>: <span style=\"color: #008000; text-decoration-color: #008000\">'duckduckgo_search'</span>,\n",
              "<span style=\"color: #7fbf7f; text-decoration-color: #7fbf7f\">│   │   │   </span><span style=\"color: #008000; text-decoration-color: #008000\">'args'</span>: <span style=\"font-weight: bold\">{</span><span style=\"color: #008000; text-decoration-color: #008000\">'query'</span>: <span style=\"color: #008000; text-decoration-color: #008000\">'2023年金馬獎影后'</span><span style=\"font-weight: bold\">}</span>,\n",
              "<span style=\"color: #7fbf7f; text-decoration-color: #7fbf7f\">│   │   │   </span><span style=\"color: #008000; text-decoration-color: #008000\">'id'</span>: <span style=\"color: #008000; text-decoration-color: #008000\">'call_86hZ4FSKKPSkpukdZ7BTl18y'</span>\n",
              "<span style=\"color: #7fbf7f; text-decoration-color: #7fbf7f\">│   │   </span><span style=\"font-weight: bold\">}</span>\n",
              "<span style=\"color: #7fbf7f; text-decoration-color: #7fbf7f\">│   </span><span style=\"font-weight: bold\">]</span>,\n",
              "<span style=\"color: #7fbf7f; text-decoration-color: #7fbf7f\">│   </span><span style=\"color: #808000; text-decoration-color: #808000\">usage_metadata</span>=<span style=\"font-weight: bold\">{</span><span style=\"color: #008000; text-decoration-color: #008000\">'input_tokens'</span>: <span style=\"color: #008080; text-decoration-color: #008080; font-weight: bold\">84</span>, <span style=\"color: #008000; text-decoration-color: #008000\">'output_tokens'</span>: <span style=\"color: #008080; text-decoration-color: #008080; font-weight: bold\">25</span>, <span style=\"color: #008000; text-decoration-color: #008000\">'total_tokens'</span>: <span style=\"color: #008080; text-decoration-color: #008080; font-weight: bold\">109</span><span style=\"font-weight: bold\">}</span>\n",
              "<span style=\"font-weight: bold\">)</span>\n",
              "</pre>\n"
            ]
          },
          "metadata": {}
        }
      ],
      "source": [
        "pprint(\n",
        "    model_with_tools.invoke(\"2023年金馬獎影后是？\")\n",
        ")"
      ]
    },
    {
      "cell_type": "markdown",
      "metadata": {
        "id": "SGWwpUTs6NZt"
      },
      "source": [
        "## 使用輸出內容解析器擷取函式參數"
      ]
    },
    {
      "cell_type": "code",
      "execution_count": null,
      "metadata": {
        "colab": {
          "base_uri": "https://localhost:8080/",
          "height": 36
        },
        "id": "RNn_g9z4KZw3",
        "outputId": "c840f063-ee7c-4cbf-9b67-e59e9a13c501"
      },
      "outputs": [
        {
          "output_type": "display_data",
          "data": {
            "text/plain": [
              "\u001b[1m[\u001b[0m\u001b[1m{\u001b[0m\u001b[32m'query'\u001b[0m: \u001b[32m'2023年金馬獎影后'\u001b[0m\u001b[1m}\u001b[0m\u001b[1m]\u001b[0m\n"
            ],
            "text/html": [
              "<pre style=\"white-space:pre;overflow-x:auto;line-height:normal;font-family:Menlo,'DejaVu Sans Mono',consolas,'Courier New',monospace\"><span style=\"font-weight: bold\">[{</span><span style=\"color: #008000; text-decoration-color: #008000\">'query'</span>: <span style=\"color: #008000; text-decoration-color: #008000\">'2023年金馬獎影后'</span><span style=\"font-weight: bold\">}]</span>\n",
              "</pre>\n"
            ]
          },
          "metadata": {}
        }
      ],
      "source": [
        "from langchain.output_parsers import JsonOutputKeyToolsParser\n",
        "\n",
        "chain = model_with_tools | JsonOutputKeyToolsParser(\n",
        "    key_name=\"duckduckgo_search\"\n",
        ")\n",
        "pprint(chain.invoke(\"2023年金馬獎影后是？\"))"
      ]
    },
    {
      "cell_type": "markdown",
      "metadata": {
        "id": "rI9LIwfB6Xvj"
      },
      "source": [
        "## 利用 LCEL 串接流程手動執行工具"
      ]
    },
    {
      "cell_type": "code",
      "execution_count": null,
      "metadata": {
        "colab": {
          "base_uri": "https://localhost:8080/"
        },
        "id": "jsC226pR5Son",
        "outputId": "653c07a2-15a7-4fbd-a811-051a03d2a261"
      },
      "outputs": [
        {
          "output_type": "stream",
          "name": "stdout",
          "text": [
            "2023年金馬獎影后是12歲的林品彤，她憑藉在電影《小曉》中的出色表現成為史上最年輕的金馬影后。\n"
          ]
        }
      ],
      "source": [
        "from operator import itemgetter\n",
        "result_chain = (\n",
        "    chain | {\n",
        "        \"results\": itemgetter(0) | search_run,\n",
        "        \"input\": RunnablePassthrough()\n",
        "    }\n",
        "    | result_prompt | llm | str_parser)\n",
        "print(result_chain.invoke(\"2023年金馬獎影后是？\"))"
      ]
    },
    {
      "cell_type": "markdown",
      "metadata": {
        "id": "xObZ5xtGPXWt"
      },
      "source": [
        "# 使用自訂工具 (自訂的函式)"
      ]
    },
    {
      "cell_type": "code",
      "execution_count": null,
      "metadata": {
        "id": "KfWztcYYQI2q"
      },
      "outputs": [],
      "source": [
        "import requests\n",
        "from langchain.tools import StructuredTool"
      ]
    },
    {
      "cell_type": "markdown",
      "metadata": {
        "id": "shEfWRpH7Ym6"
      },
      "source": [
        "### 使用我們自己串接氣象局的 API"
      ]
    },
    {
      "cell_type": "code",
      "execution_count": null,
      "metadata": {
        "id": "T0ttzANnQK_I",
        "colab": {
          "base_uri": "https://localhost:8080/",
          "height": 217
        },
        "outputId": "24463e05-4f69-4d67-b1fe-85b794edc214"
      },
      "outputs": [
        {
          "output_type": "display_data",
          "data": {
            "text/plain": [
              "\u001b[1m{\u001b[0m\n",
              "\u001b[2;32m│   \u001b[0m\u001b[32m'臺北市'\u001b[0m: \u001b[1m[\u001b[0m\n",
              "\u001b[2;32m│   │   \u001b[0m\u001b[1m{\u001b[0m\u001b[32m'日期'\u001b[0m: \u001b[32m'2024-06-27'\u001b[0m, \u001b[32m'天氣狀態'\u001b[0m: \u001b[32m'晴時多雲'\u001b[0m, \u001b[32m'最高溫'\u001b[0m: \u001b[32m'36'\u001b[0m, \u001b[32m'最低溫'\u001b[0m: \u001b[32m'27'\u001b[0m\u001b[1m}\u001b[0m,\n",
              "\u001b[2;32m│   │   \u001b[0m\u001b[1m{\u001b[0m\u001b[32m'日期'\u001b[0m: \u001b[32m'2024-06-28'\u001b[0m, \u001b[32m'天氣狀態'\u001b[0m: \u001b[32m'多雲午後短暫雷陣雨'\u001b[0m, \u001b[32m'最高溫'\u001b[0m: \u001b[32m'35'\u001b[0m, \u001b[32m'最低溫'\u001b[0m: \u001b[32m'27'\u001b[0m\u001b[1m}\u001b[0m,\n",
              "\u001b[2;32m│   │   \u001b[0m\u001b[1m{\u001b[0m\u001b[32m'日期'\u001b[0m: \u001b[32m'2024-06-29'\u001b[0m, \u001b[32m'天氣狀態'\u001b[0m: \u001b[32m'多雲午後短暫雷陣雨'\u001b[0m, \u001b[32m'最高溫'\u001b[0m: \u001b[32m'35'\u001b[0m, \u001b[32m'最低溫'\u001b[0m: \u001b[32m'27'\u001b[0m\u001b[1m}\u001b[0m,\n",
              "\u001b[2;32m│   │   \u001b[0m\u001b[1m{\u001b[0m\u001b[32m'日期'\u001b[0m: \u001b[32m'2024-06-30'\u001b[0m, \u001b[32m'天氣狀態'\u001b[0m: \u001b[32m'晴午後短暫雷陣雨'\u001b[0m, \u001b[32m'最高溫'\u001b[0m: \u001b[32m'35'\u001b[0m, \u001b[32m'最低溫'\u001b[0m: \u001b[32m'27'\u001b[0m\u001b[1m}\u001b[0m,\n",
              "\u001b[2;32m│   │   \u001b[0m\u001b[1m{\u001b[0m\u001b[32m'日期'\u001b[0m: \u001b[32m'2024-07-01'\u001b[0m, \u001b[32m'天氣狀態'\u001b[0m: \u001b[32m'多雲午後短暫雷陣雨'\u001b[0m, \u001b[32m'最高溫'\u001b[0m: \u001b[32m'36'\u001b[0m, \u001b[32m'最低溫'\u001b[0m: \u001b[32m'27'\u001b[0m\u001b[1m}\u001b[0m,\n",
              "\u001b[2;32m│   │   \u001b[0m\u001b[1m{\u001b[0m\u001b[32m'日期'\u001b[0m: \u001b[32m'2024-07-02'\u001b[0m, \u001b[32m'天氣狀態'\u001b[0m: \u001b[32m'多雲午後短暫雷陣雨'\u001b[0m, \u001b[32m'最高溫'\u001b[0m: \u001b[32m'36'\u001b[0m, \u001b[32m'最低溫'\u001b[0m: \u001b[32m'27'\u001b[0m\u001b[1m}\u001b[0m,\n",
              "\u001b[2;32m│   │   \u001b[0m\u001b[1m{\u001b[0m\u001b[32m'日期'\u001b[0m: \u001b[32m'2024-07-03'\u001b[0m, \u001b[32m'天氣狀態'\u001b[0m: \u001b[32m'晴午後短暫雷陣雨'\u001b[0m, \u001b[32m'最高溫'\u001b[0m: \u001b[32m'36'\u001b[0m, \u001b[32m'最低溫'\u001b[0m: \u001b[32m'27'\u001b[0m\u001b[1m}\u001b[0m\n",
              "\u001b[2;32m│   \u001b[0m\u001b[1m]\u001b[0m\n",
              "\u001b[1m}\u001b[0m\n"
            ],
            "text/html": [
              "<pre style=\"white-space:pre;overflow-x:auto;line-height:normal;font-family:Menlo,'DejaVu Sans Mono',consolas,'Courier New',monospace\"><span style=\"font-weight: bold\">{</span>\n",
              "<span style=\"color: #7fbf7f; text-decoration-color: #7fbf7f\">│   </span><span style=\"color: #008000; text-decoration-color: #008000\">'臺北市'</span>: <span style=\"font-weight: bold\">[</span>\n",
              "<span style=\"color: #7fbf7f; text-decoration-color: #7fbf7f\">│   │   </span><span style=\"font-weight: bold\">{</span><span style=\"color: #008000; text-decoration-color: #008000\">'日期'</span>: <span style=\"color: #008000; text-decoration-color: #008000\">'2024-06-27'</span>, <span style=\"color: #008000; text-decoration-color: #008000\">'天氣狀態'</span>: <span style=\"color: #008000; text-decoration-color: #008000\">'晴時多雲'</span>, <span style=\"color: #008000; text-decoration-color: #008000\">'最高溫'</span>: <span style=\"color: #008000; text-decoration-color: #008000\">'36'</span>, <span style=\"color: #008000; text-decoration-color: #008000\">'最低溫'</span>: <span style=\"color: #008000; text-decoration-color: #008000\">'27'</span><span style=\"font-weight: bold\">}</span>,\n",
              "<span style=\"color: #7fbf7f; text-decoration-color: #7fbf7f\">│   │   </span><span style=\"font-weight: bold\">{</span><span style=\"color: #008000; text-decoration-color: #008000\">'日期'</span>: <span style=\"color: #008000; text-decoration-color: #008000\">'2024-06-28'</span>, <span style=\"color: #008000; text-decoration-color: #008000\">'天氣狀態'</span>: <span style=\"color: #008000; text-decoration-color: #008000\">'多雲午後短暫雷陣雨'</span>, <span style=\"color: #008000; text-decoration-color: #008000\">'最高溫'</span>: <span style=\"color: #008000; text-decoration-color: #008000\">'35'</span>, <span style=\"color: #008000; text-decoration-color: #008000\">'最低溫'</span>: <span style=\"color: #008000; text-decoration-color: #008000\">'27'</span><span style=\"font-weight: bold\">}</span>,\n",
              "<span style=\"color: #7fbf7f; text-decoration-color: #7fbf7f\">│   │   </span><span style=\"font-weight: bold\">{</span><span style=\"color: #008000; text-decoration-color: #008000\">'日期'</span>: <span style=\"color: #008000; text-decoration-color: #008000\">'2024-06-29'</span>, <span style=\"color: #008000; text-decoration-color: #008000\">'天氣狀態'</span>: <span style=\"color: #008000; text-decoration-color: #008000\">'多雲午後短暫雷陣雨'</span>, <span style=\"color: #008000; text-decoration-color: #008000\">'最高溫'</span>: <span style=\"color: #008000; text-decoration-color: #008000\">'35'</span>, <span style=\"color: #008000; text-decoration-color: #008000\">'最低溫'</span>: <span style=\"color: #008000; text-decoration-color: #008000\">'27'</span><span style=\"font-weight: bold\">}</span>,\n",
              "<span style=\"color: #7fbf7f; text-decoration-color: #7fbf7f\">│   │   </span><span style=\"font-weight: bold\">{</span><span style=\"color: #008000; text-decoration-color: #008000\">'日期'</span>: <span style=\"color: #008000; text-decoration-color: #008000\">'2024-06-30'</span>, <span style=\"color: #008000; text-decoration-color: #008000\">'天氣狀態'</span>: <span style=\"color: #008000; text-decoration-color: #008000\">'晴午後短暫雷陣雨'</span>, <span style=\"color: #008000; text-decoration-color: #008000\">'最高溫'</span>: <span style=\"color: #008000; text-decoration-color: #008000\">'35'</span>, <span style=\"color: #008000; text-decoration-color: #008000\">'最低溫'</span>: <span style=\"color: #008000; text-decoration-color: #008000\">'27'</span><span style=\"font-weight: bold\">}</span>,\n",
              "<span style=\"color: #7fbf7f; text-decoration-color: #7fbf7f\">│   │   </span><span style=\"font-weight: bold\">{</span><span style=\"color: #008000; text-decoration-color: #008000\">'日期'</span>: <span style=\"color: #008000; text-decoration-color: #008000\">'2024-07-01'</span>, <span style=\"color: #008000; text-decoration-color: #008000\">'天氣狀態'</span>: <span style=\"color: #008000; text-decoration-color: #008000\">'多雲午後短暫雷陣雨'</span>, <span style=\"color: #008000; text-decoration-color: #008000\">'最高溫'</span>: <span style=\"color: #008000; text-decoration-color: #008000\">'36'</span>, <span style=\"color: #008000; text-decoration-color: #008000\">'最低溫'</span>: <span style=\"color: #008000; text-decoration-color: #008000\">'27'</span><span style=\"font-weight: bold\">}</span>,\n",
              "<span style=\"color: #7fbf7f; text-decoration-color: #7fbf7f\">│   │   </span><span style=\"font-weight: bold\">{</span><span style=\"color: #008000; text-decoration-color: #008000\">'日期'</span>: <span style=\"color: #008000; text-decoration-color: #008000\">'2024-07-02'</span>, <span style=\"color: #008000; text-decoration-color: #008000\">'天氣狀態'</span>: <span style=\"color: #008000; text-decoration-color: #008000\">'多雲午後短暫雷陣雨'</span>, <span style=\"color: #008000; text-decoration-color: #008000\">'最高溫'</span>: <span style=\"color: #008000; text-decoration-color: #008000\">'36'</span>, <span style=\"color: #008000; text-decoration-color: #008000\">'最低溫'</span>: <span style=\"color: #008000; text-decoration-color: #008000\">'27'</span><span style=\"font-weight: bold\">}</span>,\n",
              "<span style=\"color: #7fbf7f; text-decoration-color: #7fbf7f\">│   │   </span><span style=\"font-weight: bold\">{</span><span style=\"color: #008000; text-decoration-color: #008000\">'日期'</span>: <span style=\"color: #008000; text-decoration-color: #008000\">'2024-07-03'</span>, <span style=\"color: #008000; text-decoration-color: #008000\">'天氣狀態'</span>: <span style=\"color: #008000; text-decoration-color: #008000\">'晴午後短暫雷陣雨'</span>, <span style=\"color: #008000; text-decoration-color: #008000\">'最高溫'</span>: <span style=\"color: #008000; text-decoration-color: #008000\">'36'</span>, <span style=\"color: #008000; text-decoration-color: #008000\">'最低溫'</span>: <span style=\"color: #008000; text-decoration-color: #008000\">'27'</span><span style=\"font-weight: bold\">}</span>\n",
              "<span style=\"color: #7fbf7f; text-decoration-color: #7fbf7f\">│   </span><span style=\"font-weight: bold\">]</span>\n",
              "<span style=\"font-weight: bold\">}</span>\n",
              "</pre>\n"
            ]
          },
          "metadata": {}
        }
      ],
      "source": [
        "def get_weather(city: str):\n",
        "    response = requests.get('https://script.google.com/macros/s/'\n",
        "    'AKfycbzmeU-mQXx7qjQSDjFCslQeT1OSU6HDRnRg9o3NmtZvD02DDhcO9RcK-'\n",
        "    f'K2oOn0ZigX5/exec?city={city}')\n",
        "    return response.json()\n",
        "\n",
        "pprint(get_weather(\"臺北市\"))"
      ]
    },
    {
      "cell_type": "markdown",
      "metadata": {
        "id": "hrm9kjV97eeg"
      },
      "source": [
        "### 將自訂函式包裝成 LangChain 的 tool"
      ]
    },
    {
      "cell_type": "code",
      "execution_count": null,
      "metadata": {
        "id": "RXdiGv64QZjh"
      },
      "outputs": [],
      "source": [
        "from langchain_core.pydantic_v1 import BaseModel, Field\n",
        "class Weather(BaseModel):\n",
        "    city: str = Field(description=\"台灣縣市, 使用繁體中文\")"
      ]
    },
    {
      "cell_type": "code",
      "execution_count": null,
      "metadata": {
        "id": "GMEGo8wjQNiP"
      },
      "outputs": [],
      "source": [
        "weather_tool = StructuredTool.from_function(\n",
        "    func=get_weather,\n",
        "    name=\"weather-data\",\n",
        "    description=\"得到台灣縣市天氣資料\",\n",
        "    args_schema=Weather)"
      ]
    },
    {
      "cell_type": "code",
      "execution_count": null,
      "metadata": {
        "colab": {
          "base_uri": "https://localhost:8080/"
        },
        "id": "wTqMuNk2QS-a",
        "outputId": "53e24311-219f-4825-c5fc-ad7f3e16b9e5"
      },
      "outputs": [
        {
          "output_type": "stream",
          "name": "stdout",
          "text": [
            "工具名稱：weather-data\n",
            "工具描述：得到台灣縣市天氣資料\n",
            "工具參數：{'city': {'title': 'City', 'description': '台灣縣市, 使用繁體中文', 'type': 'string'}}\n"
          ]
        }
      ],
      "source": [
        "print(f'工具名稱：{weather_tool.name}')\n",
        "print(f'工具描述：{weather_tool.description}')\n",
        "print(f'工具參數：{weather_tool.args}')"
      ]
    },
    {
      "cell_type": "markdown",
      "metadata": {
        "id": "8ZRcpy6xlFtF"
      },
      "source": [
        "### 手動執行測試由自訂函式建立的工具"
      ]
    },
    {
      "cell_type": "code",
      "execution_count": null,
      "metadata": {
        "colab": {
          "base_uri": "https://localhost:8080/",
          "height": 217
        },
        "id": "m9PxY6fJQRwp",
        "outputId": "96f642e0-1479-42ca-de02-bf3374dc5035"
      },
      "outputs": [
        {
          "output_type": "display_data",
          "data": {
            "text/plain": [
              "\u001b[1m{\u001b[0m\n",
              "\u001b[2;32m│   \u001b[0m\u001b[32m'臺中市'\u001b[0m: \u001b[1m[\u001b[0m\n",
              "\u001b[2;32m│   │   \u001b[0m\u001b[1m{\u001b[0m\u001b[32m'日期'\u001b[0m: \u001b[32m'2024-06-27'\u001b[0m, \u001b[32m'天氣狀態'\u001b[0m: \u001b[32m'晴時多雲'\u001b[0m, \u001b[32m'最高溫'\u001b[0m: \u001b[32m'34'\u001b[0m, \u001b[32m'最低溫'\u001b[0m: \u001b[32m'27'\u001b[0m\u001b[1m}\u001b[0m,\n",
              "\u001b[2;32m│   │   \u001b[0m\u001b[1m{\u001b[0m\u001b[32m'日期'\u001b[0m: \u001b[32m'2024-06-28'\u001b[0m, \u001b[32m'天氣狀態'\u001b[0m: \u001b[32m'多雲午後短暫雷陣雨'\u001b[0m, \u001b[32m'最高溫'\u001b[0m: \u001b[32m'34'\u001b[0m, \u001b[32m'最低溫'\u001b[0m: \u001b[32m'27'\u001b[0m\u001b[1m}\u001b[0m,\n",
              "\u001b[2;32m│   │   \u001b[0m\u001b[1m{\u001b[0m\u001b[32m'日期'\u001b[0m: \u001b[32m'2024-06-29'\u001b[0m, \u001b[32m'天氣狀態'\u001b[0m: \u001b[32m'多雲午後短暫雷陣雨'\u001b[0m, \u001b[32m'最高溫'\u001b[0m: \u001b[32m'34'\u001b[0m, \u001b[32m'最低溫'\u001b[0m: \u001b[32m'27'\u001b[0m\u001b[1m}\u001b[0m,\n",
              "\u001b[2;32m│   │   \u001b[0m\u001b[1m{\u001b[0m\u001b[32m'日期'\u001b[0m: \u001b[32m'2024-06-30'\u001b[0m, \u001b[32m'天氣狀態'\u001b[0m: \u001b[32m'晴午後短暫雷陣雨'\u001b[0m, \u001b[32m'最高溫'\u001b[0m: \u001b[32m'35'\u001b[0m, \u001b[32m'最低溫'\u001b[0m: \u001b[32m'27'\u001b[0m\u001b[1m}\u001b[0m,\n",
              "\u001b[2;32m│   │   \u001b[0m\u001b[1m{\u001b[0m\u001b[32m'日期'\u001b[0m: \u001b[32m'2024-07-01'\u001b[0m, \u001b[32m'天氣狀態'\u001b[0m: \u001b[32m'多雲午後短暫雷陣雨'\u001b[0m, \u001b[32m'最高溫'\u001b[0m: \u001b[32m'34'\u001b[0m, \u001b[32m'最低溫'\u001b[0m: \u001b[32m'27'\u001b[0m\u001b[1m}\u001b[0m,\n",
              "\u001b[2;32m│   │   \u001b[0m\u001b[1m{\u001b[0m\u001b[32m'日期'\u001b[0m: \u001b[32m'2024-07-02'\u001b[0m, \u001b[32m'天氣狀態'\u001b[0m: \u001b[32m'多雲午後短暫雷陣雨'\u001b[0m, \u001b[32m'最高溫'\u001b[0m: \u001b[32m'34'\u001b[0m, \u001b[32m'最低溫'\u001b[0m: \u001b[32m'28'\u001b[0m\u001b[1m}\u001b[0m,\n",
              "\u001b[2;32m│   │   \u001b[0m\u001b[1m{\u001b[0m\u001b[32m'日期'\u001b[0m: \u001b[32m'2024-07-03'\u001b[0m, \u001b[32m'天氣狀態'\u001b[0m: \u001b[32m'晴午後短暫雷陣雨'\u001b[0m, \u001b[32m'最高溫'\u001b[0m: \u001b[32m'34'\u001b[0m, \u001b[32m'最低溫'\u001b[0m: \u001b[32m'27'\u001b[0m\u001b[1m}\u001b[0m\n",
              "\u001b[2;32m│   \u001b[0m\u001b[1m]\u001b[0m\n",
              "\u001b[1m}\u001b[0m\n"
            ],
            "text/html": [
              "<pre style=\"white-space:pre;overflow-x:auto;line-height:normal;font-family:Menlo,'DejaVu Sans Mono',consolas,'Courier New',monospace\"><span style=\"font-weight: bold\">{</span>\n",
              "<span style=\"color: #7fbf7f; text-decoration-color: #7fbf7f\">│   </span><span style=\"color: #008000; text-decoration-color: #008000\">'臺中市'</span>: <span style=\"font-weight: bold\">[</span>\n",
              "<span style=\"color: #7fbf7f; text-decoration-color: #7fbf7f\">│   │   </span><span style=\"font-weight: bold\">{</span><span style=\"color: #008000; text-decoration-color: #008000\">'日期'</span>: <span style=\"color: #008000; text-decoration-color: #008000\">'2024-06-27'</span>, <span style=\"color: #008000; text-decoration-color: #008000\">'天氣狀態'</span>: <span style=\"color: #008000; text-decoration-color: #008000\">'晴時多雲'</span>, <span style=\"color: #008000; text-decoration-color: #008000\">'最高溫'</span>: <span style=\"color: #008000; text-decoration-color: #008000\">'34'</span>, <span style=\"color: #008000; text-decoration-color: #008000\">'最低溫'</span>: <span style=\"color: #008000; text-decoration-color: #008000\">'27'</span><span style=\"font-weight: bold\">}</span>,\n",
              "<span style=\"color: #7fbf7f; text-decoration-color: #7fbf7f\">│   │   </span><span style=\"font-weight: bold\">{</span><span style=\"color: #008000; text-decoration-color: #008000\">'日期'</span>: <span style=\"color: #008000; text-decoration-color: #008000\">'2024-06-28'</span>, <span style=\"color: #008000; text-decoration-color: #008000\">'天氣狀態'</span>: <span style=\"color: #008000; text-decoration-color: #008000\">'多雲午後短暫雷陣雨'</span>, <span style=\"color: #008000; text-decoration-color: #008000\">'最高溫'</span>: <span style=\"color: #008000; text-decoration-color: #008000\">'34'</span>, <span style=\"color: #008000; text-decoration-color: #008000\">'最低溫'</span>: <span style=\"color: #008000; text-decoration-color: #008000\">'27'</span><span style=\"font-weight: bold\">}</span>,\n",
              "<span style=\"color: #7fbf7f; text-decoration-color: #7fbf7f\">│   │   </span><span style=\"font-weight: bold\">{</span><span style=\"color: #008000; text-decoration-color: #008000\">'日期'</span>: <span style=\"color: #008000; text-decoration-color: #008000\">'2024-06-29'</span>, <span style=\"color: #008000; text-decoration-color: #008000\">'天氣狀態'</span>: <span style=\"color: #008000; text-decoration-color: #008000\">'多雲午後短暫雷陣雨'</span>, <span style=\"color: #008000; text-decoration-color: #008000\">'最高溫'</span>: <span style=\"color: #008000; text-decoration-color: #008000\">'34'</span>, <span style=\"color: #008000; text-decoration-color: #008000\">'最低溫'</span>: <span style=\"color: #008000; text-decoration-color: #008000\">'27'</span><span style=\"font-weight: bold\">}</span>,\n",
              "<span style=\"color: #7fbf7f; text-decoration-color: #7fbf7f\">│   │   </span><span style=\"font-weight: bold\">{</span><span style=\"color: #008000; text-decoration-color: #008000\">'日期'</span>: <span style=\"color: #008000; text-decoration-color: #008000\">'2024-06-30'</span>, <span style=\"color: #008000; text-decoration-color: #008000\">'天氣狀態'</span>: <span style=\"color: #008000; text-decoration-color: #008000\">'晴午後短暫雷陣雨'</span>, <span style=\"color: #008000; text-decoration-color: #008000\">'最高溫'</span>: <span style=\"color: #008000; text-decoration-color: #008000\">'35'</span>, <span style=\"color: #008000; text-decoration-color: #008000\">'最低溫'</span>: <span style=\"color: #008000; text-decoration-color: #008000\">'27'</span><span style=\"font-weight: bold\">}</span>,\n",
              "<span style=\"color: #7fbf7f; text-decoration-color: #7fbf7f\">│   │   </span><span style=\"font-weight: bold\">{</span><span style=\"color: #008000; text-decoration-color: #008000\">'日期'</span>: <span style=\"color: #008000; text-decoration-color: #008000\">'2024-07-01'</span>, <span style=\"color: #008000; text-decoration-color: #008000\">'天氣狀態'</span>: <span style=\"color: #008000; text-decoration-color: #008000\">'多雲午後短暫雷陣雨'</span>, <span style=\"color: #008000; text-decoration-color: #008000\">'最高溫'</span>: <span style=\"color: #008000; text-decoration-color: #008000\">'34'</span>, <span style=\"color: #008000; text-decoration-color: #008000\">'最低溫'</span>: <span style=\"color: #008000; text-decoration-color: #008000\">'27'</span><span style=\"font-weight: bold\">}</span>,\n",
              "<span style=\"color: #7fbf7f; text-decoration-color: #7fbf7f\">│   │   </span><span style=\"font-weight: bold\">{</span><span style=\"color: #008000; text-decoration-color: #008000\">'日期'</span>: <span style=\"color: #008000; text-decoration-color: #008000\">'2024-07-02'</span>, <span style=\"color: #008000; text-decoration-color: #008000\">'天氣狀態'</span>: <span style=\"color: #008000; text-decoration-color: #008000\">'多雲午後短暫雷陣雨'</span>, <span style=\"color: #008000; text-decoration-color: #008000\">'最高溫'</span>: <span style=\"color: #008000; text-decoration-color: #008000\">'34'</span>, <span style=\"color: #008000; text-decoration-color: #008000\">'最低溫'</span>: <span style=\"color: #008000; text-decoration-color: #008000\">'28'</span><span style=\"font-weight: bold\">}</span>,\n",
              "<span style=\"color: #7fbf7f; text-decoration-color: #7fbf7f\">│   │   </span><span style=\"font-weight: bold\">{</span><span style=\"color: #008000; text-decoration-color: #008000\">'日期'</span>: <span style=\"color: #008000; text-decoration-color: #008000\">'2024-07-03'</span>, <span style=\"color: #008000; text-decoration-color: #008000\">'天氣狀態'</span>: <span style=\"color: #008000; text-decoration-color: #008000\">'晴午後短暫雷陣雨'</span>, <span style=\"color: #008000; text-decoration-color: #008000\">'最高溫'</span>: <span style=\"color: #008000; text-decoration-color: #008000\">'34'</span>, <span style=\"color: #008000; text-decoration-color: #008000\">'最低溫'</span>: <span style=\"color: #008000; text-decoration-color: #008000\">'27'</span><span style=\"font-weight: bold\">}</span>\n",
              "<span style=\"color: #7fbf7f; text-decoration-color: #7fbf7f\">│   </span><span style=\"font-weight: bold\">]</span>\n",
              "<span style=\"font-weight: bold\">}</span>\n",
              "</pre>\n"
            ]
          },
          "metadata": {}
        }
      ],
      "source": [
        "pprint(weather_tool.invoke(\"臺中市\"))"
      ]
    },
    {
      "cell_type": "markdown",
      "metadata": {
        "id": "jXbF-KMjlPiU"
      },
      "source": [
        "### 串接流程手動執行工具"
      ]
    },
    {
      "cell_type": "code",
      "execution_count": null,
      "metadata": {
        "colab": {
          "base_uri": "https://localhost:8080/"
        },
        "id": "OS_NpBALQmJ4",
        "outputId": "0a1ea6b0-22ac-4720-e82b-278e211873e0"
      },
      "outputs": [
        {
          "output_type": "stream",
          "name": "stdout",
          "text": [
            "以下是新北市一周的天氣資訊彙整：\n",
            "\n",
            "- **2024-06-27 (星期四)**\n",
            "  - 天氣狀態：晴時多雲\n",
            "  - 最高溫：36°C\n",
            "  - 最低溫：27°C\n",
            "\n",
            "- **2024-06-28 (星期五)**\n",
            "  - 天氣狀態：晴午後短暫雷陣雨\n",
            "  - 最高溫：35°C\n",
            "  - 最低溫：27°C\n",
            "\n",
            "- **2024-06-29 (星期六)**\n",
            "  - 天氣狀態：多雲午後短暫雷陣雨\n",
            "  - 最高溫：34°C\n",
            "  - 最低溫：27°C\n",
            "\n",
            "- **2024-06-30 (星期日)**\n",
            "  - 天氣狀態：晴午後短暫雷陣雨\n",
            "  - 最高溫：34°C\n",
            "  - 最低溫：28°C\n",
            "\n",
            "- **2024-07-01 (星期一)**\n",
            "  - 天氣狀態：多雲午後短暫雷陣雨\n",
            "  - 最高溫：35°C\n",
            "  - 最低溫：27°C\n",
            "\n",
            "- **2024-07-02 (星期二)**\n",
            "  - 天氣狀態：多雲午後短暫雷陣雨\n",
            "  - 最高溫：35°C\n",
            "  - 最低溫：28°C\n",
            "\n",
            "- **2024-07-03 (星期三)**\n",
            "  - 天氣狀態：晴午後短暫雷陣雨\n",
            "  - 最高溫：35°C\n",
            "  - 最低溫：27°C\n",
            "\n",
            "總結來看，新北市在這一週多數天氣為晴午後短暫雷陣雨或多雲午後短暫雷陣雨，氣溫介於27°C至36°C之間。請注意午後可能會有雷陣雨，外出時記得攜帶雨具以防突如其來的降雨。\n"
          ]
        }
      ],
      "source": [
        "weather_template = \"請彙整縣市一周的天氣資訊{weather}並回答天氣資訊\"\n",
        "weather_prompt = ChatPromptTemplate.from_template(weather_template)\n",
        "chain = ({\"weather\": weather_tool}\n",
        "         | weather_prompt | llm | str_parser)\n",
        "print(chain.invoke(\"新北市\"))"
      ]
    },
    {
      "cell_type": "markdown",
      "metadata": {
        "id": "POP6KMkc7sCm"
      },
      "source": [
        "# 使用代理--自動選擇並執行工具"
      ]
    },
    {
      "cell_type": "code",
      "execution_count": null,
      "metadata": {
        "id": "tOVYX58jQu6R"
      },
      "outputs": [],
      "source": [
        "from langchain_core.prompts import MessagesPlaceholder\n",
        "from langchain.agents import (\n",
        "    AgentExecutor,\n",
        "    create_tool_calling_agent)"
      ]
    },
    {
      "cell_type": "code",
      "execution_count": null,
      "metadata": {
        "id": "40xcbJ7iQvZC"
      },
      "outputs": [],
      "source": [
        "prompt = ChatPromptTemplate.from_messages([\n",
        "    ('system','你是一位好助理'),\n",
        "    ('human','{input}'),\n",
        "    # 讓代理把工具執行結果代入的佔位器\n",
        "    MessagesPlaceholder(variable_name=\"agent_scratchpad\")\n",
        "])"
      ]
    },
    {
      "cell_type": "markdown",
      "metadata": {
        "id": "Sy76T1-blYMJ"
      },
      "source": [
        "## 整合語言模型、工具、提示模板建立代理"
      ]
    },
    {
      "cell_type": "code",
      "execution_count": null,
      "metadata": {
        "id": "YhvL8AEAQxWi"
      },
      "outputs": [],
      "source": [
        "tools = [weather_tool, search_run]\n",
        "agent = create_tool_calling_agent(llm=llm,\n",
        "                                  tools=tools,\n",
        "                                  prompt=prompt)"
      ]
    },
    {
      "cell_type": "markdown",
      "metadata": {
        "id": "Rg-gagxCle3G"
      },
      "source": [
        "## 建立可依據模型輸出自動執行工具的代理執行器"
      ]
    },
    {
      "cell_type": "code",
      "execution_count": null,
      "metadata": {
        "id": "12f9xiFnQzsd"
      },
      "outputs": [],
      "source": [
        "agent_executor = AgentExecutor(agent=agent,\n",
        "                               tools=tools,\n",
        "                               # 觀看詳細輸出, 檢視代理實際進行的流程\n",
        "                               verbose=True)"
      ]
    },
    {
      "cell_type": "markdown",
      "metadata": {
        "id": "jHWTSkcdPph2"
      },
      "source": [
        "## 執行代理執行器--語言模型自行選用必要的工具\n",
        "\n",
        "代理執行器負責：\n",
        "\n",
        "1. 讓語言模型生成內容\n",
        "2. 若語言模型回覆要求使用工具時自動執行工具\n",
        "3. 再將工具執行結果與原始問題送回給語言模型。\n",
        "\n",
        "重複上述步驟, 一直到語言模型的回覆不需要使用任何工具即完成。"
      ]
    },
    {
      "cell_type": "code",
      "execution_count": null,
      "metadata": {
        "colab": {
          "base_uri": "https://localhost:8080/"
        },
        "id": "ZW9afYKzQ1BJ",
        "outputId": "89698a70-22b4-47ba-a7a8-44602c4add1d"
      },
      "outputs": [
        {
          "output_type": "stream",
          "name": "stdout",
          "text": [
            "\n",
            "\n",
            "\u001b[1m> Entering new AgentExecutor chain...\u001b[0m\n",
            "\u001b[32;1m\u001b[1;3m\n",
            "Invoking: `duckduckgo_search` with `{'query': '2023金馬獎影帝'}`\n",
            "\n",
            "\n",
            "\u001b[0m\u001b[33;1m\u001b[1;3mEntertainment. 【2023金馬獎】金馬60 得獎名單一覽!. 12歲林品彤成史上年紀最小金馬影后、吳慷仁奪金馬影帝. 2023金馬獎得獎名單、入圍名單一覽!. By Inna Chou. 2023年11月26日. 2023金馬獎頒獎典禮 11 月 25 日在國父紀念館盛大舉行，60 屆金馬獎邀請到許多國際嘉賓 ... 2023年「金馬60」即將在11月25日隆重登場，今年﻿評審團主席不僅請到﻿享譽國際的李安導演擔任，﻿星光大道主持人也率先發布，將由「紅毯女王 ... The 2023 Stanley Cup playoffs was the playoff tournament of the National Hockey League (NHL) for the 2022-23 season.The playoffs began on April 17, 2023, three days after the end of the regular season, and concluded on June 13, 2023, with the Vegas Golden Knights winning their first Stanley Cup in franchise history, defeating the Florida Panthers four games to one in the Stanley Cup Finals. The Eurovision Song Contest 2023 was the 67th edition of the Eurovision Song Contest.It took place in Liverpool, United Kingdom, as Ukraine, the winner of the 2022 contest with the song \"Stefania\" by Kalush Orchestra, was unable to host the event due to the Russian invasion of the country.It was organised by the European Broadcasting Union (EBU), with the British Broadcasting Corporation (BBC ... 本文最初发表于2023年12月1日。 Manohla Dargis于2004年加入时报，是时报首席影评人。她毕业于纽约大学，获得电影研究硕士学位，其作品已被收录在数本书中。点击查看更多关于她的信息。 Alissa Wilkinson是时报影评人。她自2005年以来一直在撰写有关电影的文章。\u001b[0m\u001b[32;1m\u001b[1;3m\n",
            "Invoking: `weather-data` with `{'city': '新北市'}`\n",
            "\n",
            "\n",
            "\u001b[0m\u001b[36;1m\u001b[1;3m{'新北市': [{'日期': '2024-06-27', '天氣狀態': '晴時多雲', '最高溫': '36', '最低溫': '27'}, {'日期': '2024-06-28', '天氣狀態': '晴午後短暫雷陣雨', '最高溫': '35', '最低溫': '27'}, {'日期': '2024-06-29', '天氣狀態': '多雲午後短暫雷陣雨', '最高溫': '34', '最低溫': '27'}, {'日期': '2024-06-30', '天氣狀態': '晴午後短暫雷陣雨', '最高溫': '34', '最低溫': '28'}, {'日期': '2024-07-01', '天氣狀態': '多雲午後短暫雷陣雨', '最高溫': '35', '最低溫': '27'}, {'日期': '2024-07-02', '天氣狀態': '多雲午後短暫雷陣雨', '最高溫': '35', '最低溫': '28'}, {'日期': '2024-07-03', '天氣狀態': '晴午後短暫雷陣雨', '最高溫': '35', '最低溫': '27'}]}\u001b[0m\u001b[32;1m\u001b[1;3m2023年的金馬獎影帝是**吳慷仁**。\n",
            "\n",
            "新北市的天氣如下：\n",
            "\n",
            "- **2024-06-27**: 晴時多雲，氣溫 27°C - 36°C\n",
            "- **2024-06-28**: 晴午後短暫雷陣雨，氣溫 27°C - 35°C\n",
            "- **2024-06-29**: 多雲午後短暫雷陣雨，氣溫 27°C - 34°C\n",
            "- **2024-06-30**: 晴午後短暫雷陣雨，氣溫 28°C - 34°C\n",
            "- **2024-07-01**: 多雲午後短暫雷陣雨，氣溫 27°C - 35°C\n",
            "- **2024-07-02**: 多雲午後短暫雷陣雨，氣溫 28°C - 35°C\n",
            "- **2024-07-03**: 晴午後短暫雷陣雨，氣溫 27°C - 35°C\u001b[0m\n",
            "\n",
            "\u001b[1m> Finished chain.\u001b[0m\n",
            "2023年的金馬獎影帝是**吳慷仁**。\n",
            "\n",
            "新北市的天氣如下：\n",
            "\n",
            "- **2024-06-27**: 晴時多雲，氣溫 27°C - 36°C\n",
            "- **2024-06-28**: 晴午後短暫雷陣雨，氣溫 27°C - 35°C\n",
            "- **2024-06-29**: 多雲午後短暫雷陣雨，氣溫 27°C - 34°C\n",
            "- **2024-06-30**: 晴午後短暫雷陣雨，氣溫 28°C - 34°C\n",
            "- **2024-07-01**: 多雲午後短暫雷陣雨，氣溫 27°C - 35°C\n",
            "- **2024-07-02**: 多雲午後短暫雷陣雨，氣溫 28°C - 35°C\n",
            "- **2024-07-03**: 晴午後短暫雷陣雨，氣溫 27°C - 35°C\n"
          ]
        }
      ],
      "source": [
        "result = agent_executor.invoke({\"input\": \"2023金馬獎影帝是誰?\"\n",
        "                                         \"新北市天氣又如何?\"})\n",
        "print(result['output'])"
      ]
    },
    {
      "cell_type": "markdown",
      "metadata": {
        "id": "NwQxOPsIPizT"
      },
      "source": [
        "## 執行代理執行器--語言模型會判斷不需要工具的協助"
      ]
    },
    {
      "cell_type": "code",
      "execution_count": null,
      "metadata": {
        "colab": {
          "base_uri": "https://localhost:8080/"
        },
        "id": "anrUEZUYRNmV",
        "outputId": "1e723c22-9ca9-45ed-b707-f639953aec8f"
      },
      "outputs": [
        {
          "output_type": "stream",
          "name": "stdout",
          "text": [
            "\n",
            "\n",
            "\u001b[1m> Entering new AgentExecutor chain...\u001b[0m\n",
            "\u001b[32;1m\u001b[1;3m你好！今天有什麼我可以幫忙的嗎？\u001b[0m\n",
            "\n",
            "\u001b[1m> Finished chain.\u001b[0m\n",
            "你好！今天有什麼我可以幫忙的嗎？\n"
          ]
        }
      ],
      "source": [
        "result = agent_executor.invoke({\"input\": \"你好\"})\n",
        "print(result['output'])"
      ]
    },
    {
      "cell_type": "markdown",
      "metadata": {
        "id": "x9FZ8N-QFZaT"
      },
      "source": [
        "# RAG 的概念"
      ]
    },
    {
      "cell_type": "markdown",
      "metadata": {
        "id": "ZpiDIkUi8vl2"
      },
      "source": [
        "透過 **R**etrieval **A**ugmented **G**eneration 的方式攫取其它文件內容擴充語言模型知識來生成結果。"
      ]
    },
    {
      "cell_type": "markdown",
      "metadata": {
        "id": "h2G0o1f29cy4"
      },
      "source": [
        "## 擷取文件--商週立法院爭議的文章"
      ]
    },
    {
      "cell_type": "code",
      "execution_count": null,
      "metadata": {
        "colab": {
          "base_uri": "https://localhost:8080/",
          "height": 182
        },
        "id": "PP5_NXHM-0jh",
        "outputId": "1e84ec66-afff-4ce1-944b-2124be89a420"
      },
      "outputs": [
        {
          "output_type": "stream",
          "name": "stderr",
          "text": [
            "WARNING:langchain_community.utils.user_agent:USER_AGENT environment variable not set, consider setting it to identify your requests.\n"
          ]
        },
        {
          "output_type": "display_data",
          "data": {
            "text/plain": [
              "\u001b[1m[\u001b[0m\n",
              "\u001b[2;32m│   \u001b[0m\u001b[1;35mDocument\u001b[0m\u001b[1m(\u001b[0m\n",
              "\u001b[2;32m│   │   \u001b[0m\u001b[33mpage_content\u001b[0m=\u001b[32m'\\n商業周刊編輯處用戶成長中心整理：國會改革5法是哪5法？\\n是指修正《立法院職權行使法》、《刑法》、《立法院組織法》、《立法委員行為法》、《立法委員互選院長副院長辦法》等5法的部分內容。\\n國會改革法案引發哪些爭議？\\n\\n立委擴權問題：藍白提出的修法草案，可能過度擴張立法權力，侵犯行政權。例如，要求總統定期到立院進行國情報告，可能涉及侵害國家機密或外交機密；增訂「藐視國會罪」，可能影響司法獨立；修改立委互選院長副院長辦法，可能影響監察權。\\n程序問題：國民黨和民眾黨以立法院多數之姿，以不記名的方式舉手表決通過未經充分討論的修法草案。\\n\\n國會改革法案修法時間軸\\n\\n2月20日：本屆立法院開議\\n3月4日：國民黨團提出國會改革法案\\n3月8日：法案交付委員會審查\\n3月29日：民進黨提出自己版本國會改革法案。後經公聽會及委員會逐條審查，最終未納入民進黨版本。\\n4月3日、4月10日、4月11日：民眾黨、國民黨、民進黨立委提出之法案，舉行3次公聽會。\\n4月15日：國民黨版本進入委員會逐條審查，但所有條文保留送黨團協商。\\n5月16日：無共識的保留條文冷凍期結束，立院院長召集協商，藍綠唇槍舌戰不歡而散。\\n5月17日：朝野黨團在立院爆發衝突，二讀通過總統國情報告。\\n5月21日：二讀通過質詢答覆、人事同意權、調查權及聽證權等共21條條文。\\n5月24日：續審立委行使調查權、聽證權等條文，共處理20多條條文。聽證權規範增訂，若在聽證會上有虛偽陳述者得經院會決議處2萬元以上、20萬元以下罰鍰。5月28日：三讀通過總統國情報告常態化、藐視國會罰則、強化國會人事同意權、賦予國會調查權及聽證權。\\n\\n引發爭議的法案內容\\n國會改革法案朝野攻防重點內容：\\n總統國情報告常態化\\n進度：5月28日三讀通過。\\n修法內容：針對《立法院職權行使法》第15-1、15-2條中與總統至立法院進行國情報告相關內容，總統每年須於2月1日前提交國情報告書、3月1日前赴立院報告，新任總統須於就職2週內提書面報告、1個月內到院報告。\\n條文賦予立委於總統報告後，可就不明處提出口頭或書面質詢的權利，總統應即時回答口頭問題、7日內回覆書面問題，重大事項可延長5日。問題提出時間、順序等由黨團協商決定。這項條文的目的在於強化立院監督總統職權，增加問政機制。\\n爭議點：國民黨與民眾黨主張，應賦予立委在總統報告後可「即問即答」的權利；民進黨認為，依據《憲法》規定，立院只是「得」聽取總統國情報告，並未授權立委對總統進行詢答，此改變可能違憲，應由行政院長而非總統負責回應。\\n藐視國會罪\\n進度：5月28日三讀通過。\\n修法內容：修正《立法院職權行使法》第25條內容，被質詢人不得拒絕答復、隱匿資訊或虛偽答復，否則視為藐視國會。經主席制止後仍違反者，可處2萬～20萬元罰鍰，逾期不改正可連續開罰。政府人員如有虛偽陳述，將依法追究刑責。若不服罰鍰處分，可提行政訴訟。對委員反質詢或缺席未獲同意也屬藐視國會，可決議移送彈劾或懲戒。主旨在確保政府有效回應國會質詢，強化國會監督權力。\\n爭議點：民進黨立法院黨團幹事長吳思瑤認為，新增藐視國會罪恐過度擴大國會權力。法務部次長陳明堂質疑，藐視國會罪這可能造成寒蟬效應，使相關機關人員畏懼配合而產生壓力。\\n國會聽證權與調查權\\n進度：5月28日三讀通過。\\n修法內容：修正《立法院職權行使法》第46～48條內容，立法院可設置調查委員會或專案小組，對相關議案或職權事項行使調查權及調閱權。可要求政府機關、法人、團體或相關人員在5日內提供文件資料，拒絕者可處1萬～10萬元罰鍰，並可連續處罰至改正。政府機關違規可移送監察院彈劾。法人團體違規可經院會決議開罰，不服可提行政訴訟。調查權旨在監督政府並獲取相關資訊，強化國會權力。\\n爭議點：憲法未明文賦予國會調查權，且立法院通過的草案中缺乏適當限制，讓政府機關、人民可能難以拒絕調查。此外，調查報告的效力不夠明確，可能與其他機關調查產生重疊，且委員利益迴避的相關規範並不充足，恐讓調查的公正性受質疑。\\n強化人事同意權\\n進度：5月28日三讀通過。\\n修法內容：修正《立法院職權行使法》第29條、第29-1條、第30條、第30-1條、第31條等條文修正草案，強化國會人事同意權。人事同意案須經全體立委1/2以上同意通過，採記名投票表決。審查程序至少1個月，須舉行公聽會徵詢意見。被提名人須提供詳細資料，並在委員會接受詢問說明；被提名人須就資料真實性具結，違反可處2～20萬元罰鍰。總統或行政院長應尊重國會同意結果，未獲同意需另提名人選。\\n爭議點：民進黨認為國民黨及民眾黨的修法版本，會大幅增加立院對人事案的干預，可能壓縮行政權，還會拖延人事任命進度，影響政府運作。\\n以下報導出自中央社：5月28日：國會改革法案藍白人數優勢三讀，場外青鳥行動集結抗議民團發起「青鳥行動」，號召民眾到立法院外抗議國會職權修法，而在藍白挾人數優勢下，朝野歷經4天表決大戰，立法院會28日三讀修正通過立法院職權行使法、刑法部分條文等案，明定被質詢人藐視國會最高罰20萬元等關鍵條文。第11屆的立法院自2月1日展開，藍綠白陣營均將國會職權修正法案列為重中之重，相互攻防。\\n廣告-請繼續往下閱讀\\n\\n\\n\\n\\n立法院司法及法制委員會4月15日初審通過國民黨立委傅崐萁、台灣民眾黨立法院黨團所提立法院職權行使法部分條文修正草案等案，但全數條文保留，交黨團協商。藍白所提國會職權修正法案，經立法院司法及法制委員會召委、國民黨立委吳宗憲主持的朝野黨團協商無共識下，吳宗憲宣告依規定送院會。全案列為5月17日、5月21日、5月24日、5月28日院會的討論事項，而5月17日、5月21日、5月24日均挑燈夜戰，延長開會時間到午夜12時。5月28日的院會，於下午4時59分三讀修正通過立法院職權行使法部分條文，並於晚上10時54分許三讀修正通過刑法部分條文。立法院會處理時，藍白為使議事順利，開會前均在議場門口排隊卡位，朝野在17日的院會爆發激烈肢體衝突，藍綠均有立委受傷送醫，但在此後的院會，朝野則未再發生激烈肢體衝突，多是隔空叫陣。\\n廣告-請繼續往下閱讀\\n\\n\\n\\n而在立法院外，民團發起「青鳥行動」，多次號召民眾到立法院外抗議，要求退回法案，尤其24日晚間，大批民眾塞爆青島東路、濟南路及中山南路，當天晚間9時，主辦單位稱現場達10萬人。立法院會28日開會，會議主席、立法院長韓國瑜在下午3時29分許宣布，立法院職權行使法全案已經過二讀，此時台下的民進黨立委，朝主席台射出象徵「青鳥」的紙飛機。條文進入三讀時，民進黨立委在場中準備紅、藍、白的橡膠大球，上面印著「反惡法、反擴權、反黑箱」的字樣，國民黨立委不甘示弱，在場中拉起「讓陽光照進國會」的布條。三讀條文宣讀完畢後，國民黨團提議三讀文字修正，引來民進黨立委不滿並表達異議，之後則朝主席台丟擲裝著東西的藍色垃圾袋，並高喊三讀無效等口號，國民黨立委則以手板阻擋，後來國民黨團撤銷文字修正，不再處理。針對邀請總統至立法院進行國情報告，經舉手表決，三讀通過條文規定，除要常態化進行，對於立委進行口頭提問時，總統應依序即時回答。至於質詢答復上，三讀條文規範不得反質詢，而被質詢人應有不得拒絕答復、拒絕提供資料等或有其他藐視國會行為的義務，違者處新台幣2萬元以上20萬元以下罰鍰。三讀條文也明定，在立委行使人事同意權部分，規範以記名投票表決、審查期間不得少於1個月，而且被提名人違反相關規定，經院會決議者，得處2萬元以上20萬元以下罰鍰。另外，關於立法院行使調查權部分，三讀條文規定，得要求政府機關、部隊、法人、團體或社會上有關係人員提供相關資料，法人或社會上有關係人員等違反相關規定，得經立法院會決議，處最高10萬元罰鍰。這次修法也增訂立法院行使聽證權的規範，並規定出席聽證會的社會上有關係人員為證言時，為虛偽陳述者，得經立法院會決議，處2萬元以上20萬元以下罰鍰。此外，這次修法也包括刑法，三讀修正通過條文增訂藐視國會罪，規定公務員於立法院聽證或受質詢時，就其所知的重要關係事項，為虛偽陳述者，處1年以下有期徒刑、拘役或20萬元以下罰金。而在立法院會三讀修正通過刑法部分條文後，國民黨立委高喊修法通過、國會重生，民進黨立委則喊釋憲挺人民等口號。5月24日：民團冒雨集結、自組醫療站立法院職權行使法24日續審，民團將在場外上陣宣講，由於現場天雨路滑，不少志工民眾協助布置場地、發送雨衣，另有醫護人員自發到場設立青島東路醫療站，避免意外事故發生。\\n立法院會5月17日、21日二讀表決通過立法院職權行使法部分條文修正草案；24日院會續審立法院職權相關法案，多個民團到立法院外表達訴求。\\n24日上午活動現場天雨路滑，許多民眾冒雨到場參與活動，並自發性協助民團布置場地，現場氣氛和平、理性，也有醫護人員自發組成「青島東路醫療站」，並訂定醫療通道、醫療中立等流程原則，避免意外事故或緊急衝突發生。\\n此外，許多民眾為表達訴求、理念，也自製許多標語，例如「白藍綁架國會」、「真民主能討論」、「我藐視國會」等語詞。\\n1名自發性參與的淡水楊姓女子向中央社記者表示，剛從大學畢業，不希望看到最壞的結果，今天能待到多晚，就會待到多晚；另1名張姓男志工指出，多1個人的力量，就多一份幫助，希望今天能看到實質討論、實質審查。\\n今年17歲的高雄林姓男高中生則表示，自己經過父母同意向學校請假，搭乘高鐵北上，也要到場表達心裡的意見。擔任編劇的譚姓民眾則說，自己曾參與過太陽花學運，現在時空轉變，但同樣的黑箱重複上演。5月21日：民團號召抗議萬人上街頭立法院會21日續處理藍白所提國會職權相關修法，逾40個民團聚集場外要求退回法案、落實程序正義，至晚間8時，人潮蔓延至中山南路慢車道，前聯電董事長曹興誠到場宣講。\\n立法院場外、青島東路側門從上午起聚集超過40個民間團體聲援，聯合舉辦「國會濫權，民主倒退，公民搶救，立院集結」行動，現場不斷湧進支持民眾，有些人帶太陽花和「拒絕黑箱」、「沒有討論 沒有民主」等字條，要求國會尊重人民心聲。\\n台北市下午曾下大雨，聲援活動民眾撐起傘、穿雨衣持續在場守候。至晚間8時，參與活動人潮逐漸變多，連同監察院旁中山南路慢車道都擠滿人潮，甚至有民眾站在對面路口聲援，據記者現場觀察，民團在青島東路舉辦活動場地也同樣已擠滿聲援活動民眾。\\n民團提5訴求，包含國會改革不應破壞權力分立，不應侵害人民權益；退回國會三法，由委員會重審，517議事錄不予承認；拒絕立院變人大，抗議藍白沒收民主；委員會應實質討論各黨提案：停止濫用逕付二讀、全案保留、封殺提案、散會動議；沒有討論，不是民主，全案保留，等於沒審，封殺提案，威權復辟。\\n此外，前聯電董事長曹興誠在晚間特別到場宣講，他說，中共已對台透過3形式發動戰爭，包含軍事戰、輿論戰、法律戰。\\n曹興誠指出，軍事戰就是指透過軍事武力讓台灣害怕妥協，輿論戰就是利用與中共友好媒體名嘴，汙衊有名望的人，台灣不會要破壞中共現況，但中共卻每天破壞台灣現況。\\n曹興誠表示，至於法律戰，與中共友好者取得立法院多數，想擴充立法權壓制行政權等，據他香港友人稱目前在港都不太敢亂說話，若藍營立委希望台灣保持現狀不要讓中共統治，就不要讓立院變成中共狗腿，呼籲群眾若藍營立委仍執迷不悟，希望有所抗爭。5月17日：朝野爆發激烈衝突6立委送醫立法院會17日處理國會改革法案，朝野從清晨起爆發多起肢體衝突，傍晚開始進行處理，晚間7時左右爆發嚴重衝突，造成至少6位立委送醫。\\n立法院會排定處理國民黨團、民眾黨團所提攸關國會改革的相關法案，包括立法院職權行使法、刑法、立法委員互選院長副院長辦法等修法。\\n由於修法內容中的「藐視國會罪」、「國會調查權」、「總統國情報告」等，朝野歧見極大，占人數優勢的國民黨團、民眾黨團從15日開始在議場前排班，確保法案得以順利通過，民進黨也動員全力阻擋，讓立法院瀰漫山雨欲來風滿樓的氣氛。\\n立法院果然17日一早就爆發衝突，民進黨立法院黨團於上午6時45分左右突然現身議場前，和國民黨團爆發嚴重推擠。最終國民黨團、民眾黨團憑藉著人數優勢，順利占據議場主席台。\\n上午10時8分，立法院長韓國瑜才在國民黨立委護送下進入議場，宣布開會。在宣讀完協商結論後，並未進行國是論壇，而是直接進入報告事項，在處理逕付二讀、進行表決時，民進黨立委欲攻上主席台，朝野數度爆發推擠。\\n直到中午，院會議程一直未進入討論事項，韓國瑜在11時49分宣布休息、朝野協商，但朝野黨團對於議程、法案都無法達成共識，韓國瑜宣布休息用餐到下午2時，再繼續協商。\\n下午2時53分，韓國瑜回到議場後，藍綠立委再次爆發推擠衝突。韓國瑜表示，因各黨團還在溝通，院會繼續休息協商，並在下午3時30分第3度召集朝野協商。\\n第3度協商最終仍然破裂，朝野立委下午5時後陸續回到議場，表決通過延長開會時間至處理完所有國會改革法案為止後，開始逐條討論、發言、表決，過程中一度爆發嚴重肢體衝突，包括民進黨立委沈伯洋等6名藍綠立委送醫。\\n藍白立委強力排除民進黨立委抗爭，直到深夜10時，仍持續挑燈夜戰，逐條審議立法院職權行使法等修法。\\n此外，場外也陸續有民眾聚集，高喊「韓國瑜下台」等口號，目前已經有上百名民眾集結，現場也有大批警力進駐，並拉起拒馬。綠營：院會發生無法得知條文內容等4可議程序民進黨立院黨團幹事長吳思瑤會後表示，17日院會發生表決時無法得知條文內容、舉手表決等4大可議程序，立法院長韓國瑜應虛心反省，未處理完的條文還很多，韓國瑜還有機會。\\n藍白立院黨團17日利用席次優勢，以「舉手表決」方式處理藍白提出的國會職權修法相關法案，院會一直進行到近深夜12時，立法院長韓國瑜宣告休息，5月21日繼續開會。\\n吳思瑤在會後表示，台灣的民主在倒退，國會正在沉淪。立法院17日創下4個可議的程序處理，包括，一是未經立法院長主持朝野協商及逐條討論就強行表決，創下憲政史上及國會史上的惡例。\\n她表示，二是國民黨與民眾黨提出的國會擴權法案，是到了表決最後一刻才喬出來的，在表決時根本無法得知條文內容，這是國會史上第一次表決前這麼黑箱。三是以舉手進行表決（編按：即代表不記名表決），立法院上一次舉手表決是35年前的1989年，國民黨團總召傅崐萁率團赴中，卻帶回來中國人大的表決方式。\\n吳思瑤說，最後是二讀條文內容未經院會宣讀，依照立院職權行使法第9條，二讀條文都必須進行宣讀，但立法院長韓國瑜和立法院秘書長周萬來，刻意選擇不宣讀條文。\\n此外，吳思瑤也表示，這是她第一次看到立法院有這麼多警察出沒，更離譜的是，她和黨團總召柯建銘、黨團書記長莊瑞雄在主席休息室時，看到傅崐萁打電話，向電話另一頭說「給我多派一些警察過來」，公然指揮警察，「難道現在立法院長是傅崐萁嗎？」\\n她強調，立法院前院長王金平即使面對318學運，都不會動用警察權，王金平說動用警察權就是破壞台灣民主制度，韓國瑜、傅崐萁跟民眾黨團總召黃國昌是台灣民主的罪人。\\n吳思瑤指出，立法院外有無數自發性聲援的年輕世代，台灣民主不會失敗，也許表決會挫敗，但台灣民主終將勝利，民進黨黨團也要為在醫院救治的立委祝福集氣。\\n對於5月21日是否會有議事抗爭，吳思瑤表示，韓國瑜應想想昨天院會的失序是否要延續，應好好審視議事處理是否需要再強化，應虛心反省是否依舊要硬幹；韓國瑜可以召開朝野協商，把委員會沒審查被沒收的條文都討論完、完備程序，國會會不會發生暴力事件，存在韓國瑜一念之間。藍營：執政黨龐大壓力下  邁開國會改革第一步國民黨團總召傅崐萁說，在執政黨龐大壓力下，邁開國會改革第一步，會繼續努力讓修法完成，不負民眾所託。\\n17日晚間約9時起，有民眾自發、陸續集結在立法院外的青島東路上，高喊「沒有討論、不是民主」、「暴力鴨霸歧視仔、國民黨死性不改」等口號，到晚間11時多，民眾已經擠滿青島東路，警方也加派警力戒備。\\n院會一直進行到近深夜12時，立法院長韓國瑜宣告休息，5月21日繼續開會。\\n國民黨立法院黨團也隨即舉行記者會。傅崐萁說，民眾期待的國會改革17日正式推動，在執政黨龐大資源、壓力下，國民黨團、民眾黨團堅持奮戰到底，在種種威脅、恐嚇中撐下來，邁開國會改革第一步。\\n他表示，國民黨團會再接再厲，回應民眾殷殷期盼，把這些弊案的真相還給人民，願意流血流汗，讓國家走向光明正道，把貪污、腐敗全部揭發出來。\\n傅崐萁說，韓國瑜頂下這麼大壓力，面對民進黨咄咄逼人的威嚇下，順利把院會推動到深夜12時，修法進行到第23條，會繼續努力讓修法完成，不負民眾所託。\\n他指出，總統當選人賴清德盼咐民進黨團要轉守為攻，而民進黨團就在17日立法院用9波暴力手段攻擊在野黨，甚至對韓國瑜人身攻擊、禁錮韓國瑜在院長室內。\\n國民黨立法院黨團書記長洪孟楷說，相關國會改革草案是經過委員會、朝野協商、3次公聽會，於法、於規、於情、於理都能處理，發動9波衝突的民進黨，當家鬧事該被譴責，先動手的人要被究責。逐條討論是正常程序，下週二希望民進黨團不要惡意製造衝突。\\n國民黨立委陳玉珍表示，逐條討論時，民進黨立委的發言內容都跟法案無關、只是謾罵，可見民進黨無心討論，純粹反對國會改革，下週二時賴清德已就任總統，盼能用新任總統的高度告訴民進黨團，當家不鬧事，用民主程序完成國會改革。\\n參考資料：中央社1,2,3,4,5,6,7,8,9、立法院議事暨公報資訊網\\n責任編輯：倪旻勤\\n'\u001b[0m,\n",
              "\u001b[2;32m│   │   \u001b[0m\u001b[33mmetadata\u001b[0m=\u001b[1m{\u001b[0m\n",
              "\u001b[2;32m│   │   │   \u001b[0m\u001b[32m'source'\u001b[0m: \u001b[32m'https://www.businessweekly.com.tw/focus/blog/3015636'\u001b[0m\n",
              "\u001b[2;32m│   │   \u001b[0m\u001b[1m}\u001b[0m\n",
              "\u001b[2;32m│   \u001b[0m\u001b[1m)\u001b[0m\n",
              "\u001b[1m]\u001b[0m\n"
            ],
            "text/html": [
              "<pre style=\"white-space:pre;overflow-x:auto;line-height:normal;font-family:Menlo,'DejaVu Sans Mono',consolas,'Courier New',monospace\"><span style=\"font-weight: bold\">[</span>\n",
              "<span style=\"color: #7fbf7f; text-decoration-color: #7fbf7f\">│   </span><span style=\"color: #800080; text-decoration-color: #800080; font-weight: bold\">Document</span><span style=\"font-weight: bold\">(</span>\n",
              "<span style=\"color: #7fbf7f; text-decoration-color: #7fbf7f\">│   │   </span><span style=\"color: #808000; text-decoration-color: #808000\">page_content</span>=<span style=\"color: #008000; text-decoration-color: #008000\">'\\n商業周刊編輯處用戶成長中心整理：國會改革5法是哪5法？\\n是指修正《立法院職權行使法》、《刑法》、《立法院組織法》、《立法委員行為法》、《立法委員互選院長副院長辦法》等5法的部分內容。\\n國會改革法案引發哪些爭議？\\n\\n立委擴權問題：藍白提出的修法草案，可能過度擴張立法權力，侵犯行政權。例如，要求總統定期到立院進行國情報告，可能涉及侵害國家機密或外交機密；增訂「藐視國會罪」，可能影響司法獨立；修改立委互選院長副院長辦法，可能影響監察權。\\n程序問題：國民黨和民眾黨以立法院多數之姿，以不記名的方式舉手表決通過未經充分討論的修法草案。\\n\\n國會改革法案修法時間軸\\n\\n2月20日：本屆立法院開議\\n3月4日：國民黨團提出國會改革法案\\n3月8日：法案交付委員會審查\\n3月29日：民進黨提出自己版本國會改革法案。後經公聽會及委員會逐條審查，最終未納入民進黨版本。\\n4月3日、4月10日、4月11日：民眾黨、國民黨、民進黨立委提出之法案，舉行3次公聽會。\\n4月15日：國民黨版本進入委員會逐條審查，但所有條文保留送黨團協商。\\n5月16日：無共識的保留條文冷凍期結束，立院院長召集協商，藍綠唇槍舌戰不歡而散。\\n5月17日：朝野黨團在立院爆發衝突，二讀通過總統國情報告。\\n5月21日：二讀通過質詢答覆、人事同意權、調查權及聽證權等共21條條文。\\n5月24日：續審立委行使調查權、聽證權等條文，共處理20多條條文。聽證權規範增訂，若在聽證會上有虛偽陳述者得經院會決議處2萬元以上、20萬元以下罰鍰。5月28日：三讀通過總統國情報告常態化、藐視國會罰則、強化國會人事同意權、賦予國會調查權及聽證權。\\n\\n引發爭議的法案內容\\n國會改革法案朝野攻防重點內容：\\n總統國情報告常態化\\n進度：5月28日三讀通過。\\n修法內容：針對《立法院職權行使法》第15-1、15-2條中與總統至立法院進行國情報告相關內容，總統每年須於2月1日前提交國情報告書、3月1日前赴立院報告，新任總統須於就職2週內提書面報告、1個月內到院報告。\\n條文賦予立委於總統報告後，可就不明處提出口頭或書面質詢的權利，總統應即時回答口頭問題、7日內回覆書面問題，重大事項可延長5日。問題提出時間、順序等由黨團協商決定。這項條文的目的在於強化立院監督總統職權，增加問政機制。\\n爭議點：國民黨與民眾黨主張，應賦予立委在總統報告後可「即問即答」的權利；民進黨認為，依據《憲法》規定，立院只是「得」聽取總統國情報告，並未授權立委對總統進行詢答，此改變可能違憲，應由行政院長而非總統負責回應。\\n藐視國會罪\\n進度：5月28日三讀通過。\\n修法內容：修正《立法院職權行使法》第25條內容，被質詢人不得拒絕答復、隱匿資訊或虛偽答復，否則視為藐視國會。經主席制止後仍違反者，可處2萬～20萬元罰鍰，逾期不改正可連續開罰。政府人員如有虛偽陳述，將依法追究刑責。若不服罰鍰處分，可提行政訴訟。對委員反質詢或缺席未獲同意也屬藐視國會，可決議移送彈劾或懲戒。主旨在確保政府有效回應國會質詢，強化國會監督權力。\\n爭議點：民進黨立法院黨團幹事長吳思瑤認為，新增藐視國會罪恐過度擴大國會權力。法務部次長陳明堂質疑，藐視國會罪這可能造成寒蟬效應，使相關機關人員畏懼配合而產生壓力。\\n國會聽證權與調查權\\n進度：5月28日三讀通過。\\n修法內容：修正《立法院職權行使法》第46～48條內容，立法院可設置調查委員會或專案小組，對相關議案或職權事項行使調查權及調閱權。可要求政府機關、法人、團體或相關人員在5日內提供文件資料，拒絕者可處1萬～10萬元罰鍰，並可連續處罰至改正。政府機關違規可移送監察院彈劾。法人團體違規可經院會決議開罰，不服可提行政訴訟。調查權旨在監督政府並獲取相關資訊，強化國會權力。\\n爭議點：憲法未明文賦予國會調查權，且立法院通過的草案中缺乏適當限制，讓政府機關、人民可能難以拒絕調查。此外，調查報告的效力不夠明確，可能與其他機關調查產生重疊，且委員利益迴避的相關規範並不充足，恐讓調查的公正性受質疑。\\n強化人事同意權\\n進度：5月28日三讀通過。\\n修法內容：修正《立法院職權行使法》第29條、第29-1條、第30條、第30-1條、第31條等條文修正草案，強化國會人事同意權。人事同意案須經全體立委1/2以上同意通過，採記名投票表決。審查程序至少1個月，須舉行公聽會徵詢意見。被提名人須提供詳細資料，並在委員會接受詢問說明；被提名人須就資料真實性具結，違反可處2～20萬元罰鍰。總統或行政院長應尊重國會同意結果，未獲同意需另提名人選。\\n爭議點：民進黨認為國民黨及民眾黨的修法版本，會大幅增加立院對人事案的干預，可能壓縮行政權，還會拖延人事任命進度，影響政府運作。\\n以下報導出自中央社：5月28日：國會改革法案藍白人數優勢三讀，場外青鳥行動集結抗議民團發起「青鳥行動」，號召民眾到立法院外抗議國會職權修法，而在藍白挾人數優勢下，朝野歷經4天表決大戰，立法院會28日三讀修正通過立法院職權行使法、刑法部分條文等案，明定被質詢人藐視國會最高罰20萬元等關鍵條文。第11屆的立法院自2月1日展開，藍綠白陣營均將國會職權修正法案列為重中之重，相互攻防。\\n廣告-請繼續往下閱讀\\n\\n\\n\\n\\n立法院司法及法制委員會4月15日初審通過國民黨立委傅崐萁、台灣民眾黨立法院黨團所提立法院職權行使法部分條文修正草案等案，但全數條文保留，交黨團協商。藍白所提國會職權修正法案，經立法院司法及法制委員會召委、國民黨立委吳宗憲主持的朝野黨團協商無共識下，吳宗憲宣告依規定送院會。全案列為5月17日、5月21日、5月24日、5月28日院會的討論事項，而5月17日、5月21日、5月24日均挑燈夜戰，延長開會時間到午夜12時。5月28日的院會，於下午4時59分三讀修正通過立法院職權行使法部分條文，並於晚上10時54分許三讀修正通過刑法部分條文。立法院會處理時，藍白為使議事順利，開會前均在議場門口排隊卡位，朝野在17日的院會爆發激烈肢體衝突，藍綠均有立委受傷送醫，但在此後的院會，朝野則未再發生激烈肢體衝突，多是隔空叫陣。\\n廣告-請繼續往下閱讀\\n\\n\\n\\n而在立法院外，民團發起「青鳥行動」，多次號召民眾到立法院外抗議，要求退回法案，尤其24日晚間，大批民眾塞爆青島東路、濟南路及中山南路，當天晚間9時，主辦單位稱現場達10萬人。立法院會28日開會，會議主席、立法院長韓國瑜在下午3時29分許宣布，立法院職權行使法全案已經過二讀，此時台下的民進黨立委，朝主席台射出象徵「青鳥」的紙飛機。條文進入三讀時，民進黨立委在場中準備紅、藍、白的橡膠大球，上面印著「反惡法、反擴權、反黑箱」的字樣，國民黨立委不甘示弱，在場中拉起「讓陽光照進國會」的布條。三讀條文宣讀完畢後，國民黨團提議三讀文字修正，引來民進黨立委不滿並表達異議，之後則朝主席台丟擲裝著東西的藍色垃圾袋，並高喊三讀無效等口號，國民黨立委則以手板阻擋，後來國民黨團撤銷文字修正，不再處理。針對邀請總統至立法院進行國情報告，經舉手表決，三讀通過條文規定，除要常態化進行，對於立委進行口頭提問時，總統應依序即時回答。至於質詢答復上，三讀條文規範不得反質詢，而被質詢人應有不得拒絕答復、拒絕提供資料等或有其他藐視國會行為的義務，違者處新台幣2萬元以上20萬元以下罰鍰。三讀條文也明定，在立委行使人事同意權部分，規範以記名投票表決、審查期間不得少於1個月，而且被提名人違反相關規定，經院會決議者，得處2萬元以上20萬元以下罰鍰。另外，關於立法院行使調查權部分，三讀條文規定，得要求政府機關、部隊、法人、團體或社會上有關係人員提供相關資料，法人或社會上有關係人員等違反相關規定，得經立法院會決議，處最高10萬元罰鍰。這次修法也增訂立法院行使聽證權的規範，並規定出席聽證會的社會上有關係人員為證言時，為虛偽陳述者，得經立法院會決議，處2萬元以上20萬元以下罰鍰。此外，這次修法也包括刑法，三讀修正通過條文增訂藐視國會罪，規定公務員於立法院聽證或受質詢時，就其所知的重要關係事項，為虛偽陳述者，處1年以下有期徒刑、拘役或20萬元以下罰金。而在立法院會三讀修正通過刑法部分條文後，國民黨立委高喊修法通過、國會重生，民進黨立委則喊釋憲挺人民等口號。5月24日：民團冒雨集結、自組醫療站立法院職權行使法24日續審，民團將在場外上陣宣講，由於現場天雨路滑，不少志工民眾協助布置場地、發送雨衣，另有醫護人員自發到場設立青島東路醫療站，避免意外事故發生。\\n立法院會5月17日、21日二讀表決通過立法院職權行使法部分條文修正草案；24日院會續審立法院職權相關法案，多個民團到立法院外表達訴求。\\n24日上午活動現場天雨路滑，許多民眾冒雨到場參與活動，並自發性協助民團布置場地，現場氣氛和平、理性，也有醫護人員自發組成「青島東路醫療站」，並訂定醫療通道、醫療中立等流程原則，避免意外事故或緊急衝突發生。\\n此外，許多民眾為表達訴求、理念，也自製許多標語，例如「白藍綁架國會」、「真民主能討論」、「我藐視國會」等語詞。\\n1名自發性參與的淡水楊姓女子向中央社記者表示，剛從大學畢業，不希望看到最壞的結果，今天能待到多晚，就會待到多晚；另1名張姓男志工指出，多1個人的力量，就多一份幫助，希望今天能看到實質討論、實質審查。\\n今年17歲的高雄林姓男高中生則表示，自己經過父母同意向學校請假，搭乘高鐵北上，也要到場表達心裡的意見。擔任編劇的譚姓民眾則說，自己曾參與過太陽花學運，現在時空轉變，但同樣的黑箱重複上演。5月21日：民團號召抗議萬人上街頭立法院會21日續處理藍白所提國會職權相關修法，逾40個民團聚集場外要求退回法案、落實程序正義，至晚間8時，人潮蔓延至中山南路慢車道，前聯電董事長曹興誠到場宣講。\\n立法院場外、青島東路側門從上午起聚集超過40個民間團體聲援，聯合舉辦「國會濫權，民主倒退，公民搶救，立院集結」行動，現場不斷湧進支持民眾，有些人帶太陽花和「拒絕黑箱」、「沒有討論 沒有民主」等字條，要求國會尊重人民心聲。\\n台北市下午曾下大雨，聲援活動民眾撐起傘、穿雨衣持續在場守候。至晚間8時，參與活動人潮逐漸變多，連同監察院旁中山南路慢車道都擠滿人潮，甚至有民眾站在對面路口聲援，據記者現場觀察，民團在青島東路舉辦活動場地也同樣已擠滿聲援活動民眾。\\n民團提5訴求，包含國會改革不應破壞權力分立，不應侵害人民權益；退回國會三法，由委員會重審，517議事錄不予承認；拒絕立院變人大，抗議藍白沒收民主；委員會應實質討論各黨提案：停止濫用逕付二讀、全案保留、封殺提案、散會動議；沒有討論，不是民主，全案保留，等於沒審，封殺提案，威權復辟。\\n此外，前聯電董事長曹興誠在晚間特別到場宣講，他說，中共已對台透過3形式發動戰爭，包含軍事戰、輿論戰、法律戰。\\n曹興誠指出，軍事戰就是指透過軍事武力讓台灣害怕妥協，輿論戰就是利用與中共友好媒體名嘴，汙衊有名望的人，台灣不會要破壞中共現況，但中共卻每天破壞台灣現況。\\n曹興誠表示，至於法律戰，與中共友好者取得立法院多數，想擴充立法權壓制行政權等，據他香港友人稱目前在港都不太敢亂說話，若藍營立委希望台灣保持現狀不要讓中共統治，就不要讓立院變成中共狗腿，呼籲群眾若藍營立委仍執迷不悟，希望有所抗爭。5月17日：朝野爆發激烈衝突6立委送醫立法院會17日處理國會改革法案，朝野從清晨起爆發多起肢體衝突，傍晚開始進行處理，晚間7時左右爆發嚴重衝突，造成至少6位立委送醫。\\n立法院會排定處理國民黨團、民眾黨團所提攸關國會改革的相關法案，包括立法院職權行使法、刑法、立法委員互選院長副院長辦法等修法。\\n由於修法內容中的「藐視國會罪」、「國會調查權」、「總統國情報告」等，朝野歧見極大，占人數優勢的國民黨團、民眾黨團從15日開始在議場前排班，確保法案得以順利通過，民進黨也動員全力阻擋，讓立法院瀰漫山雨欲來風滿樓的氣氛。\\n立法院果然17日一早就爆發衝突，民進黨立法院黨團於上午6時45分左右突然現身議場前，和國民黨團爆發嚴重推擠。最終國民黨團、民眾黨團憑藉著人數優勢，順利占據議場主席台。\\n上午10時8分，立法院長韓國瑜才在國民黨立委護送下進入議場，宣布開會。在宣讀完協商結論後，並未進行國是論壇，而是直接進入報告事項，在處理逕付二讀、進行表決時，民進黨立委欲攻上主席台，朝野數度爆發推擠。\\n直到中午，院會議程一直未進入討論事項，韓國瑜在11時49分宣布休息、朝野協商，但朝野黨團對於議程、法案都無法達成共識，韓國瑜宣布休息用餐到下午2時，再繼續協商。\\n下午2時53分，韓國瑜回到議場後，藍綠立委再次爆發推擠衝突。韓國瑜表示，因各黨團還在溝通，院會繼續休息協商，並在下午3時30分第3度召集朝野協商。\\n第3度協商最終仍然破裂，朝野立委下午5時後陸續回到議場，表決通過延長開會時間至處理完所有國會改革法案為止後，開始逐條討論、發言、表決，過程中一度爆發嚴重肢體衝突，包括民進黨立委沈伯洋等6名藍綠立委送醫。\\n藍白立委強力排除民進黨立委抗爭，直到深夜10時，仍持續挑燈夜戰，逐條審議立法院職權行使法等修法。\\n此外，場外也陸續有民眾聚集，高喊「韓國瑜下台」等口號，目前已經有上百名民眾集結，現場也有大批警力進駐，並拉起拒馬。綠營：院會發生無法得知條文內容等4可議程序民進黨立院黨團幹事長吳思瑤會後表示，17日院會發生表決時無法得知條文內容、舉手表決等4大可議程序，立法院長韓國瑜應虛心反省，未處理完的條文還很多，韓國瑜還有機會。\\n藍白立院黨團17日利用席次優勢，以「舉手表決」方式處理藍白提出的國會職權修法相關法案，院會一直進行到近深夜12時，立法院長韓國瑜宣告休息，5月21日繼續開會。\\n吳思瑤在會後表示，台灣的民主在倒退，國會正在沉淪。立法院17日創下4個可議的程序處理，包括，一是未經立法院長主持朝野協商及逐條討論就強行表決，創下憲政史上及國會史上的惡例。\\n她表示，二是國民黨與民眾黨提出的國會擴權法案，是到了表決最後一刻才喬出來的，在表決時根本無法得知條文內容，這是國會史上第一次表決前這麼黑箱。三是以舉手進行表決（編按：即代表不記名表決），立法院上一次舉手表決是35年前的1989年，國民黨團總召傅崐萁率團赴中，卻帶回來中國人大的表決方式。\\n吳思瑤說，最後是二讀條文內容未經院會宣讀，依照立院職權行使法第9條，二讀條文都必須進行宣讀，但立法院長韓國瑜和立法院秘書長周萬來，刻意選擇不宣讀條文。\\n此外，吳思瑤也表示，這是她第一次看到立法院有這麼多警察出沒，更離譜的是，她和黨團總召柯建銘、黨團書記長莊瑞雄在主席休息室時，看到傅崐萁打電話，向電話另一頭說「給我多派一些警察過來」，公然指揮警察，「難道現在立法院長是傅崐萁嗎？」\\n她強調，立法院前院長王金平即使面對318學運，都不會動用警察權，王金平說動用警察權就是破壞台灣民主制度，韓國瑜、傅崐萁跟民眾黨團總召黃國昌是台灣民主的罪人。\\n吳思瑤指出，立法院外有無數自發性聲援的年輕世代，台灣民主不會失敗，也許表決會挫敗，但台灣民主終將勝利，民進黨黨團也要為在醫院救治的立委祝福集氣。\\n對於5月21日是否會有議事抗爭，吳思瑤表示，韓國瑜應想想昨天院會的失序是否要延續，應好好審視議事處理是否需要再強化，應虛心反省是否依舊要硬幹；韓國瑜可以召開朝野協商，把委員會沒審查被沒收的條文都討論完、完備程序，國會會不會發生暴力事件，存在韓國瑜一念之間。藍營：執政黨龐大壓力下  邁開國會改革第一步國民黨團總召傅崐萁說，在執政黨龐大壓力下，邁開國會改革第一步，會繼續努力讓修法完成，不負民眾所託。\\n17日晚間約9時起，有民眾自發、陸續集結在立法院外的青島東路上，高喊「沒有討論、不是民主」、「暴力鴨霸歧視仔、國民黨死性不改」等口號，到晚間11時多，民眾已經擠滿青島東路，警方也加派警力戒備。\\n院會一直進行到近深夜12時，立法院長韓國瑜宣告休息，5月21日繼續開會。\\n國民黨立法院黨團也隨即舉行記者會。傅崐萁說，民眾期待的國會改革17日正式推動，在執政黨龐大資源、壓力下，國民黨團、民眾黨團堅持奮戰到底，在種種威脅、恐嚇中撐下來，邁開國會改革第一步。\\n他表示，國民黨團會再接再厲，回應民眾殷殷期盼，把這些弊案的真相還給人民，願意流血流汗，讓國家走向光明正道，把貪污、腐敗全部揭發出來。\\n傅崐萁說，韓國瑜頂下這麼大壓力，面對民進黨咄咄逼人的威嚇下，順利把院會推動到深夜12時，修法進行到第23條，會繼續努力讓修法完成，不負民眾所託。\\n他指出，總統當選人賴清德盼咐民進黨團要轉守為攻，而民進黨團就在17日立法院用9波暴力手段攻擊在野黨，甚至對韓國瑜人身攻擊、禁錮韓國瑜在院長室內。\\n國民黨立法院黨團書記長洪孟楷說，相關國會改革草案是經過委員會、朝野協商、3次公聽會，於法、於規、於情、於理都能處理，發動9波衝突的民進黨，當家鬧事該被譴責，先動手的人要被究責。逐條討論是正常程序，下週二希望民進黨團不要惡意製造衝突。\\n國民黨立委陳玉珍表示，逐條討論時，民進黨立委的發言內容都跟法案無關、只是謾罵，可見民進黨無心討論，純粹反對國會改革，下週二時賴清德已就任總統，盼能用新任總統的高度告訴民進黨團，當家不鬧事，用民主程序完成國會改革。\\n參考資料：中央社1,2,3,4,5,6,7,8,9、立法院議事暨公報資訊網\\n責任編輯：倪旻勤\\n'</span>,\n",
              "<span style=\"color: #7fbf7f; text-decoration-color: #7fbf7f\">│   │   </span><span style=\"color: #808000; text-decoration-color: #808000\">metadata</span>=<span style=\"font-weight: bold\">{</span>\n",
              "<span style=\"color: #7fbf7f; text-decoration-color: #7fbf7f\">│   │   │   </span><span style=\"color: #008000; text-decoration-color: #008000\">'source'</span>: <span style=\"color: #008000; text-decoration-color: #008000\">'https://www.businessweekly.com.tw/focus/blog/3015636'</span>\n",
              "<span style=\"color: #7fbf7f; text-decoration-color: #7fbf7f\">│   │   </span><span style=\"font-weight: bold\">}</span>\n",
              "<span style=\"color: #7fbf7f; text-decoration-color: #7fbf7f\">│   </span><span style=\"font-weight: bold\">)</span>\n",
              "<span style=\"font-weight: bold\">]</span>\n",
              "</pre>\n"
            ]
          },
          "metadata": {}
        }
      ],
      "source": [
        "import bs4\n",
        "from langchain_community.document_loaders import WebBaseLoader\n",
        "# 匯入網址內容\n",
        "loader = WebBaseLoader(\n",
        "    web_path=\"https://www.businessweekly.com.tw/focus/blog/3015636\",\n",
        "    bs_kwargs=dict(\n",
        "        parse_only=bs4.SoupStrainer(\n",
        "            class_=(\"Single-article-intro\",\"Single-article WebContent\")\n",
        "            )\n",
        "        ),\n",
        "    )\n",
        "documents = loader.load()\n",
        "pprint(documents, expand_all=True)"
      ]
    },
    {
      "cell_type": "markdown",
      "metadata": {
        "id": "IpZ2VjbJ9gUe"
      },
      "source": [
        "## 切割文件"
      ]
    },
    {
      "cell_type": "code",
      "execution_count": null,
      "metadata": {
        "colab": {
          "base_uri": "https://localhost:8080/",
          "height": 1000
        },
        "id": "c1-r71xVVP2H",
        "outputId": "558fe8f0-e637-4067-ca75-91eb438af0b1"
      },
      "outputs": [
        {
          "output_type": "display_data",
          "data": {
            "text/plain": [
              "\u001b[1m[\u001b[0m\n",
              "\u001b[2;32m│   \u001b[0m\u001b[1;35mDocument\u001b[0m\u001b[1m(\u001b[0m\n",
              "\u001b[2;32m│   │   \u001b[0m\u001b[33mpage_content\u001b[0m=\u001b[32m'商業周刊編輯處用戶成長中心整理：國會改革5法是哪5法？\\n是指修正《立法院職權行使法》、《刑法》、《立法院組織法》、《立法委員行為法》、《立法委員互選院長副院長辦法》等5法的部分內容。\\n國會改革法案引發哪些爭議？\\n\\n立委擴權問題：藍白提出的修法草案，可能過度擴張立法權力，侵犯行政權。例如，要求總統定期到立院進行國情報告，可能涉及侵害國家機密或外交機密；增訂「藐視國會罪」，可能影響司法獨立；修改立委互選院長副院長辦法，可能影響監察權。\\n程序問題：國民黨和民眾黨以立法院多數之姿，以不記名的方式舉手表決通過未經充分討論的修法草案。\\n\\n國會改革法案修法時間軸'\u001b[0m,\n",
              "\u001b[2;32m│   │   \u001b[0m\u001b[33mmetadata\u001b[0m=\u001b[1m{\u001b[0m\n",
              "\u001b[2;32m│   │   │   \u001b[0m\u001b[32m'source'\u001b[0m: \u001b[32m'https://www.businessweekly.com.tw/focus/blog/3015636'\u001b[0m\n",
              "\u001b[2;32m│   │   \u001b[0m\u001b[1m}\u001b[0m\n",
              "\u001b[2;32m│   \u001b[0m\u001b[1m)\u001b[0m,\n",
              "\u001b[2;32m│   \u001b[0m\u001b[1;35mDocument\u001b[0m\u001b[1m(\u001b[0m\n",
              "\u001b[2;32m│   │   \u001b[0m\u001b[33mpage_content\u001b[0m=\u001b[32m'2月20日：本屆立法院開議\\n3月4日：國民黨團提出國會改革法案\\n3月8日：法案交付委員會審查\\n3月29日：民進黨提出自己版本國會改革法案。後經公聽會及委員會逐條審查，最終未納入民進黨版本。\\n4月3日、4月10日、4月11日：民眾黨、國民黨、民進黨立委提出之法案，舉行3次公聽會。\\n4月15日：國民黨版本進入委員會逐條審查，但所有條文保留送黨團協商。\\n5月16日：無共識的保留條文冷凍期結束，立院院長召集協商，藍綠唇槍舌戰不歡而散。\\n5月17日：朝野黨團在立院爆發衝突，二讀通過總統國情報告。\\n5月21日：二讀通過質詢答覆、人事同意權、調查權及聽證權等共21條條文。'\u001b[0m,\n",
              "\u001b[2;32m│   │   \u001b[0m\u001b[33mmetadata\u001b[0m=\u001b[1m{\u001b[0m\n",
              "\u001b[2;32m│   │   │   \u001b[0m\u001b[32m'source'\u001b[0m: \u001b[32m'https://www.businessweekly.com.tw/focus/blog/3015636'\u001b[0m\n",
              "\u001b[2;32m│   │   \u001b[0m\u001b[1m}\u001b[0m\n",
              "\u001b[2;32m│   \u001b[0m\u001b[1m)\u001b[0m,\n",
              "\u001b[2;32m│   \u001b[0m\u001b[1;35mDocument\u001b[0m\u001b[1m(\u001b[0m\n",
              "\u001b[2;32m│   │   \u001b[0m\u001b[33mpage_content\u001b[0m=\u001b[32m'5月24日：續審立委行使調查權、聽證權等條文，共處理20多條條文。聽證權規範增訂，若在聽證會上有虛偽陳述者得經院會決議處2萬元以上、20萬元以下罰鍰。5月28日：三讀通過總統國情報告常態化、藐視國會罰則、強化國會人事同意權、賦予國會調查權及聽證權。'\u001b[0m,\n",
              "\u001b[2;32m│   │   \u001b[0m\u001b[33mmetadata\u001b[0m=\u001b[1m{\u001b[0m\n",
              "\u001b[2;32m│   │   │   \u001b[0m\u001b[32m'source'\u001b[0m: \u001b[32m'https://www.businessweekly.com.tw/focus/blog/3015636'\u001b[0m\n",
              "\u001b[2;32m│   │   \u001b[0m\u001b[1m}\u001b[0m\n",
              "\u001b[2;32m│   \u001b[0m\u001b[1m)\u001b[0m,\n",
              "\u001b[2;32m│   \u001b[0m\u001b[1;35mDocument\u001b[0m\u001b[1m(\u001b[0m\n",
              "\u001b[2;32m│   │   \u001b[0m\u001b[33mpage_content\u001b[0m=\u001b[32m'引發爭議的法案內容\\n國會改革法案朝野攻防重點內容：\\n總統國情報告常態化\\n進度：5月28日三讀通過。\\n修法內容：針對《立法院職權行使法》第15-1、15-2條中與總統至立法院進行國情報告相關內容，總統每年須於2月1日前提交國情報告書、3月1日前赴立院報告，新任總統須於就職2週內提書面報告、1個月內到院報告。\\n條文賦予立委於總統報告後，可就不明處提出口頭或書面質詢的權利，總統應即時回答口頭問題、7日內回覆書面問題，重大事項可延長5日。問題提出時間、順序等由黨團協商決定。這項條文的目的在於強化立院監督總統職權，增加問政機制。'\u001b[0m,\n",
              "\u001b[2;32m│   │   \u001b[0m\u001b[33mmetadata\u001b[0m=\u001b[1m{\u001b[0m\n",
              "\u001b[2;32m│   │   │   \u001b[0m\u001b[32m'source'\u001b[0m: \u001b[32m'https://www.businessweekly.com.tw/focus/blog/3015636'\u001b[0m\n",
              "\u001b[2;32m│   │   \u001b[0m\u001b[1m}\u001b[0m\n",
              "\u001b[2;32m│   \u001b[0m\u001b[1m)\u001b[0m,\n",
              "\u001b[2;32m│   \u001b[0m\u001b[1;35mDocument\u001b[0m\u001b[1m(\u001b[0m\n",
              "\u001b[2;32m│   │   \u001b[0m\u001b[33mpage_content\u001b[0m=\u001b[32m'爭議點：國民黨與民眾黨主張，應賦予立委在總統報告後可「即問即答」的權利；民進黨認為，依據《憲法》規定，立院只是「得」聽取總統國情報告，並未授權立委對總統進行詢答，此改變可能違憲，應由行政院長而非總統負責回應。\\n藐視國會罪\\n進度：5月28日三讀通過。'\u001b[0m,\n",
              "\u001b[2;32m│   │   \u001b[0m\u001b[33mmetadata\u001b[0m=\u001b[1m{\u001b[0m\n",
              "\u001b[2;32m│   │   │   \u001b[0m\u001b[32m'source'\u001b[0m: \u001b[32m'https://www.businessweekly.com.tw/focus/blog/3015636'\u001b[0m\n",
              "\u001b[2;32m│   │   \u001b[0m\u001b[1m}\u001b[0m\n",
              "\u001b[2;32m│   \u001b[0m\u001b[1m)\u001b[0m,\n",
              "\u001b[2;32m│   \u001b[0m\u001b[1;35mDocument\u001b[0m\u001b[1m(\u001b[0m\n",
              "\u001b[2;32m│   │   \u001b[0m\u001b[33mpage_content\u001b[0m=\u001b[32m'藐視國會罪\\n進度：5月28日三讀通過。\\n修法內容：修正《立法院職權行使法》第25條內容，被質詢人不得拒絕答復、隱匿資訊或虛偽答復，否則視為藐視國會。經主席制止後仍違反者，可處2萬～20萬元罰鍰，逾期不改正可連續開罰。政府人員如有虛偽陳述，將依法追究刑責。若不服罰鍰處分，可提行政訴訟。對委員反質詢或缺席未獲同意也屬藐視國會，可決議移送彈劾或懲戒。主旨在確保政府有效回應國會質詢，強化國會監督權力。\\n爭議點：民進黨立法院黨團幹事長吳思瑤認為，新增藐視國會罪恐過度擴大國會權力。法務部次長陳明堂質疑，藐視國會罪這可能造成寒蟬效應，使相關機關人員畏懼配合而產生壓力。\\n國會聽證權與調查權'\u001b[0m,\n",
              "\u001b[2;32m│   │   \u001b[0m\u001b[33mmetadata\u001b[0m=\u001b[1m{\u001b[0m\n",
              "\u001b[2;32m│   │   │   \u001b[0m\u001b[32m'source'\u001b[0m: \u001b[32m'https://www.businessweekly.com.tw/focus/blog/3015636'\u001b[0m\n",
              "\u001b[2;32m│   │   \u001b[0m\u001b[1m}\u001b[0m\n",
              "\u001b[2;32m│   \u001b[0m\u001b[1m)\u001b[0m,\n",
              "\u001b[2;32m│   \u001b[0m\u001b[1;35mDocument\u001b[0m\u001b[1m(\u001b[0m\n",
              "\u001b[2;32m│   │   \u001b[0m\u001b[33mpage_content\u001b[0m=\u001b[32m'國會聽證權與調查權\\n進度：5月28日三讀通過。\\n修法內容：修正《立法院職權行使法》第46～48條內容，立法院可設置調查委員會或專案小組，對相關議案或職權事項行使調查權及調閱權。可要求政府機關、法人、團體或相關人員在5日內提供文件資料，拒絕者可處1萬～10萬元罰鍰，並可連續處罰至改正。政府機關違規可移送監察院彈劾。法人團體違規可經院會決議開罰，不服可提行政訴訟。調查權旨在監督政府並獲取相關資訊，強化國會權力。'\u001b[0m,\n",
              "\u001b[2;32m│   │   \u001b[0m\u001b[33mmetadata\u001b[0m=\u001b[1m{\u001b[0m\n",
              "\u001b[2;32m│   │   │   \u001b[0m\u001b[32m'source'\u001b[0m: \u001b[32m'https://www.businessweekly.com.tw/focus/blog/3015636'\u001b[0m\n",
              "\u001b[2;32m│   │   \u001b[0m\u001b[1m}\u001b[0m\n",
              "\u001b[2;32m│   \u001b[0m\u001b[1m)\u001b[0m,\n",
              "\u001b[2;32m│   \u001b[0m\u001b[1;35mDocument\u001b[0m\u001b[1m(\u001b[0m\n",
              "\u001b[2;32m│   │   \u001b[0m\u001b[33mpage_content\u001b[0m=\u001b[32m'爭議點：憲法未明文賦予國會調查權，且立法院通過的草案中缺乏適當限制，讓政府機關、人民可能難以拒絕調查。此外，調查報告的效力不夠明確，可能與其他機關調查產生重疊，且委員利益迴避的相關規範並不充足，恐讓調查的公正性受質疑。\\n強化人事同意權\\n進度：5月28日三讀通過。'\u001b[0m,\n",
              "\u001b[2;32m│   │   \u001b[0m\u001b[33mmetadata\u001b[0m=\u001b[1m{\u001b[0m\n",
              "\u001b[2;32m│   │   │   \u001b[0m\u001b[32m'source'\u001b[0m: \u001b[32m'https://www.businessweekly.com.tw/focus/blog/3015636'\u001b[0m\n",
              "\u001b[2;32m│   │   \u001b[0m\u001b[1m}\u001b[0m\n",
              "\u001b[2;32m│   \u001b[0m\u001b[1m)\u001b[0m,\n",
              "\u001b[2;32m│   \u001b[0m\u001b[1;35mDocument\u001b[0m\u001b[1m(\u001b[0m\n",
              "\u001b[2;32m│   │   \u001b[0m\u001b[33mpage_content\u001b[0m=\u001b[32m'強化人事同意權\\n進度：5月28日三讀通過。\\n修法內容：修正《立法院職權行使法》第29條、第29-1條、第30條、第30-1條、第31條等條文修正草案，強化國會人事同意權。人事同意案須經全體立委1/2以上同意通過，採記名投票表決。審查程序至少1個月，須舉行公聽會徵詢意見。被提名人須提供詳細資料，並在委員會接受詢問說明；被提名人須就資料真實性具結，違反可處2～20萬元罰鍰。總統或行政院長應尊重國會同意結果，未獲同意需另提名人選。\\n爭議點：民進黨認為國民黨及民眾黨的修法版本，會大幅增加立院對人事案的干預，可能壓縮行政權，還會拖延人事任命進度，影響政府運作。'\u001b[0m,\n",
              "\u001b[2;32m│   │   \u001b[0m\u001b[33mmetadata\u001b[0m=\u001b[1m{\u001b[0m\n",
              "\u001b[2;32m│   │   │   \u001b[0m\u001b[32m'source'\u001b[0m: \u001b[32m'https://www.businessweekly.com.tw/focus/blog/3015636'\u001b[0m\n",
              "\u001b[2;32m│   │   \u001b[0m\u001b[1m}\u001b[0m\n",
              "\u001b[2;32m│   \u001b[0m\u001b[1m)\u001b[0m,\n",
              "\u001b[2;32m│   \u001b[0m\u001b[1;35mDocument\u001b[0m\u001b[1m(\u001b[0m\n",
              "\u001b[2;32m│   │   \u001b[0m\u001b[33mpage_content\u001b[0m=\u001b[32m'以下報導出自中央社：5月28日：國會改革法案藍白人數優勢三讀，場外青鳥行動集結抗議民團發起「青鳥行動」，號召民眾到立法院外抗議國會職權修法，而在藍白挾人數優勢下，朝野歷經4天表決大戰，立法院會28日三讀修正通過立法院職權行使法、刑法部分條文等案，明定被質詢人藐視國會最高罰20萬元等關鍵條文。第11屆的立法院自2月1日展開，藍綠白陣營均將國會職權修正法案列為重中之重，相互攻防。\\n廣告-請繼續往下閱讀'\u001b[0m,\n",
              "\u001b[2;32m│   │   \u001b[0m\u001b[33mmetadata\u001b[0m=\u001b[1m{\u001b[0m\n",
              "\u001b[2;32m│   │   │   \u001b[0m\u001b[32m'source'\u001b[0m: \u001b[32m'https://www.businessweekly.com.tw/focus/blog/3015636'\u001b[0m\n",
              "\u001b[2;32m│   │   \u001b[0m\u001b[1m}\u001b[0m\n",
              "\u001b[2;32m│   \u001b[0m\u001b[1m)\u001b[0m,\n",
              "\u001b[2;32m│   \u001b[0m\u001b[1;35mDocument\u001b[0m\u001b[1m(\u001b[0m\n",
              "\u001b[2;32m│   │   \u001b[0m\u001b[33mpage_content\u001b[0m=\u001b[32m'立法院司法及法制委員會4月15日初審通過國民黨立委傅崐萁、台灣民眾黨立法院黨團所提立法院職權行使法部分條文修正草案等案，但全數條文保留，交黨團協商。藍白所提國會職權修正法案，經立法院司法及法制委員會召委、國民黨立委吳宗憲主持的朝野黨團協商無共識下，吳宗憲宣告依規定送院會。全案列為5月17日、5月21日、5月24日、5月28日院會的討論事項，而5月17日、5月21日、5月24日均挑燈夜戰，延長開會時間到午夜12時。5月28日的院會，於下午4時59分三讀修正通過立法院職權行使法部分條文，並於晚上10時54分許三讀修正通過刑法部分條文。立法院會處理時，藍白為使議事順利，開會前均在議場門口排隊卡位，'\u001b[0m,\n",
              "\u001b[2;32m│   │   \u001b[0m\u001b[33mmetadata\u001b[0m=\u001b[1m{\u001b[0m\n",
              "\u001b[2;32m│   │   │   \u001b[0m\u001b[32m'source'\u001b[0m: \u001b[32m'https://www.businessweekly.com.tw/focus/blog/3015636'\u001b[0m\n",
              "\u001b[2;32m│   │   \u001b[0m\u001b[1m}\u001b[0m\n",
              "\u001b[2;32m│   \u001b[0m\u001b[1m)\u001b[0m,\n",
              "\u001b[2;32m│   \u001b[0m\u001b[1;35mDocument\u001b[0m\u001b[1m(\u001b[0m\n",
              "\u001b[2;32m│   │   \u001b[0m\u001b[33mpage_content\u001b[0m=\u001b[32m'法院會處理時，藍白為使議事順利，開會前均在議場門口排隊卡位，朝野在17日的院會爆發激烈肢體衝突，藍綠均有立委受傷送醫，但在此後的院會，朝野則未再發生激烈肢體衝突，多是隔空叫陣。'\u001b[0m,\n",
              "\u001b[2;32m│   │   \u001b[0m\u001b[33mmetadata\u001b[0m=\u001b[1m{\u001b[0m\n",
              "\u001b[2;32m│   │   │   \u001b[0m\u001b[32m'source'\u001b[0m: \u001b[32m'https://www.businessweekly.com.tw/focus/blog/3015636'\u001b[0m\n",
              "\u001b[2;32m│   │   \u001b[0m\u001b[1m}\u001b[0m\n",
              "\u001b[2;32m│   \u001b[0m\u001b[1m)\u001b[0m,\n",
              "\u001b[2;32m│   \u001b[0m\u001b[1;35mDocument\u001b[0m\u001b[1m(\u001b[0m\n",
              "\u001b[2;32m│   │   \u001b[0m\u001b[33mpage_content\u001b[0m=\u001b[32m'廣告-請繼續往下閱讀'\u001b[0m,\n",
              "\u001b[2;32m│   │   \u001b[0m\u001b[33mmetadata\u001b[0m=\u001b[1m{\u001b[0m\n",
              "\u001b[2;32m│   │   │   \u001b[0m\u001b[32m'source'\u001b[0m: \u001b[32m'https://www.businessweekly.com.tw/focus/blog/3015636'\u001b[0m\n",
              "\u001b[2;32m│   │   \u001b[0m\u001b[1m}\u001b[0m\n",
              "\u001b[2;32m│   \u001b[0m\u001b[1m)\u001b[0m,\n",
              "\u001b[2;32m│   \u001b[0m\u001b[1;35mDocument\u001b[0m\u001b[1m(\u001b[0m\n",
              "\u001b[2;32m│   │   \u001b[0m\u001b[33mpage_content\u001b[0m=\u001b[32m'而在立法院外，民團發起「青鳥行動」，多次號召民眾到立法院外抗議，要求退回法案，尤其24日晚間，大批民眾塞爆青島東路、濟南路及中山南路，當天晚間9時，主辦單位稱現場達10萬人。立法院會28日開會，會議主席、立法院長韓國瑜在下午3時29分許宣布，立法院職權行使法全案已經過二讀，此時台下的民進黨立委，朝主席台射出象徵「青鳥」的紙飛機。條文進入三讀時，民進黨立委在場中準備紅、藍、白的橡膠大球，上面印著「反惡法、反擴權、反黑箱」的字樣，國民黨立委不甘示弱，在場中拉起「讓陽光照進國會」的布條。三讀條文宣讀完畢後，國民黨團提議三讀文字修正，引來民進黨立委不滿並表達異議，之後則朝主席台丟擲裝著東西的藍色垃圾'\u001b[0m,\n",
              "\u001b[2;32m│   │   \u001b[0m\u001b[33mmetadata\u001b[0m=\u001b[1m{\u001b[0m\n",
              "\u001b[2;32m│   │   │   \u001b[0m\u001b[32m'source'\u001b[0m: \u001b[32m'https://www.businessweekly.com.tw/focus/blog/3015636'\u001b[0m\n",
              "\u001b[2;32m│   │   \u001b[0m\u001b[1m}\u001b[0m\n",
              "\u001b[2;32m│   \u001b[0m\u001b[1m)\u001b[0m,\n",
              "\u001b[2;32m│   \u001b[0m\u001b[1;35mDocument\u001b[0m\u001b[1m(\u001b[0m\n",
              "\u001b[2;32m│   │   \u001b[0m\u001b[33mpage_content\u001b[0m=\u001b[32m'進黨立委不滿並表達異議，之後則朝主席台丟擲裝著東西的藍色垃圾袋，並高喊三讀無效等口號，國民黨立委則以手板阻擋，後來國民黨團撤銷文字修正，不再處理。針對邀請總統至立法院進行國情報告，經舉手表決，三讀通過條文規定，除要常態化進行，對於立委進行口頭提問時，總統應依序即時回答。至於質詢答復上，三讀條文規範不得反質詢，而被質詢人應有不得拒絕答復、拒絕提供資料等或有其他藐視國會行為的義務，違者處新台幣2萬元以上20萬元以下罰鍰。三讀條文也明定，在立委行使人事同意權部分，規範以記名投票表決、審查期間不得少於1個月，而且被提名人違反相關規定，經院會決議者，得處2萬元以上20萬元以下罰鍰。另外，關於立法院行使調'\u001b[0m,\n",
              "\u001b[2;32m│   │   \u001b[0m\u001b[33mmetadata\u001b[0m=\u001b[1m{\u001b[0m\n",
              "\u001b[2;32m│   │   │   \u001b[0m\u001b[32m'source'\u001b[0m: \u001b[32m'https://www.businessweekly.com.tw/focus/blog/3015636'\u001b[0m\n",
              "\u001b[2;32m│   │   \u001b[0m\u001b[1m}\u001b[0m\n",
              "\u001b[2;32m│   \u001b[0m\u001b[1m)\u001b[0m,\n",
              "\u001b[2;32m│   \u001b[0m\u001b[1;35mDocument\u001b[0m\u001b[1m(\u001b[0m\n",
              "\u001b[2;32m│   │   \u001b[0m\u001b[33mpage_content\u001b[0m=\u001b[32m'議者，得處2萬元以上20萬元以下罰鍰。另外，關於立法院行使調查權部分，三讀條文規定，得要求政府機關、部隊、法人、團體或社會上有關係人員提供相關資料，法人或社會上有關係人員等違反相關規定，得經立法院會決議，處最高10萬元罰鍰。這次修法也增訂立法院行使聽證權的規範，並規定出席聽證會的社會上有關係人員為證言時，為虛偽陳述者，得經立法院會決議，處2萬元以上20萬元以下罰鍰。此外，這次修法也包括刑法，三讀修正通過條文增訂藐視國會罪，規定公務員於立法院聽證或受質詢時，就其所知的重要關係事項，為虛偽陳述者，處1年以下有期徒刑、拘役或20萬元以下罰金。而在立法院會三讀修正通過刑法部分條文後，國民黨立委高喊修法'\u001b[0m,\n",
              "\u001b[2;32m│   │   \u001b[0m\u001b[33mmetadata\u001b[0m=\u001b[1m{\u001b[0m\n",
              "\u001b[2;32m│   │   │   \u001b[0m\u001b[32m'source'\u001b[0m: \u001b[32m'https://www.businessweekly.com.tw/focus/blog/3015636'\u001b[0m\n",
              "\u001b[2;32m│   │   \u001b[0m\u001b[1m}\u001b[0m\n",
              "\u001b[2;32m│   \u001b[0m\u001b[1m)\u001b[0m,\n",
              "\u001b[2;32m│   \u001b[0m\u001b[1;35mDocument\u001b[0m\u001b[1m(\u001b[0m\n",
              "\u001b[2;32m│   │   \u001b[0m\u001b[33mpage_content\u001b[0m=\u001b[32m'。而在立法院會三讀修正通過刑法部分條文後，國民黨立委高喊修法通過、國會重生，民進黨立委則喊釋憲挺人民等口號。5月24日：民團冒雨集結、自組醫療站立法院職權行使法24日續審，民團將在場外上陣宣講，由於現場天雨路滑，不少志工民眾協助布置場地、發送雨衣，另有醫護人員自發到場設立青島東路醫療站，避免意外事故發生。'\u001b[0m,\n",
              "\u001b[2;32m│   │   \u001b[0m\u001b[33mmetadata\u001b[0m=\u001b[1m{\u001b[0m\n",
              "\u001b[2;32m│   │   │   \u001b[0m\u001b[32m'source'\u001b[0m: \u001b[32m'https://www.businessweekly.com.tw/focus/blog/3015636'\u001b[0m\n",
              "\u001b[2;32m│   │   \u001b[0m\u001b[1m}\u001b[0m\n",
              "\u001b[2;32m│   \u001b[0m\u001b[1m)\u001b[0m,\n",
              "\u001b[2;32m│   \u001b[0m\u001b[1;35mDocument\u001b[0m\u001b[1m(\u001b[0m\n",
              "\u001b[2;32m│   │   \u001b[0m\u001b[33mpage_content\u001b[0m=\u001b[32m'立法院會5月17日、21日二讀表決通過立法院職權行使法部分條文修正草案；24日院會續審立法院職權相關法案，多個民團到立法院外表達訴求。\\n24日上午活動現場天雨路滑，許多民眾冒雨到場參與活動，並自發性協助民團布置場地，現場氣氛和平、理性，也有醫護人員自發組成「青島東路醫療站」，並訂定醫療通道、醫療中立等流程原則，避免意外事故或緊急衝突發生。\\n此外，許多民眾為表達訴求、理念，也自製許多標語，例如「白藍綁架國會」、「真民主能討論」、「我藐視國會」等語詞。'\u001b[0m,\n",
              "\u001b[2;32m│   │   \u001b[0m\u001b[33mmetadata\u001b[0m=\u001b[1m{\u001b[0m\n",
              "\u001b[2;32m│   │   │   \u001b[0m\u001b[32m'source'\u001b[0m: \u001b[32m'https://www.businessweekly.com.tw/focus/blog/3015636'\u001b[0m\n",
              "\u001b[2;32m│   │   \u001b[0m\u001b[1m}\u001b[0m\n",
              "\u001b[2;32m│   \u001b[0m\u001b[1m)\u001b[0m,\n",
              "\u001b[2;32m│   \u001b[0m\u001b[1;35mDocument\u001b[0m\u001b[1m(\u001b[0m\n",
              "\u001b[2;32m│   │   \u001b[0m\u001b[33mpage_content\u001b[0m=\u001b[32m'1名自發性參與的淡水楊姓女子向中央社記者表示，剛從大學畢業，不希望看到最壞的結果，今天能待到多晚，就會待到多晚；另1名張姓男志工指出，多1個人的力量，就多一份幫助，希望今天能看到實質討論、實質審查。\\n今年17歲的高雄林姓男高中生則表示，自己經過父母同意向學校請假，搭乘高鐵北上，也要到場表達心裡的意見。擔任編劇的譚姓民眾則說，自己曾參與過太陽花學運，現在時空轉變，但同樣的黑箱重複上演。5月21日：民團號召抗議萬人上街頭立法院會21日續處理藍白所提國會職權相關修法，逾40個民團聚集場外要求退回法案、落實程序正義，至晚間8時，人潮蔓延至中山南路慢車道，前聯電董事長曹興誠到場宣講。'\u001b[0m,\n",
              "\u001b[2;32m│   │   \u001b[0m\u001b[33mmetadata\u001b[0m=\u001b[1m{\u001b[0m\n",
              "\u001b[2;32m│   │   │   \u001b[0m\u001b[32m'source'\u001b[0m: \u001b[32m'https://www.businessweekly.com.tw/focus/blog/3015636'\u001b[0m\n",
              "\u001b[2;32m│   │   \u001b[0m\u001b[1m}\u001b[0m\n",
              "\u001b[2;32m│   \u001b[0m\u001b[1m)\u001b[0m,\n",
              "\u001b[2;32m│   \u001b[0m\u001b[1;35mDocument\u001b[0m\u001b[1m(\u001b[0m\n",
              "\u001b[2;32m│   │   \u001b[0m\u001b[33mpage_content\u001b[0m=\u001b[32m'立法院場外、青島東路側門從上午起聚集超過40個民間團體聲援，聯合舉辦「國會濫權，民主倒退，公民搶救，立院集結」行動，現場不斷湧進支持民眾，有些人帶太陽花和「拒絕黑箱」、「沒有討論 沒有民主」等字條，要求國會尊重人民心聲。\\n台北市下午曾下大雨，聲援活動民眾撐起傘、穿雨衣持續在場守候。至晚間8時，參與活動人潮逐漸變多，連同監察院旁中山南路慢車道都擠滿人潮，甚至有民眾站在對面路口聲援，據記者現場觀察，民團在青島東路舉辦活動場地也同樣已擠滿聲援活動民眾。'\u001b[0m,\n",
              "\u001b[2;32m│   │   \u001b[0m\u001b[33mmetadata\u001b[0m=\u001b[1m{\u001b[0m\n",
              "\u001b[2;32m│   │   │   \u001b[0m\u001b[32m'source'\u001b[0m: \u001b[32m'https://www.businessweekly.com.tw/focus/blog/3015636'\u001b[0m\n",
              "\u001b[2;32m│   │   \u001b[0m\u001b[1m}\u001b[0m\n",
              "\u001b[2;32m│   \u001b[0m\u001b[1m)\u001b[0m,\n",
              "\u001b[2;32m│   \u001b[0m\u001b[1;35mDocument\u001b[0m\u001b[1m(\u001b[0m\n",
              "\u001b[2;32m│   │   \u001b[0m\u001b[33mpage_content\u001b[0m=\u001b[32m'民團提5訴求，包含國會改革不應破壞權力分立，不應侵害人民權益；退回國會三法，由委員會重審，517議事錄不予承認；拒絕立院變人大，抗議藍白沒收民主；委員會應實質討論各黨提案：停止濫用逕付二讀、全案保留、封殺提案、散會動議；沒有討論，不是民主，全案保留，等於沒審，封殺提案，威權復辟。\\n此外，前聯電董事長曹興誠在晚間特別到場宣講，他說，中共已對台透過3形式發動戰爭，包含軍事戰、輿論戰、法律戰。\\n曹興誠指出，軍事戰就是指透過軍事武力讓台灣害怕妥協，輿論戰就是利用與中共友好媒體名嘴，汙衊有名望的人，台灣不會要破壞中共現況，但中共卻每天破壞台灣現況。'\u001b[0m,\n",
              "\u001b[2;32m│   │   \u001b[0m\u001b[33mmetadata\u001b[0m=\u001b[1m{\u001b[0m\n",
              "\u001b[2;32m│   │   │   \u001b[0m\u001b[32m'source'\u001b[0m: \u001b[32m'https://www.businessweekly.com.tw/focus/blog/3015636'\u001b[0m\n",
              "\u001b[2;32m│   │   \u001b[0m\u001b[1m}\u001b[0m\n",
              "\u001b[2;32m│   \u001b[0m\u001b[1m)\u001b[0m,\n",
              "\u001b[2;32m│   \u001b[0m\u001b[1;35mDocument\u001b[0m\u001b[1m(\u001b[0m\n",
              "\u001b[2;32m│   │   \u001b[0m\u001b[33mpage_content\u001b[0m=\u001b[32m'曹興誠表示，至於法律戰，與中共友好者取得立法院多數，想擴充立法權壓制行政權等，據他香港友人稱目前在港都不太敢亂說話，若藍營立委希望台灣保持現狀不要讓中共統治，就不要讓立院變成中共狗腿，呼籲群眾若藍營立委仍執迷不悟，希望有所抗爭。5月17日：朝野爆發激烈衝突6立委送醫立法院會17日處理國會改革法案，朝野從清晨起爆發多起肢體衝突，傍晚開始進行處理，晚間7時左右爆發嚴重衝突，造成至少6位立委送醫。\\n立法院會排定處理國民黨團、民眾黨團所提攸關國會改革的相關法案，包括立法院職權行使法、刑法、立法委員互選院長副院長辦法等修法。'\u001b[0m,\n",
              "\u001b[2;32m│   │   \u001b[0m\u001b[33mmetadata\u001b[0m=\u001b[1m{\u001b[0m\n",
              "\u001b[2;32m│   │   │   \u001b[0m\u001b[32m'source'\u001b[0m: \u001b[32m'https://www.businessweekly.com.tw/focus/blog/3015636'\u001b[0m\n",
              "\u001b[2;32m│   │   \u001b[0m\u001b[1m}\u001b[0m\n",
              "\u001b[2;32m│   \u001b[0m\u001b[1m)\u001b[0m,\n",
              "\u001b[2;32m│   \u001b[0m\u001b[1;35mDocument\u001b[0m\u001b[1m(\u001b[0m\n",
              "\u001b[2;32m│   │   \u001b[0m\u001b[33mpage_content\u001b[0m=\u001b[32m'由於修法內容中的「藐視國會罪」、「國會調查權」、「總統國情報告」等，朝野歧見極大，占人數優勢的國民黨團、民眾黨團從15日開始在議場前排班，確保法案得以順利通過，民進黨也動員全力阻擋，讓立法院瀰漫山雨欲來風滿樓的氣氛。\\n立法院果然17日一早就爆發衝突，民進黨立法院黨團於上午6時45分左右突然現身議場前，和國民黨團爆發嚴重推擠。最終國民黨團、民眾黨團憑藉著人數優勢，順利占據議場主席台。\\n上午10時8分，立法院長韓國瑜才在國民黨立委護送下進入議場，宣布開會。在宣讀完協商結論後，並未進行國是論壇，而是直接進入報告事項，在處理逕付二讀、進行表決時，民進黨立委欲攻上主席台，朝野數度爆發推擠。'\u001b[0m,\n",
              "\u001b[2;32m│   │   \u001b[0m\u001b[33mmetadata\u001b[0m=\u001b[1m{\u001b[0m\n",
              "\u001b[2;32m│   │   │   \u001b[0m\u001b[32m'source'\u001b[0m: \u001b[32m'https://www.businessweekly.com.tw/focus/blog/3015636'\u001b[0m\n",
              "\u001b[2;32m│   │   \u001b[0m\u001b[1m}\u001b[0m\n",
              "\u001b[2;32m│   \u001b[0m\u001b[1m)\u001b[0m,\n",
              "\u001b[2;32m│   \u001b[0m\u001b[1;35mDocument\u001b[0m\u001b[1m(\u001b[0m\n",
              "\u001b[2;32m│   │   \u001b[0m\u001b[33mpage_content\u001b[0m=\u001b[32m'直到中午，院會議程一直未進入討論事項，韓國瑜在11時49分宣布休息、朝野協商，但朝野黨團對於議程、法案都無法達成共識，韓國瑜宣布休息用餐到下午2時，再繼續協商。\\n下午2時53分，韓國瑜回到議場後，藍綠立委再次爆發推擠衝突。韓國瑜表示，因各黨團還在溝通，院會繼續休息協商，並在下午3時30分第3度召集朝野協商。\\n第3度協商最終仍然破裂，朝野立委下午5時後陸續回到議場，表決通過延長開會時間至處理完所有國會改革法案為止後，開始逐條討論、發言、表決，過程中一度爆發嚴重肢體衝突，包括民進黨立委沈伯洋等6名藍綠立委送醫。'\u001b[0m,\n",
              "\u001b[2;32m│   │   \u001b[0m\u001b[33mmetadata\u001b[0m=\u001b[1m{\u001b[0m\n",
              "\u001b[2;32m│   │   │   \u001b[0m\u001b[32m'source'\u001b[0m: \u001b[32m'https://www.businessweekly.com.tw/focus/blog/3015636'\u001b[0m\n",
              "\u001b[2;32m│   │   \u001b[0m\u001b[1m}\u001b[0m\n",
              "\u001b[2;32m│   \u001b[0m\u001b[1m)\u001b[0m,\n",
              "\u001b[2;32m│   \u001b[0m\u001b[1;35mDocument\u001b[0m\u001b[1m(\u001b[0m\n",
              "\u001b[2;32m│   │   \u001b[0m\u001b[33mpage_content\u001b[0m=\u001b[32m'藍白立委強力排除民進黨立委抗爭，直到深夜10時，仍持續挑燈夜戰，逐條審議立法院職權行使法等修法。\\n此外，場外也陸續有民眾聚集，高喊「韓國瑜下台」等口號，目前已經有上百名民眾集結，現場也有大批警力進駐，並拉起拒馬。綠營：院會發生無法得知條文內容等4可議程序民進黨立院黨團幹事長吳思瑤會後表示，17日院會發生表決時無法得知條文內容、舉手表決等4大可議程序，立法院長韓國瑜應虛心反省，未處理完的條文還很多，韓國瑜還有機會。\\n藍白立院黨團17日利用席次優勢，以「舉手表決」方式處理藍白提出的國會職權修法相關法案，院會一直進行到近深夜12時，立法院長韓國瑜宣告休息，5月21日繼續開會。'\u001b[0m,\n",
              "\u001b[2;32m│   │   \u001b[0m\u001b[33mmetadata\u001b[0m=\u001b[1m{\u001b[0m\n",
              "\u001b[2;32m│   │   │   \u001b[0m\u001b[32m'source'\u001b[0m: \u001b[32m'https://www.businessweekly.com.tw/focus/blog/3015636'\u001b[0m\n",
              "\u001b[2;32m│   │   \u001b[0m\u001b[1m}\u001b[0m\n",
              "\u001b[2;32m│   \u001b[0m\u001b[1m)\u001b[0m,\n",
              "\u001b[2;32m│   \u001b[0m\u001b[1;35mDocument\u001b[0m\u001b[1m(\u001b[0m\n",
              "\u001b[2;32m│   │   \u001b[0m\u001b[33mpage_content\u001b[0m=\u001b[32m'吳思瑤在會後表示，台灣的民主在倒退，國會正在沉淪。立法院17日創下4個可議的程序處理，包括，一是未經立法院長主持朝野協商及逐條討論就強行表決，創下憲政史上及國會史上的惡例。\\n她表示，二是國民黨與民眾黨提出的國會擴權法案，是到了表決最後一刻才喬出來的，在表決時根本無法得知條文內容，這是國會史上第一次表決前這麼黑箱。三是以舉手進行表決（編按：即代表不記名表決），立法院上一次舉手表決是35年前的1989年，國民黨團總召傅崐萁率團赴中，卻帶回來中國人大的表決方式。'\u001b[0m,\n",
              "\u001b[2;32m│   │   \u001b[0m\u001b[33mmetadata\u001b[0m=\u001b[1m{\u001b[0m\n",
              "\u001b[2;32m│   │   │   \u001b[0m\u001b[32m'source'\u001b[0m: \u001b[32m'https://www.businessweekly.com.tw/focus/blog/3015636'\u001b[0m\n",
              "\u001b[2;32m│   │   \u001b[0m\u001b[1m}\u001b[0m\n",
              "\u001b[2;32m│   \u001b[0m\u001b[1m)\u001b[0m,\n",
              "\u001b[2;32m│   \u001b[0m\u001b[1;35mDocument\u001b[0m\u001b[1m(\u001b[0m\n",
              "\u001b[2;32m│   │   \u001b[0m\u001b[33mpage_content\u001b[0m=\u001b[32m'吳思瑤說，最後是二讀條文內容未經院會宣讀，依照立院職權行使法第9條，二讀條文都必須進行宣讀，但立法院長韓國瑜和立法院秘書長周萬來，刻意選擇不宣讀條文。\\n此外，吳思瑤也表示，這是她第一次看到立法院有這麼多警察出沒，更離譜的是，她和黨團總召柯建銘、黨團書記長莊瑞雄在主席休息室時，看到傅崐萁打電話，向電話另一頭說「給我多派一些警察過來」，公然指揮警察，「難道現在立法院長是傅崐萁嗎？」\\n她強調，立法院前院長王金平即使面對318學運，都不會動用警察權，王金平說動用警察權就是破壞台灣民主制度，韓國瑜、傅崐萁跟民眾黨團總召黃國昌是台灣民主的罪人。'\u001b[0m,\n",
              "\u001b[2;32m│   │   \u001b[0m\u001b[33mmetadata\u001b[0m=\u001b[1m{\u001b[0m\n",
              "\u001b[2;32m│   │   │   \u001b[0m\u001b[32m'source'\u001b[0m: \u001b[32m'https://www.businessweekly.com.tw/focus/blog/3015636'\u001b[0m\n",
              "\u001b[2;32m│   │   \u001b[0m\u001b[1m}\u001b[0m\n",
              "\u001b[2;32m│   \u001b[0m\u001b[1m)\u001b[0m,\n",
              "\u001b[2;32m│   \u001b[0m\u001b[1;35mDocument\u001b[0m\u001b[1m(\u001b[0m\n",
              "\u001b[2;32m│   │   \u001b[0m\u001b[33mpage_content\u001b[0m=\u001b[32m'吳思瑤指出，立法院外有無數自發性聲援的年輕世代，台灣民主不會失敗，也許表決會挫敗，但台灣民主終將勝利，民進黨黨團也要為在醫院救治的立委祝福集氣。\\n對於5月21日是否會有議事抗爭，吳思瑤表示，韓國瑜應想想昨天院會的失序是否要延續，應好好審視議事處理是否需要再強化，應虛心反省是否依舊要硬幹；韓國瑜可以召開朝野協商，把委員會沒審查被沒收的條文都討論完、完備程序，國會會不會發生暴力事件，存在韓國瑜一念之間。藍營：執政黨龐大壓力下  邁開國會改革第一步國民黨團總召傅崐萁說，在執政黨龐大壓力下，邁開國會改革第一步，會繼續努力讓修法完成，不負民眾所託。'\u001b[0m,\n",
              "\u001b[2;32m│   │   \u001b[0m\u001b[33mmetadata\u001b[0m=\u001b[1m{\u001b[0m\n",
              "\u001b[2;32m│   │   │   \u001b[0m\u001b[32m'source'\u001b[0m: \u001b[32m'https://www.businessweekly.com.tw/focus/blog/3015636'\u001b[0m\n",
              "\u001b[2;32m│   │   \u001b[0m\u001b[1m}\u001b[0m\n",
              "\u001b[2;32m│   \u001b[0m\u001b[1m)\u001b[0m,\n",
              "\u001b[2;32m│   \u001b[0m\u001b[1;35mDocument\u001b[0m\u001b[1m(\u001b[0m\n",
              "\u001b[2;32m│   │   \u001b[0m\u001b[33mpage_content\u001b[0m=\u001b[32m'17日晚間約9時起，有民眾自發、陸續集結在立法院外的青島東路上，高喊「沒有討論、不是民主」、「暴力鴨霸歧視仔、國民黨死性不改」等口號，到晚間11時多，民眾已經擠滿青島東路，警方也加派警力戒備。\\n院會一直進行到近深夜12時，立法院長韓國瑜宣告休息，5月21日繼續開會。\\n國民黨立法院黨團也隨即舉行記者會。傅崐萁說，民眾期待的國會改革17日正式推動，在執政黨龐大資源、壓力下，國民黨團、民眾黨團堅持奮戰到底，在種種威脅、恐嚇中撐下來，邁開國會改革第一步。\\n他表示，國民黨團會再接再厲，回應民眾殷殷期盼，把這些弊案的真相還給人民，願意流血流汗，讓國家走向光明正道，把貪污、腐敗全部揭發出來。'\u001b[0m,\n",
              "\u001b[2;32m│   │   \u001b[0m\u001b[33mmetadata\u001b[0m=\u001b[1m{\u001b[0m\n",
              "\u001b[2;32m│   │   │   \u001b[0m\u001b[32m'source'\u001b[0m: \u001b[32m'https://www.businessweekly.com.tw/focus/blog/3015636'\u001b[0m\n",
              "\u001b[2;32m│   │   \u001b[0m\u001b[1m}\u001b[0m\n",
              "\u001b[2;32m│   \u001b[0m\u001b[1m)\u001b[0m,\n",
              "\u001b[2;32m│   \u001b[0m\u001b[1;35mDocument\u001b[0m\u001b[1m(\u001b[0m\n",
              "\u001b[2;32m│   │   \u001b[0m\u001b[33mpage_content\u001b[0m=\u001b[32m'傅崐萁說，韓國瑜頂下這麼大壓力，面對民進黨咄咄逼人的威嚇下，順利把院會推動到深夜12時，修法進行到第23條，會繼續努力讓修法完成，不負民眾所託。\\n他指出，總統當選人賴清德盼咐民進黨團要轉守為攻，而民進黨團就在17日立法院用9波暴力手段攻擊在野黨，甚至對韓國瑜人身攻擊、禁錮韓國瑜在院長室內。\\n國民黨立法院黨團書記長洪孟楷說，相關國會改革草案是經過委員會、朝野協商、3次公聽會，於法、於規、於情、於理都能處理，發動9波衝突的民進黨，當家鬧事該被譴責，先動手的人要被究責。逐條討論是正常程序，下週二希望民進黨團不要惡意製造衝突。'\u001b[0m,\n",
              "\u001b[2;32m│   │   \u001b[0m\u001b[33mmetadata\u001b[0m=\u001b[1m{\u001b[0m\n",
              "\u001b[2;32m│   │   │   \u001b[0m\u001b[32m'source'\u001b[0m: \u001b[32m'https://www.businessweekly.com.tw/focus/blog/3015636'\u001b[0m\n",
              "\u001b[2;32m│   │   \u001b[0m\u001b[1m}\u001b[0m\n",
              "\u001b[2;32m│   \u001b[0m\u001b[1m)\u001b[0m,\n",
              "\u001b[2;32m│   \u001b[0m\u001b[1;35mDocument\u001b[0m\u001b[1m(\u001b[0m\n",
              "\u001b[2;32m│   │   \u001b[0m\u001b[33mpage_content\u001b[0m=\u001b[32m'國民黨立委陳玉珍表示，逐條討論時，民進黨立委的發言內容都跟法案無關、只是謾罵，可見民進黨無心討論，純粹反對國會改革，下週二時賴清德已就任總統，盼能用新任總統的高度告訴民進黨團，當家不鬧事，用民主程序完成國會改革。\\n參考資料：中央社1,2,3,4,5,6,7,8,9、立法院議事暨公報資訊網\\n責任編輯：倪旻勤'\u001b[0m,\n",
              "\u001b[2;32m│   │   \u001b[0m\u001b[33mmetadata\u001b[0m=\u001b[1m{\u001b[0m\n",
              "\u001b[2;32m│   │   │   \u001b[0m\u001b[32m'source'\u001b[0m: \u001b[32m'https://www.businessweekly.com.tw/focus/blog/3015636'\u001b[0m\n",
              "\u001b[2;32m│   │   \u001b[0m\u001b[1m}\u001b[0m\n",
              "\u001b[2;32m│   \u001b[0m\u001b[1m)\u001b[0m\n",
              "\u001b[1m]\u001b[0m\n"
            ],
            "text/html": [
              "<pre style=\"white-space:pre;overflow-x:auto;line-height:normal;font-family:Menlo,'DejaVu Sans Mono',consolas,'Courier New',monospace\"><span style=\"font-weight: bold\">[</span>\n",
              "<span style=\"color: #7fbf7f; text-decoration-color: #7fbf7f\">│   </span><span style=\"color: #800080; text-decoration-color: #800080; font-weight: bold\">Document</span><span style=\"font-weight: bold\">(</span>\n",
              "<span style=\"color: #7fbf7f; text-decoration-color: #7fbf7f\">│   │   </span><span style=\"color: #808000; text-decoration-color: #808000\">page_content</span>=<span style=\"color: #008000; text-decoration-color: #008000\">'商業周刊編輯處用戶成長中心整理：國會改革5法是哪5法？\\n是指修正《立法院職權行使法》、《刑法》、《立法院組織法》、《立法委員行為法》、《立法委員互選院長副院長辦法》等5法的部分內容。\\n國會改革法案引發哪些爭議？\\n\\n立委擴權問題：藍白提出的修法草案，可能過度擴張立法權力，侵犯行政權。例如，要求總統定期到立院進行國情報告，可能涉及侵害國家機密或外交機密；增訂「藐視國會罪」，可能影響司法獨立；修改立委互選院長副院長辦法，可能影響監察權。\\n程序問題：國民黨和民眾黨以立法院多數之姿，以不記名的方式舉手表決通過未經充分討論的修法草案。\\n\\n國會改革法案修法時間軸'</span>,\n",
              "<span style=\"color: #7fbf7f; text-decoration-color: #7fbf7f\">│   │   </span><span style=\"color: #808000; text-decoration-color: #808000\">metadata</span>=<span style=\"font-weight: bold\">{</span>\n",
              "<span style=\"color: #7fbf7f; text-decoration-color: #7fbf7f\">│   │   │   </span><span style=\"color: #008000; text-decoration-color: #008000\">'source'</span>: <span style=\"color: #008000; text-decoration-color: #008000\">'https://www.businessweekly.com.tw/focus/blog/3015636'</span>\n",
              "<span style=\"color: #7fbf7f; text-decoration-color: #7fbf7f\">│   │   </span><span style=\"font-weight: bold\">}</span>\n",
              "<span style=\"color: #7fbf7f; text-decoration-color: #7fbf7f\">│   </span><span style=\"font-weight: bold\">)</span>,\n",
              "<span style=\"color: #7fbf7f; text-decoration-color: #7fbf7f\">│   </span><span style=\"color: #800080; text-decoration-color: #800080; font-weight: bold\">Document</span><span style=\"font-weight: bold\">(</span>\n",
              "<span style=\"color: #7fbf7f; text-decoration-color: #7fbf7f\">│   │   </span><span style=\"color: #808000; text-decoration-color: #808000\">page_content</span>=<span style=\"color: #008000; text-decoration-color: #008000\">'2月20日：本屆立法院開議\\n3月4日：國民黨團提出國會改革法案\\n3月8日：法案交付委員會審查\\n3月29日：民進黨提出自己版本國會改革法案。後經公聽會及委員會逐條審查，最終未納入民進黨版本。\\n4月3日、4月10日、4月11日：民眾黨、國民黨、民進黨立委提出之法案，舉行3次公聽會。\\n4月15日：國民黨版本進入委員會逐條審查，但所有條文保留送黨團協商。\\n5月16日：無共識的保留條文冷凍期結束，立院院長召集協商，藍綠唇槍舌戰不歡而散。\\n5月17日：朝野黨團在立院爆發衝突，二讀通過總統國情報告。\\n5月21日：二讀通過質詢答覆、人事同意權、調查權及聽證權等共21條條文。'</span>,\n",
              "<span style=\"color: #7fbf7f; text-decoration-color: #7fbf7f\">│   │   </span><span style=\"color: #808000; text-decoration-color: #808000\">metadata</span>=<span style=\"font-weight: bold\">{</span>\n",
              "<span style=\"color: #7fbf7f; text-decoration-color: #7fbf7f\">│   │   │   </span><span style=\"color: #008000; text-decoration-color: #008000\">'source'</span>: <span style=\"color: #008000; text-decoration-color: #008000\">'https://www.businessweekly.com.tw/focus/blog/3015636'</span>\n",
              "<span style=\"color: #7fbf7f; text-decoration-color: #7fbf7f\">│   │   </span><span style=\"font-weight: bold\">}</span>\n",
              "<span style=\"color: #7fbf7f; text-decoration-color: #7fbf7f\">│   </span><span style=\"font-weight: bold\">)</span>,\n",
              "<span style=\"color: #7fbf7f; text-decoration-color: #7fbf7f\">│   </span><span style=\"color: #800080; text-decoration-color: #800080; font-weight: bold\">Document</span><span style=\"font-weight: bold\">(</span>\n",
              "<span style=\"color: #7fbf7f; text-decoration-color: #7fbf7f\">│   │   </span><span style=\"color: #808000; text-decoration-color: #808000\">page_content</span>=<span style=\"color: #008000; text-decoration-color: #008000\">'5月24日：續審立委行使調查權、聽證權等條文，共處理20多條條文。聽證權規範增訂，若在聽證會上有虛偽陳述者得經院會決議處2萬元以上、20萬元以下罰鍰。5月28日：三讀通過總統國情報告常態化、藐視國會罰則、強化國會人事同意權、賦予國會調查權及聽證權。'</span>,\n",
              "<span style=\"color: #7fbf7f; text-decoration-color: #7fbf7f\">│   │   </span><span style=\"color: #808000; text-decoration-color: #808000\">metadata</span>=<span style=\"font-weight: bold\">{</span>\n",
              "<span style=\"color: #7fbf7f; text-decoration-color: #7fbf7f\">│   │   │   </span><span style=\"color: #008000; text-decoration-color: #008000\">'source'</span>: <span style=\"color: #008000; text-decoration-color: #008000\">'https://www.businessweekly.com.tw/focus/blog/3015636'</span>\n",
              "<span style=\"color: #7fbf7f; text-decoration-color: #7fbf7f\">│   │   </span><span style=\"font-weight: bold\">}</span>\n",
              "<span style=\"color: #7fbf7f; text-decoration-color: #7fbf7f\">│   </span><span style=\"font-weight: bold\">)</span>,\n",
              "<span style=\"color: #7fbf7f; text-decoration-color: #7fbf7f\">│   </span><span style=\"color: #800080; text-decoration-color: #800080; font-weight: bold\">Document</span><span style=\"font-weight: bold\">(</span>\n",
              "<span style=\"color: #7fbf7f; text-decoration-color: #7fbf7f\">│   │   </span><span style=\"color: #808000; text-decoration-color: #808000\">page_content</span>=<span style=\"color: #008000; text-decoration-color: #008000\">'引發爭議的法案內容\\n國會改革法案朝野攻防重點內容：\\n總統國情報告常態化\\n進度：5月28日三讀通過。\\n修法內容：針對《立法院職權行使法》第15-1、15-2條中與總統至立法院進行國情報告相關內容，總統每年須於2月1日前提交國情報告書、3月1日前赴立院報告，新任總統須於就職2週內提書面報告、1個月內到院報告。\\n條文賦予立委於總統報告後，可就不明處提出口頭或書面質詢的權利，總統應即時回答口頭問題、7日內回覆書面問題，重大事項可延長5日。問題提出時間、順序等由黨團協商決定。這項條文的目的在於強化立院監督總統職權，增加問政機制。'</span>,\n",
              "<span style=\"color: #7fbf7f; text-decoration-color: #7fbf7f\">│   │   </span><span style=\"color: #808000; text-decoration-color: #808000\">metadata</span>=<span style=\"font-weight: bold\">{</span>\n",
              "<span style=\"color: #7fbf7f; text-decoration-color: #7fbf7f\">│   │   │   </span><span style=\"color: #008000; text-decoration-color: #008000\">'source'</span>: <span style=\"color: #008000; text-decoration-color: #008000\">'https://www.businessweekly.com.tw/focus/blog/3015636'</span>\n",
              "<span style=\"color: #7fbf7f; text-decoration-color: #7fbf7f\">│   │   </span><span style=\"font-weight: bold\">}</span>\n",
              "<span style=\"color: #7fbf7f; text-decoration-color: #7fbf7f\">│   </span><span style=\"font-weight: bold\">)</span>,\n",
              "<span style=\"color: #7fbf7f; text-decoration-color: #7fbf7f\">│   </span><span style=\"color: #800080; text-decoration-color: #800080; font-weight: bold\">Document</span><span style=\"font-weight: bold\">(</span>\n",
              "<span style=\"color: #7fbf7f; text-decoration-color: #7fbf7f\">│   │   </span><span style=\"color: #808000; text-decoration-color: #808000\">page_content</span>=<span style=\"color: #008000; text-decoration-color: #008000\">'爭議點：國民黨與民眾黨主張，應賦予立委在總統報告後可「即問即答」的權利；民進黨認為，依據《憲法》規定，立院只是「得」聽取總統國情報告，並未授權立委對總統進行詢答，此改變可能違憲，應由行政院長而非總統負責回應。\\n藐視國會罪\\n進度：5月28日三讀通過。'</span>,\n",
              "<span style=\"color: #7fbf7f; text-decoration-color: #7fbf7f\">│   │   </span><span style=\"color: #808000; text-decoration-color: #808000\">metadata</span>=<span style=\"font-weight: bold\">{</span>\n",
              "<span style=\"color: #7fbf7f; text-decoration-color: #7fbf7f\">│   │   │   </span><span style=\"color: #008000; text-decoration-color: #008000\">'source'</span>: <span style=\"color: #008000; text-decoration-color: #008000\">'https://www.businessweekly.com.tw/focus/blog/3015636'</span>\n",
              "<span style=\"color: #7fbf7f; text-decoration-color: #7fbf7f\">│   │   </span><span style=\"font-weight: bold\">}</span>\n",
              "<span style=\"color: #7fbf7f; text-decoration-color: #7fbf7f\">│   </span><span style=\"font-weight: bold\">)</span>,\n",
              "<span style=\"color: #7fbf7f; text-decoration-color: #7fbf7f\">│   </span><span style=\"color: #800080; text-decoration-color: #800080; font-weight: bold\">Document</span><span style=\"font-weight: bold\">(</span>\n",
              "<span style=\"color: #7fbf7f; text-decoration-color: #7fbf7f\">│   │   </span><span style=\"color: #808000; text-decoration-color: #808000\">page_content</span>=<span style=\"color: #008000; text-decoration-color: #008000\">'藐視國會罪\\n進度：5月28日三讀通過。\\n修法內容：修正《立法院職權行使法》第25條內容，被質詢人不得拒絕答復、隱匿資訊或虛偽答復，否則視為藐視國會。經主席制止後仍違反者，可處2萬～20萬元罰鍰，逾期不改正可連續開罰。政府人員如有虛偽陳述，將依法追究刑責。若不服罰鍰處分，可提行政訴訟。對委員反質詢或缺席未獲同意也屬藐視國會，可決議移送彈劾或懲戒。主旨在確保政府有效回應國會質詢，強化國會監督權力。\\n爭議點：民進黨立法院黨團幹事長吳思瑤認為，新增藐視國會罪恐過度擴大國會權力。法務部次長陳明堂質疑，藐視國會罪這可能造成寒蟬效應，使相關機關人員畏懼配合而產生壓力。\\n國會聽證權與調查權'</span>,\n",
              "<span style=\"color: #7fbf7f; text-decoration-color: #7fbf7f\">│   │   </span><span style=\"color: #808000; text-decoration-color: #808000\">metadata</span>=<span style=\"font-weight: bold\">{</span>\n",
              "<span style=\"color: #7fbf7f; text-decoration-color: #7fbf7f\">│   │   │   </span><span style=\"color: #008000; text-decoration-color: #008000\">'source'</span>: <span style=\"color: #008000; text-decoration-color: #008000\">'https://www.businessweekly.com.tw/focus/blog/3015636'</span>\n",
              "<span style=\"color: #7fbf7f; text-decoration-color: #7fbf7f\">│   │   </span><span style=\"font-weight: bold\">}</span>\n",
              "<span style=\"color: #7fbf7f; text-decoration-color: #7fbf7f\">│   </span><span style=\"font-weight: bold\">)</span>,\n",
              "<span style=\"color: #7fbf7f; text-decoration-color: #7fbf7f\">│   </span><span style=\"color: #800080; text-decoration-color: #800080; font-weight: bold\">Document</span><span style=\"font-weight: bold\">(</span>\n",
              "<span style=\"color: #7fbf7f; text-decoration-color: #7fbf7f\">│   │   </span><span style=\"color: #808000; text-decoration-color: #808000\">page_content</span>=<span style=\"color: #008000; text-decoration-color: #008000\">'國會聽證權與調查權\\n進度：5月28日三讀通過。\\n修法內容：修正《立法院職權行使法》第46～48條內容，立法院可設置調查委員會或專案小組，對相關議案或職權事項行使調查權及調閱權。可要求政府機關、法人、團體或相關人員在5日內提供文件資料，拒絕者可處1萬～10萬元罰鍰，並可連續處罰至改正。政府機關違規可移送監察院彈劾。法人團體違規可經院會決議開罰，不服可提行政訴訟。調查權旨在監督政府並獲取相關資訊，強化國會權力。'</span>,\n",
              "<span style=\"color: #7fbf7f; text-decoration-color: #7fbf7f\">│   │   </span><span style=\"color: #808000; text-decoration-color: #808000\">metadata</span>=<span style=\"font-weight: bold\">{</span>\n",
              "<span style=\"color: #7fbf7f; text-decoration-color: #7fbf7f\">│   │   │   </span><span style=\"color: #008000; text-decoration-color: #008000\">'source'</span>: <span style=\"color: #008000; text-decoration-color: #008000\">'https://www.businessweekly.com.tw/focus/blog/3015636'</span>\n",
              "<span style=\"color: #7fbf7f; text-decoration-color: #7fbf7f\">│   │   </span><span style=\"font-weight: bold\">}</span>\n",
              "<span style=\"color: #7fbf7f; text-decoration-color: #7fbf7f\">│   </span><span style=\"font-weight: bold\">)</span>,\n",
              "<span style=\"color: #7fbf7f; text-decoration-color: #7fbf7f\">│   </span><span style=\"color: #800080; text-decoration-color: #800080; font-weight: bold\">Document</span><span style=\"font-weight: bold\">(</span>\n",
              "<span style=\"color: #7fbf7f; text-decoration-color: #7fbf7f\">│   │   </span><span style=\"color: #808000; text-decoration-color: #808000\">page_content</span>=<span style=\"color: #008000; text-decoration-color: #008000\">'爭議點：憲法未明文賦予國會調查權，且立法院通過的草案中缺乏適當限制，讓政府機關、人民可能難以拒絕調查。此外，調查報告的效力不夠明確，可能與其他機關調查產生重疊，且委員利益迴避的相關規範並不充足，恐讓調查的公正性受質疑。\\n強化人事同意權\\n進度：5月28日三讀通過。'</span>,\n",
              "<span style=\"color: #7fbf7f; text-decoration-color: #7fbf7f\">│   │   </span><span style=\"color: #808000; text-decoration-color: #808000\">metadata</span>=<span style=\"font-weight: bold\">{</span>\n",
              "<span style=\"color: #7fbf7f; text-decoration-color: #7fbf7f\">│   │   │   </span><span style=\"color: #008000; text-decoration-color: #008000\">'source'</span>: <span style=\"color: #008000; text-decoration-color: #008000\">'https://www.businessweekly.com.tw/focus/blog/3015636'</span>\n",
              "<span style=\"color: #7fbf7f; text-decoration-color: #7fbf7f\">│   │   </span><span style=\"font-weight: bold\">}</span>\n",
              "<span style=\"color: #7fbf7f; text-decoration-color: #7fbf7f\">│   </span><span style=\"font-weight: bold\">)</span>,\n",
              "<span style=\"color: #7fbf7f; text-decoration-color: #7fbf7f\">│   </span><span style=\"color: #800080; text-decoration-color: #800080; font-weight: bold\">Document</span><span style=\"font-weight: bold\">(</span>\n",
              "<span style=\"color: #7fbf7f; text-decoration-color: #7fbf7f\">│   │   </span><span style=\"color: #808000; text-decoration-color: #808000\">page_content</span>=<span style=\"color: #008000; text-decoration-color: #008000\">'強化人事同意權\\n進度：5月28日三讀通過。\\n修法內容：修正《立法院職權行使法》第29條、第29-1條、第30條、第30-1條、第31條等條文修正草案，強化國會人事同意權。人事同意案須經全體立委1/2以上同意通過，採記名投票表決。審查程序至少1個月，須舉行公聽會徵詢意見。被提名人須提供詳細資料，並在委員會接受詢問說明；被提名人須就資料真實性具結，違反可處2～20萬元罰鍰。總統或行政院長應尊重國會同意結果，未獲同意需另提名人選。\\n爭議點：民進黨認為國民黨及民眾黨的修法版本，會大幅增加立院對人事案的干預，可能壓縮行政權，還會拖延人事任命進度，影響政府運作。'</span>,\n",
              "<span style=\"color: #7fbf7f; text-decoration-color: #7fbf7f\">│   │   </span><span style=\"color: #808000; text-decoration-color: #808000\">metadata</span>=<span style=\"font-weight: bold\">{</span>\n",
              "<span style=\"color: #7fbf7f; text-decoration-color: #7fbf7f\">│   │   │   </span><span style=\"color: #008000; text-decoration-color: #008000\">'source'</span>: <span style=\"color: #008000; text-decoration-color: #008000\">'https://www.businessweekly.com.tw/focus/blog/3015636'</span>\n",
              "<span style=\"color: #7fbf7f; text-decoration-color: #7fbf7f\">│   │   </span><span style=\"font-weight: bold\">}</span>\n",
              "<span style=\"color: #7fbf7f; text-decoration-color: #7fbf7f\">│   </span><span style=\"font-weight: bold\">)</span>,\n",
              "<span style=\"color: #7fbf7f; text-decoration-color: #7fbf7f\">│   </span><span style=\"color: #800080; text-decoration-color: #800080; font-weight: bold\">Document</span><span style=\"font-weight: bold\">(</span>\n",
              "<span style=\"color: #7fbf7f; text-decoration-color: #7fbf7f\">│   │   </span><span style=\"color: #808000; text-decoration-color: #808000\">page_content</span>=<span style=\"color: #008000; text-decoration-color: #008000\">'以下報導出自中央社：5月28日：國會改革法案藍白人數優勢三讀，場外青鳥行動集結抗議民團發起「青鳥行動」，號召民眾到立法院外抗議國會職權修法，而在藍白挾人數優勢下，朝野歷經4天表決大戰，立法院會28日三讀修正通過立法院職權行使法、刑法部分條文等案，明定被質詢人藐視國會最高罰20萬元等關鍵條文。第11屆的立法院自2月1日展開，藍綠白陣營均將國會職權修正法案列為重中之重，相互攻防。\\n廣告-請繼續往下閱讀'</span>,\n",
              "<span style=\"color: #7fbf7f; text-decoration-color: #7fbf7f\">│   │   </span><span style=\"color: #808000; text-decoration-color: #808000\">metadata</span>=<span style=\"font-weight: bold\">{</span>\n",
              "<span style=\"color: #7fbf7f; text-decoration-color: #7fbf7f\">│   │   │   </span><span style=\"color: #008000; text-decoration-color: #008000\">'source'</span>: <span style=\"color: #008000; text-decoration-color: #008000\">'https://www.businessweekly.com.tw/focus/blog/3015636'</span>\n",
              "<span style=\"color: #7fbf7f; text-decoration-color: #7fbf7f\">│   │   </span><span style=\"font-weight: bold\">}</span>\n",
              "<span style=\"color: #7fbf7f; text-decoration-color: #7fbf7f\">│   </span><span style=\"font-weight: bold\">)</span>,\n",
              "<span style=\"color: #7fbf7f; text-decoration-color: #7fbf7f\">│   </span><span style=\"color: #800080; text-decoration-color: #800080; font-weight: bold\">Document</span><span style=\"font-weight: bold\">(</span>\n",
              "<span style=\"color: #7fbf7f; text-decoration-color: #7fbf7f\">│   │   </span><span style=\"color: #808000; text-decoration-color: #808000\">page_content</span>=<span style=\"color: #008000; text-decoration-color: #008000\">'立法院司法及法制委員會4月15日初審通過國民黨立委傅崐萁、台灣民眾黨立法院黨團所提立法院職權行使法部分條文修正草案等案，但全數條文保留，交黨團協商。藍白所提國會職權修正法案，經立法院司法及法制委員會召委、國民黨立委吳宗憲主持的朝野黨團協商無共識下，吳宗憲宣告依規定送院會。全案列為5月17日、5月21日、5月24日、5月28日院會的討論事項，而5月17日、5月21日、5月24日均挑燈夜戰，延長開會時間到午夜12時。5月28日的院會，於下午4時59分三讀修正通過立法院職權行使法部分條文，並於晚上10時54分許三讀修正通過刑法部分條文。立法院會處理時，藍白為使議事順利，開會前均在議場門口排隊卡位，'</span>,\n",
              "<span style=\"color: #7fbf7f; text-decoration-color: #7fbf7f\">│   │   </span><span style=\"color: #808000; text-decoration-color: #808000\">metadata</span>=<span style=\"font-weight: bold\">{</span>\n",
              "<span style=\"color: #7fbf7f; text-decoration-color: #7fbf7f\">│   │   │   </span><span style=\"color: #008000; text-decoration-color: #008000\">'source'</span>: <span style=\"color: #008000; text-decoration-color: #008000\">'https://www.businessweekly.com.tw/focus/blog/3015636'</span>\n",
              "<span style=\"color: #7fbf7f; text-decoration-color: #7fbf7f\">│   │   </span><span style=\"font-weight: bold\">}</span>\n",
              "<span style=\"color: #7fbf7f; text-decoration-color: #7fbf7f\">│   </span><span style=\"font-weight: bold\">)</span>,\n",
              "<span style=\"color: #7fbf7f; text-decoration-color: #7fbf7f\">│   </span><span style=\"color: #800080; text-decoration-color: #800080; font-weight: bold\">Document</span><span style=\"font-weight: bold\">(</span>\n",
              "<span style=\"color: #7fbf7f; text-decoration-color: #7fbf7f\">│   │   </span><span style=\"color: #808000; text-decoration-color: #808000\">page_content</span>=<span style=\"color: #008000; text-decoration-color: #008000\">'法院會處理時，藍白為使議事順利，開會前均在議場門口排隊卡位，朝野在17日的院會爆發激烈肢體衝突，藍綠均有立委受傷送醫，但在此後的院會，朝野則未再發生激烈肢體衝突，多是隔空叫陣。'</span>,\n",
              "<span style=\"color: #7fbf7f; text-decoration-color: #7fbf7f\">│   │   </span><span style=\"color: #808000; text-decoration-color: #808000\">metadata</span>=<span style=\"font-weight: bold\">{</span>\n",
              "<span style=\"color: #7fbf7f; text-decoration-color: #7fbf7f\">│   │   │   </span><span style=\"color: #008000; text-decoration-color: #008000\">'source'</span>: <span style=\"color: #008000; text-decoration-color: #008000\">'https://www.businessweekly.com.tw/focus/blog/3015636'</span>\n",
              "<span style=\"color: #7fbf7f; text-decoration-color: #7fbf7f\">│   │   </span><span style=\"font-weight: bold\">}</span>\n",
              "<span style=\"color: #7fbf7f; text-decoration-color: #7fbf7f\">│   </span><span style=\"font-weight: bold\">)</span>,\n",
              "<span style=\"color: #7fbf7f; text-decoration-color: #7fbf7f\">│   </span><span style=\"color: #800080; text-decoration-color: #800080; font-weight: bold\">Document</span><span style=\"font-weight: bold\">(</span>\n",
              "<span style=\"color: #7fbf7f; text-decoration-color: #7fbf7f\">│   │   </span><span style=\"color: #808000; text-decoration-color: #808000\">page_content</span>=<span style=\"color: #008000; text-decoration-color: #008000\">'廣告-請繼續往下閱讀'</span>,\n",
              "<span style=\"color: #7fbf7f; text-decoration-color: #7fbf7f\">│   │   </span><span style=\"color: #808000; text-decoration-color: #808000\">metadata</span>=<span style=\"font-weight: bold\">{</span>\n",
              "<span style=\"color: #7fbf7f; text-decoration-color: #7fbf7f\">│   │   │   </span><span style=\"color: #008000; text-decoration-color: #008000\">'source'</span>: <span style=\"color: #008000; text-decoration-color: #008000\">'https://www.businessweekly.com.tw/focus/blog/3015636'</span>\n",
              "<span style=\"color: #7fbf7f; text-decoration-color: #7fbf7f\">│   │   </span><span style=\"font-weight: bold\">}</span>\n",
              "<span style=\"color: #7fbf7f; text-decoration-color: #7fbf7f\">│   </span><span style=\"font-weight: bold\">)</span>,\n",
              "<span style=\"color: #7fbf7f; text-decoration-color: #7fbf7f\">│   </span><span style=\"color: #800080; text-decoration-color: #800080; font-weight: bold\">Document</span><span style=\"font-weight: bold\">(</span>\n",
              "<span style=\"color: #7fbf7f; text-decoration-color: #7fbf7f\">│   │   </span><span style=\"color: #808000; text-decoration-color: #808000\">page_content</span>=<span style=\"color: #008000; text-decoration-color: #008000\">'而在立法院外，民團發起「青鳥行動」，多次號召民眾到立法院外抗議，要求退回法案，尤其24日晚間，大批民眾塞爆青島東路、濟南路及中山南路，當天晚間9時，主辦單位稱現場達10萬人。立法院會28日開會，會議主席、立法院長韓國瑜在下午3時29分許宣布，立法院職權行使法全案已經過二讀，此時台下的民進黨立委，朝主席台射出象徵「青鳥」的紙飛機。條文進入三讀時，民進黨立委在場中準備紅、藍、白的橡膠大球，上面印著「反惡法、反擴權、反黑箱」的字樣，國民黨立委不甘示弱，在場中拉起「讓陽光照進國會」的布條。三讀條文宣讀完畢後，國民黨團提議三讀文字修正，引來民進黨立委不滿並表達異議，之後則朝主席台丟擲裝著東西的藍色垃圾'</span>,\n",
              "<span style=\"color: #7fbf7f; text-decoration-color: #7fbf7f\">│   │   </span><span style=\"color: #808000; text-decoration-color: #808000\">metadata</span>=<span style=\"font-weight: bold\">{</span>\n",
              "<span style=\"color: #7fbf7f; text-decoration-color: #7fbf7f\">│   │   │   </span><span style=\"color: #008000; text-decoration-color: #008000\">'source'</span>: <span style=\"color: #008000; text-decoration-color: #008000\">'https://www.businessweekly.com.tw/focus/blog/3015636'</span>\n",
              "<span style=\"color: #7fbf7f; text-decoration-color: #7fbf7f\">│   │   </span><span style=\"font-weight: bold\">}</span>\n",
              "<span style=\"color: #7fbf7f; text-decoration-color: #7fbf7f\">│   </span><span style=\"font-weight: bold\">)</span>,\n",
              "<span style=\"color: #7fbf7f; text-decoration-color: #7fbf7f\">│   </span><span style=\"color: #800080; text-decoration-color: #800080; font-weight: bold\">Document</span><span style=\"font-weight: bold\">(</span>\n",
              "<span style=\"color: #7fbf7f; text-decoration-color: #7fbf7f\">│   │   </span><span style=\"color: #808000; text-decoration-color: #808000\">page_content</span>=<span style=\"color: #008000; text-decoration-color: #008000\">'進黨立委不滿並表達異議，之後則朝主席台丟擲裝著東西的藍色垃圾袋，並高喊三讀無效等口號，國民黨立委則以手板阻擋，後來國民黨團撤銷文字修正，不再處理。針對邀請總統至立法院進行國情報告，經舉手表決，三讀通過條文規定，除要常態化進行，對於立委進行口頭提問時，總統應依序即時回答。至於質詢答復上，三讀條文規範不得反質詢，而被質詢人應有不得拒絕答復、拒絕提供資料等或有其他藐視國會行為的義務，違者處新台幣2萬元以上20萬元以下罰鍰。三讀條文也明定，在立委行使人事同意權部分，規範以記名投票表決、審查期間不得少於1個月，而且被提名人違反相關規定，經院會決議者，得處2萬元以上20萬元以下罰鍰。另外，關於立法院行使調'</span>,\n",
              "<span style=\"color: #7fbf7f; text-decoration-color: #7fbf7f\">│   │   </span><span style=\"color: #808000; text-decoration-color: #808000\">metadata</span>=<span style=\"font-weight: bold\">{</span>\n",
              "<span style=\"color: #7fbf7f; text-decoration-color: #7fbf7f\">│   │   │   </span><span style=\"color: #008000; text-decoration-color: #008000\">'source'</span>: <span style=\"color: #008000; text-decoration-color: #008000\">'https://www.businessweekly.com.tw/focus/blog/3015636'</span>\n",
              "<span style=\"color: #7fbf7f; text-decoration-color: #7fbf7f\">│   │   </span><span style=\"font-weight: bold\">}</span>\n",
              "<span style=\"color: #7fbf7f; text-decoration-color: #7fbf7f\">│   </span><span style=\"font-weight: bold\">)</span>,\n",
              "<span style=\"color: #7fbf7f; text-decoration-color: #7fbf7f\">│   </span><span style=\"color: #800080; text-decoration-color: #800080; font-weight: bold\">Document</span><span style=\"font-weight: bold\">(</span>\n",
              "<span style=\"color: #7fbf7f; text-decoration-color: #7fbf7f\">│   │   </span><span style=\"color: #808000; text-decoration-color: #808000\">page_content</span>=<span style=\"color: #008000; text-decoration-color: #008000\">'議者，得處2萬元以上20萬元以下罰鍰。另外，關於立法院行使調查權部分，三讀條文規定，得要求政府機關、部隊、法人、團體或社會上有關係人員提供相關資料，法人或社會上有關係人員等違反相關規定，得經立法院會決議，處最高10萬元罰鍰。這次修法也增訂立法院行使聽證權的規範，並規定出席聽證會的社會上有關係人員為證言時，為虛偽陳述者，得經立法院會決議，處2萬元以上20萬元以下罰鍰。此外，這次修法也包括刑法，三讀修正通過條文增訂藐視國會罪，規定公務員於立法院聽證或受質詢時，就其所知的重要關係事項，為虛偽陳述者，處1年以下有期徒刑、拘役或20萬元以下罰金。而在立法院會三讀修正通過刑法部分條文後，國民黨立委高喊修法'</span>,\n",
              "<span style=\"color: #7fbf7f; text-decoration-color: #7fbf7f\">│   │   </span><span style=\"color: #808000; text-decoration-color: #808000\">metadata</span>=<span style=\"font-weight: bold\">{</span>\n",
              "<span style=\"color: #7fbf7f; text-decoration-color: #7fbf7f\">│   │   │   </span><span style=\"color: #008000; text-decoration-color: #008000\">'source'</span>: <span style=\"color: #008000; text-decoration-color: #008000\">'https://www.businessweekly.com.tw/focus/blog/3015636'</span>\n",
              "<span style=\"color: #7fbf7f; text-decoration-color: #7fbf7f\">│   │   </span><span style=\"font-weight: bold\">}</span>\n",
              "<span style=\"color: #7fbf7f; text-decoration-color: #7fbf7f\">│   </span><span style=\"font-weight: bold\">)</span>,\n",
              "<span style=\"color: #7fbf7f; text-decoration-color: #7fbf7f\">│   </span><span style=\"color: #800080; text-decoration-color: #800080; font-weight: bold\">Document</span><span style=\"font-weight: bold\">(</span>\n",
              "<span style=\"color: #7fbf7f; text-decoration-color: #7fbf7f\">│   │   </span><span style=\"color: #808000; text-decoration-color: #808000\">page_content</span>=<span style=\"color: #008000; text-decoration-color: #008000\">'。而在立法院會三讀修正通過刑法部分條文後，國民黨立委高喊修法通過、國會重生，民進黨立委則喊釋憲挺人民等口號。5月24日：民團冒雨集結、自組醫療站立法院職權行使法24日續審，民團將在場外上陣宣講，由於現場天雨路滑，不少志工民眾協助布置場地、發送雨衣，另有醫護人員自發到場設立青島東路醫療站，避免意外事故發生。'</span>,\n",
              "<span style=\"color: #7fbf7f; text-decoration-color: #7fbf7f\">│   │   </span><span style=\"color: #808000; text-decoration-color: #808000\">metadata</span>=<span style=\"font-weight: bold\">{</span>\n",
              "<span style=\"color: #7fbf7f; text-decoration-color: #7fbf7f\">│   │   │   </span><span style=\"color: #008000; text-decoration-color: #008000\">'source'</span>: <span style=\"color: #008000; text-decoration-color: #008000\">'https://www.businessweekly.com.tw/focus/blog/3015636'</span>\n",
              "<span style=\"color: #7fbf7f; text-decoration-color: #7fbf7f\">│   │   </span><span style=\"font-weight: bold\">}</span>\n",
              "<span style=\"color: #7fbf7f; text-decoration-color: #7fbf7f\">│   </span><span style=\"font-weight: bold\">)</span>,\n",
              "<span style=\"color: #7fbf7f; text-decoration-color: #7fbf7f\">│   </span><span style=\"color: #800080; text-decoration-color: #800080; font-weight: bold\">Document</span><span style=\"font-weight: bold\">(</span>\n",
              "<span style=\"color: #7fbf7f; text-decoration-color: #7fbf7f\">│   │   </span><span style=\"color: #808000; text-decoration-color: #808000\">page_content</span>=<span style=\"color: #008000; text-decoration-color: #008000\">'立法院會5月17日、21日二讀表決通過立法院職權行使法部分條文修正草案；24日院會續審立法院職權相關法案，多個民團到立法院外表達訴求。\\n24日上午活動現場天雨路滑，許多民眾冒雨到場參與活動，並自發性協助民團布置場地，現場氣氛和平、理性，也有醫護人員自發組成「青島東路醫療站」，並訂定醫療通道、醫療中立等流程原則，避免意外事故或緊急衝突發生。\\n此外，許多民眾為表達訴求、理念，也自製許多標語，例如「白藍綁架國會」、「真民主能討論」、「我藐視國會」等語詞。'</span>,\n",
              "<span style=\"color: #7fbf7f; text-decoration-color: #7fbf7f\">│   │   </span><span style=\"color: #808000; text-decoration-color: #808000\">metadata</span>=<span style=\"font-weight: bold\">{</span>\n",
              "<span style=\"color: #7fbf7f; text-decoration-color: #7fbf7f\">│   │   │   </span><span style=\"color: #008000; text-decoration-color: #008000\">'source'</span>: <span style=\"color: #008000; text-decoration-color: #008000\">'https://www.businessweekly.com.tw/focus/blog/3015636'</span>\n",
              "<span style=\"color: #7fbf7f; text-decoration-color: #7fbf7f\">│   │   </span><span style=\"font-weight: bold\">}</span>\n",
              "<span style=\"color: #7fbf7f; text-decoration-color: #7fbf7f\">│   </span><span style=\"font-weight: bold\">)</span>,\n",
              "<span style=\"color: #7fbf7f; text-decoration-color: #7fbf7f\">│   </span><span style=\"color: #800080; text-decoration-color: #800080; font-weight: bold\">Document</span><span style=\"font-weight: bold\">(</span>\n",
              "<span style=\"color: #7fbf7f; text-decoration-color: #7fbf7f\">│   │   </span><span style=\"color: #808000; text-decoration-color: #808000\">page_content</span>=<span style=\"color: #008000; text-decoration-color: #008000\">'1名自發性參與的淡水楊姓女子向中央社記者表示，剛從大學畢業，不希望看到最壞的結果，今天能待到多晚，就會待到多晚；另1名張姓男志工指出，多1個人的力量，就多一份幫助，希望今天能看到實質討論、實質審查。\\n今年17歲的高雄林姓男高中生則表示，自己經過父母同意向學校請假，搭乘高鐵北上，也要到場表達心裡的意見。擔任編劇的譚姓民眾則說，自己曾參與過太陽花學運，現在時空轉變，但同樣的黑箱重複上演。5月21日：民團號召抗議萬人上街頭立法院會21日續處理藍白所提國會職權相關修法，逾40個民團聚集場外要求退回法案、落實程序正義，至晚間8時，人潮蔓延至中山南路慢車道，前聯電董事長曹興誠到場宣講。'</span>,\n",
              "<span style=\"color: #7fbf7f; text-decoration-color: #7fbf7f\">│   │   </span><span style=\"color: #808000; text-decoration-color: #808000\">metadata</span>=<span style=\"font-weight: bold\">{</span>\n",
              "<span style=\"color: #7fbf7f; text-decoration-color: #7fbf7f\">│   │   │   </span><span style=\"color: #008000; text-decoration-color: #008000\">'source'</span>: <span style=\"color: #008000; text-decoration-color: #008000\">'https://www.businessweekly.com.tw/focus/blog/3015636'</span>\n",
              "<span style=\"color: #7fbf7f; text-decoration-color: #7fbf7f\">│   │   </span><span style=\"font-weight: bold\">}</span>\n",
              "<span style=\"color: #7fbf7f; text-decoration-color: #7fbf7f\">│   </span><span style=\"font-weight: bold\">)</span>,\n",
              "<span style=\"color: #7fbf7f; text-decoration-color: #7fbf7f\">│   </span><span style=\"color: #800080; text-decoration-color: #800080; font-weight: bold\">Document</span><span style=\"font-weight: bold\">(</span>\n",
              "<span style=\"color: #7fbf7f; text-decoration-color: #7fbf7f\">│   │   </span><span style=\"color: #808000; text-decoration-color: #808000\">page_content</span>=<span style=\"color: #008000; text-decoration-color: #008000\">'立法院場外、青島東路側門從上午起聚集超過40個民間團體聲援，聯合舉辦「國會濫權，民主倒退，公民搶救，立院集結」行動，現場不斷湧進支持民眾，有些人帶太陽花和「拒絕黑箱」、「沒有討論 沒有民主」等字條，要求國會尊重人民心聲。\\n台北市下午曾下大雨，聲援活動民眾撐起傘、穿雨衣持續在場守候。至晚間8時，參與活動人潮逐漸變多，連同監察院旁中山南路慢車道都擠滿人潮，甚至有民眾站在對面路口聲援，據記者現場觀察，民團在青島東路舉辦活動場地也同樣已擠滿聲援活動民眾。'</span>,\n",
              "<span style=\"color: #7fbf7f; text-decoration-color: #7fbf7f\">│   │   </span><span style=\"color: #808000; text-decoration-color: #808000\">metadata</span>=<span style=\"font-weight: bold\">{</span>\n",
              "<span style=\"color: #7fbf7f; text-decoration-color: #7fbf7f\">│   │   │   </span><span style=\"color: #008000; text-decoration-color: #008000\">'source'</span>: <span style=\"color: #008000; text-decoration-color: #008000\">'https://www.businessweekly.com.tw/focus/blog/3015636'</span>\n",
              "<span style=\"color: #7fbf7f; text-decoration-color: #7fbf7f\">│   │   </span><span style=\"font-weight: bold\">}</span>\n",
              "<span style=\"color: #7fbf7f; text-decoration-color: #7fbf7f\">│   </span><span style=\"font-weight: bold\">)</span>,\n",
              "<span style=\"color: #7fbf7f; text-decoration-color: #7fbf7f\">│   </span><span style=\"color: #800080; text-decoration-color: #800080; font-weight: bold\">Document</span><span style=\"font-weight: bold\">(</span>\n",
              "<span style=\"color: #7fbf7f; text-decoration-color: #7fbf7f\">│   │   </span><span style=\"color: #808000; text-decoration-color: #808000\">page_content</span>=<span style=\"color: #008000; text-decoration-color: #008000\">'民團提5訴求，包含國會改革不應破壞權力分立，不應侵害人民權益；退回國會三法，由委員會重審，517議事錄不予承認；拒絕立院變人大，抗議藍白沒收民主；委員會應實質討論各黨提案：停止濫用逕付二讀、全案保留、封殺提案、散會動議；沒有討論，不是民主，全案保留，等於沒審，封殺提案，威權復辟。\\n此外，前聯電董事長曹興誠在晚間特別到場宣講，他說，中共已對台透過3形式發動戰爭，包含軍事戰、輿論戰、法律戰。\\n曹興誠指出，軍事戰就是指透過軍事武力讓台灣害怕妥協，輿論戰就是利用與中共友好媒體名嘴，汙衊有名望的人，台灣不會要破壞中共現況，但中共卻每天破壞台灣現況。'</span>,\n",
              "<span style=\"color: #7fbf7f; text-decoration-color: #7fbf7f\">│   │   </span><span style=\"color: #808000; text-decoration-color: #808000\">metadata</span>=<span style=\"font-weight: bold\">{</span>\n",
              "<span style=\"color: #7fbf7f; text-decoration-color: #7fbf7f\">│   │   │   </span><span style=\"color: #008000; text-decoration-color: #008000\">'source'</span>: <span style=\"color: #008000; text-decoration-color: #008000\">'https://www.businessweekly.com.tw/focus/blog/3015636'</span>\n",
              "<span style=\"color: #7fbf7f; text-decoration-color: #7fbf7f\">│   │   </span><span style=\"font-weight: bold\">}</span>\n",
              "<span style=\"color: #7fbf7f; text-decoration-color: #7fbf7f\">│   </span><span style=\"font-weight: bold\">)</span>,\n",
              "<span style=\"color: #7fbf7f; text-decoration-color: #7fbf7f\">│   </span><span style=\"color: #800080; text-decoration-color: #800080; font-weight: bold\">Document</span><span style=\"font-weight: bold\">(</span>\n",
              "<span style=\"color: #7fbf7f; text-decoration-color: #7fbf7f\">│   │   </span><span style=\"color: #808000; text-decoration-color: #808000\">page_content</span>=<span style=\"color: #008000; text-decoration-color: #008000\">'曹興誠表示，至於法律戰，與中共友好者取得立法院多數，想擴充立法權壓制行政權等，據他香港友人稱目前在港都不太敢亂說話，若藍營立委希望台灣保持現狀不要讓中共統治，就不要讓立院變成中共狗腿，呼籲群眾若藍營立委仍執迷不悟，希望有所抗爭。5月17日：朝野爆發激烈衝突6立委送醫立法院會17日處理國會改革法案，朝野從清晨起爆發多起肢體衝突，傍晚開始進行處理，晚間7時左右爆發嚴重衝突，造成至少6位立委送醫。\\n立法院會排定處理國民黨團、民眾黨團所提攸關國會改革的相關法案，包括立法院職權行使法、刑法、立法委員互選院長副院長辦法等修法。'</span>,\n",
              "<span style=\"color: #7fbf7f; text-decoration-color: #7fbf7f\">│   │   </span><span style=\"color: #808000; text-decoration-color: #808000\">metadata</span>=<span style=\"font-weight: bold\">{</span>\n",
              "<span style=\"color: #7fbf7f; text-decoration-color: #7fbf7f\">│   │   │   </span><span style=\"color: #008000; text-decoration-color: #008000\">'source'</span>: <span style=\"color: #008000; text-decoration-color: #008000\">'https://www.businessweekly.com.tw/focus/blog/3015636'</span>\n",
              "<span style=\"color: #7fbf7f; text-decoration-color: #7fbf7f\">│   │   </span><span style=\"font-weight: bold\">}</span>\n",
              "<span style=\"color: #7fbf7f; text-decoration-color: #7fbf7f\">│   </span><span style=\"font-weight: bold\">)</span>,\n",
              "<span style=\"color: #7fbf7f; text-decoration-color: #7fbf7f\">│   </span><span style=\"color: #800080; text-decoration-color: #800080; font-weight: bold\">Document</span><span style=\"font-weight: bold\">(</span>\n",
              "<span style=\"color: #7fbf7f; text-decoration-color: #7fbf7f\">│   │   </span><span style=\"color: #808000; text-decoration-color: #808000\">page_content</span>=<span style=\"color: #008000; text-decoration-color: #008000\">'由於修法內容中的「藐視國會罪」、「國會調查權」、「總統國情報告」等，朝野歧見極大，占人數優勢的國民黨團、民眾黨團從15日開始在議場前排班，確保法案得以順利通過，民進黨也動員全力阻擋，讓立法院瀰漫山雨欲來風滿樓的氣氛。\\n立法院果然17日一早就爆發衝突，民進黨立法院黨團於上午6時45分左右突然現身議場前，和國民黨團爆發嚴重推擠。最終國民黨團、民眾黨團憑藉著人數優勢，順利占據議場主席台。\\n上午10時8分，立法院長韓國瑜才在國民黨立委護送下進入議場，宣布開會。在宣讀完協商結論後，並未進行國是論壇，而是直接進入報告事項，在處理逕付二讀、進行表決時，民進黨立委欲攻上主席台，朝野數度爆發推擠。'</span>,\n",
              "<span style=\"color: #7fbf7f; text-decoration-color: #7fbf7f\">│   │   </span><span style=\"color: #808000; text-decoration-color: #808000\">metadata</span>=<span style=\"font-weight: bold\">{</span>\n",
              "<span style=\"color: #7fbf7f; text-decoration-color: #7fbf7f\">│   │   │   </span><span style=\"color: #008000; text-decoration-color: #008000\">'source'</span>: <span style=\"color: #008000; text-decoration-color: #008000\">'https://www.businessweekly.com.tw/focus/blog/3015636'</span>\n",
              "<span style=\"color: #7fbf7f; text-decoration-color: #7fbf7f\">│   │   </span><span style=\"font-weight: bold\">}</span>\n",
              "<span style=\"color: #7fbf7f; text-decoration-color: #7fbf7f\">│   </span><span style=\"font-weight: bold\">)</span>,\n",
              "<span style=\"color: #7fbf7f; text-decoration-color: #7fbf7f\">│   </span><span style=\"color: #800080; text-decoration-color: #800080; font-weight: bold\">Document</span><span style=\"font-weight: bold\">(</span>\n",
              "<span style=\"color: #7fbf7f; text-decoration-color: #7fbf7f\">│   │   </span><span style=\"color: #808000; text-decoration-color: #808000\">page_content</span>=<span style=\"color: #008000; text-decoration-color: #008000\">'直到中午，院會議程一直未進入討論事項，韓國瑜在11時49分宣布休息、朝野協商，但朝野黨團對於議程、法案都無法達成共識，韓國瑜宣布休息用餐到下午2時，再繼續協商。\\n下午2時53分，韓國瑜回到議場後，藍綠立委再次爆發推擠衝突。韓國瑜表示，因各黨團還在溝通，院會繼續休息協商，並在下午3時30分第3度召集朝野協商。\\n第3度協商最終仍然破裂，朝野立委下午5時後陸續回到議場，表決通過延長開會時間至處理完所有國會改革法案為止後，開始逐條討論、發言、表決，過程中一度爆發嚴重肢體衝突，包括民進黨立委沈伯洋等6名藍綠立委送醫。'</span>,\n",
              "<span style=\"color: #7fbf7f; text-decoration-color: #7fbf7f\">│   │   </span><span style=\"color: #808000; text-decoration-color: #808000\">metadata</span>=<span style=\"font-weight: bold\">{</span>\n",
              "<span style=\"color: #7fbf7f; text-decoration-color: #7fbf7f\">│   │   │   </span><span style=\"color: #008000; text-decoration-color: #008000\">'source'</span>: <span style=\"color: #008000; text-decoration-color: #008000\">'https://www.businessweekly.com.tw/focus/blog/3015636'</span>\n",
              "<span style=\"color: #7fbf7f; text-decoration-color: #7fbf7f\">│   │   </span><span style=\"font-weight: bold\">}</span>\n",
              "<span style=\"color: #7fbf7f; text-decoration-color: #7fbf7f\">│   </span><span style=\"font-weight: bold\">)</span>,\n",
              "<span style=\"color: #7fbf7f; text-decoration-color: #7fbf7f\">│   </span><span style=\"color: #800080; text-decoration-color: #800080; font-weight: bold\">Document</span><span style=\"font-weight: bold\">(</span>\n",
              "<span style=\"color: #7fbf7f; text-decoration-color: #7fbf7f\">│   │   </span><span style=\"color: #808000; text-decoration-color: #808000\">page_content</span>=<span style=\"color: #008000; text-decoration-color: #008000\">'藍白立委強力排除民進黨立委抗爭，直到深夜10時，仍持續挑燈夜戰，逐條審議立法院職權行使法等修法。\\n此外，場外也陸續有民眾聚集，高喊「韓國瑜下台」等口號，目前已經有上百名民眾集結，現場也有大批警力進駐，並拉起拒馬。綠營：院會發生無法得知條文內容等4可議程序民進黨立院黨團幹事長吳思瑤會後表示，17日院會發生表決時無法得知條文內容、舉手表決等4大可議程序，立法院長韓國瑜應虛心反省，未處理完的條文還很多，韓國瑜還有機會。\\n藍白立院黨團17日利用席次優勢，以「舉手表決」方式處理藍白提出的國會職權修法相關法案，院會一直進行到近深夜12時，立法院長韓國瑜宣告休息，5月21日繼續開會。'</span>,\n",
              "<span style=\"color: #7fbf7f; text-decoration-color: #7fbf7f\">│   │   </span><span style=\"color: #808000; text-decoration-color: #808000\">metadata</span>=<span style=\"font-weight: bold\">{</span>\n",
              "<span style=\"color: #7fbf7f; text-decoration-color: #7fbf7f\">│   │   │   </span><span style=\"color: #008000; text-decoration-color: #008000\">'source'</span>: <span style=\"color: #008000; text-decoration-color: #008000\">'https://www.businessweekly.com.tw/focus/blog/3015636'</span>\n",
              "<span style=\"color: #7fbf7f; text-decoration-color: #7fbf7f\">│   │   </span><span style=\"font-weight: bold\">}</span>\n",
              "<span style=\"color: #7fbf7f; text-decoration-color: #7fbf7f\">│   </span><span style=\"font-weight: bold\">)</span>,\n",
              "<span style=\"color: #7fbf7f; text-decoration-color: #7fbf7f\">│   </span><span style=\"color: #800080; text-decoration-color: #800080; font-weight: bold\">Document</span><span style=\"font-weight: bold\">(</span>\n",
              "<span style=\"color: #7fbf7f; text-decoration-color: #7fbf7f\">│   │   </span><span style=\"color: #808000; text-decoration-color: #808000\">page_content</span>=<span style=\"color: #008000; text-decoration-color: #008000\">'吳思瑤在會後表示，台灣的民主在倒退，國會正在沉淪。立法院17日創下4個可議的程序處理，包括，一是未經立法院長主持朝野協商及逐條討論就強行表決，創下憲政史上及國會史上的惡例。\\n她表示，二是國民黨與民眾黨提出的國會擴權法案，是到了表決最後一刻才喬出來的，在表決時根本無法得知條文內容，這是國會史上第一次表決前這麼黑箱。三是以舉手進行表決（編按：即代表不記名表決），立法院上一次舉手表決是35年前的1989年，國民黨團總召傅崐萁率團赴中，卻帶回來中國人大的表決方式。'</span>,\n",
              "<span style=\"color: #7fbf7f; text-decoration-color: #7fbf7f\">│   │   </span><span style=\"color: #808000; text-decoration-color: #808000\">metadata</span>=<span style=\"font-weight: bold\">{</span>\n",
              "<span style=\"color: #7fbf7f; text-decoration-color: #7fbf7f\">│   │   │   </span><span style=\"color: #008000; text-decoration-color: #008000\">'source'</span>: <span style=\"color: #008000; text-decoration-color: #008000\">'https://www.businessweekly.com.tw/focus/blog/3015636'</span>\n",
              "<span style=\"color: #7fbf7f; text-decoration-color: #7fbf7f\">│   │   </span><span style=\"font-weight: bold\">}</span>\n",
              "<span style=\"color: #7fbf7f; text-decoration-color: #7fbf7f\">│   </span><span style=\"font-weight: bold\">)</span>,\n",
              "<span style=\"color: #7fbf7f; text-decoration-color: #7fbf7f\">│   </span><span style=\"color: #800080; text-decoration-color: #800080; font-weight: bold\">Document</span><span style=\"font-weight: bold\">(</span>\n",
              "<span style=\"color: #7fbf7f; text-decoration-color: #7fbf7f\">│   │   </span><span style=\"color: #808000; text-decoration-color: #808000\">page_content</span>=<span style=\"color: #008000; text-decoration-color: #008000\">'吳思瑤說，最後是二讀條文內容未經院會宣讀，依照立院職權行使法第9條，二讀條文都必須進行宣讀，但立法院長韓國瑜和立法院秘書長周萬來，刻意選擇不宣讀條文。\\n此外，吳思瑤也表示，這是她第一次看到立法院有這麼多警察出沒，更離譜的是，她和黨團總召柯建銘、黨團書記長莊瑞雄在主席休息室時，看到傅崐萁打電話，向電話另一頭說「給我多派一些警察過來」，公然指揮警察，「難道現在立法院長是傅崐萁嗎？」\\n她強調，立法院前院長王金平即使面對318學運，都不會動用警察權，王金平說動用警察權就是破壞台灣民主制度，韓國瑜、傅崐萁跟民眾黨團總召黃國昌是台灣民主的罪人。'</span>,\n",
              "<span style=\"color: #7fbf7f; text-decoration-color: #7fbf7f\">│   │   </span><span style=\"color: #808000; text-decoration-color: #808000\">metadata</span>=<span style=\"font-weight: bold\">{</span>\n",
              "<span style=\"color: #7fbf7f; text-decoration-color: #7fbf7f\">│   │   │   </span><span style=\"color: #008000; text-decoration-color: #008000\">'source'</span>: <span style=\"color: #008000; text-decoration-color: #008000\">'https://www.businessweekly.com.tw/focus/blog/3015636'</span>\n",
              "<span style=\"color: #7fbf7f; text-decoration-color: #7fbf7f\">│   │   </span><span style=\"font-weight: bold\">}</span>\n",
              "<span style=\"color: #7fbf7f; text-decoration-color: #7fbf7f\">│   </span><span style=\"font-weight: bold\">)</span>,\n",
              "<span style=\"color: #7fbf7f; text-decoration-color: #7fbf7f\">│   </span><span style=\"color: #800080; text-decoration-color: #800080; font-weight: bold\">Document</span><span style=\"font-weight: bold\">(</span>\n",
              "<span style=\"color: #7fbf7f; text-decoration-color: #7fbf7f\">│   │   </span><span style=\"color: #808000; text-decoration-color: #808000\">page_content</span>=<span style=\"color: #008000; text-decoration-color: #008000\">'吳思瑤指出，立法院外有無數自發性聲援的年輕世代，台灣民主不會失敗，也許表決會挫敗，但台灣民主終將勝利，民進黨黨團也要為在醫院救治的立委祝福集氣。\\n對於5月21日是否會有議事抗爭，吳思瑤表示，韓國瑜應想想昨天院會的失序是否要延續，應好好審視議事處理是否需要再強化，應虛心反省是否依舊要硬幹；韓國瑜可以召開朝野協商，把委員會沒審查被沒收的條文都討論完、完備程序，國會會不會發生暴力事件，存在韓國瑜一念之間。藍營：執政黨龐大壓力下  邁開國會改革第一步國民黨團總召傅崐萁說，在執政黨龐大壓力下，邁開國會改革第一步，會繼續努力讓修法完成，不負民眾所託。'</span>,\n",
              "<span style=\"color: #7fbf7f; text-decoration-color: #7fbf7f\">│   │   </span><span style=\"color: #808000; text-decoration-color: #808000\">metadata</span>=<span style=\"font-weight: bold\">{</span>\n",
              "<span style=\"color: #7fbf7f; text-decoration-color: #7fbf7f\">│   │   │   </span><span style=\"color: #008000; text-decoration-color: #008000\">'source'</span>: <span style=\"color: #008000; text-decoration-color: #008000\">'https://www.businessweekly.com.tw/focus/blog/3015636'</span>\n",
              "<span style=\"color: #7fbf7f; text-decoration-color: #7fbf7f\">│   │   </span><span style=\"font-weight: bold\">}</span>\n",
              "<span style=\"color: #7fbf7f; text-decoration-color: #7fbf7f\">│   </span><span style=\"font-weight: bold\">)</span>,\n",
              "<span style=\"color: #7fbf7f; text-decoration-color: #7fbf7f\">│   </span><span style=\"color: #800080; text-decoration-color: #800080; font-weight: bold\">Document</span><span style=\"font-weight: bold\">(</span>\n",
              "<span style=\"color: #7fbf7f; text-decoration-color: #7fbf7f\">│   │   </span><span style=\"color: #808000; text-decoration-color: #808000\">page_content</span>=<span style=\"color: #008000; text-decoration-color: #008000\">'17日晚間約9時起，有民眾自發、陸續集結在立法院外的青島東路上，高喊「沒有討論、不是民主」、「暴力鴨霸歧視仔、國民黨死性不改」等口號，到晚間11時多，民眾已經擠滿青島東路，警方也加派警力戒備。\\n院會一直進行到近深夜12時，立法院長韓國瑜宣告休息，5月21日繼續開會。\\n國民黨立法院黨團也隨即舉行記者會。傅崐萁說，民眾期待的國會改革17日正式推動，在執政黨龐大資源、壓力下，國民黨團、民眾黨團堅持奮戰到底，在種種威脅、恐嚇中撐下來，邁開國會改革第一步。\\n他表示，國民黨團會再接再厲，回應民眾殷殷期盼，把這些弊案的真相還給人民，願意流血流汗，讓國家走向光明正道，把貪污、腐敗全部揭發出來。'</span>,\n",
              "<span style=\"color: #7fbf7f; text-decoration-color: #7fbf7f\">│   │   </span><span style=\"color: #808000; text-decoration-color: #808000\">metadata</span>=<span style=\"font-weight: bold\">{</span>\n",
              "<span style=\"color: #7fbf7f; text-decoration-color: #7fbf7f\">│   │   │   </span><span style=\"color: #008000; text-decoration-color: #008000\">'source'</span>: <span style=\"color: #008000; text-decoration-color: #008000\">'https://www.businessweekly.com.tw/focus/blog/3015636'</span>\n",
              "<span style=\"color: #7fbf7f; text-decoration-color: #7fbf7f\">│   │   </span><span style=\"font-weight: bold\">}</span>\n",
              "<span style=\"color: #7fbf7f; text-decoration-color: #7fbf7f\">│   </span><span style=\"font-weight: bold\">)</span>,\n",
              "<span style=\"color: #7fbf7f; text-decoration-color: #7fbf7f\">│   </span><span style=\"color: #800080; text-decoration-color: #800080; font-weight: bold\">Document</span><span style=\"font-weight: bold\">(</span>\n",
              "<span style=\"color: #7fbf7f; text-decoration-color: #7fbf7f\">│   │   </span><span style=\"color: #808000; text-decoration-color: #808000\">page_content</span>=<span style=\"color: #008000; text-decoration-color: #008000\">'傅崐萁說，韓國瑜頂下這麼大壓力，面對民進黨咄咄逼人的威嚇下，順利把院會推動到深夜12時，修法進行到第23條，會繼續努力讓修法完成，不負民眾所託。\\n他指出，總統當選人賴清德盼咐民進黨團要轉守為攻，而民進黨團就在17日立法院用9波暴力手段攻擊在野黨，甚至對韓國瑜人身攻擊、禁錮韓國瑜在院長室內。\\n國民黨立法院黨團書記長洪孟楷說，相關國會改革草案是經過委員會、朝野協商、3次公聽會，於法、於規、於情、於理都能處理，發動9波衝突的民進黨，當家鬧事該被譴責，先動手的人要被究責。逐條討論是正常程序，下週二希望民進黨團不要惡意製造衝突。'</span>,\n",
              "<span style=\"color: #7fbf7f; text-decoration-color: #7fbf7f\">│   │   </span><span style=\"color: #808000; text-decoration-color: #808000\">metadata</span>=<span style=\"font-weight: bold\">{</span>\n",
              "<span style=\"color: #7fbf7f; text-decoration-color: #7fbf7f\">│   │   │   </span><span style=\"color: #008000; text-decoration-color: #008000\">'source'</span>: <span style=\"color: #008000; text-decoration-color: #008000\">'https://www.businessweekly.com.tw/focus/blog/3015636'</span>\n",
              "<span style=\"color: #7fbf7f; text-decoration-color: #7fbf7f\">│   │   </span><span style=\"font-weight: bold\">}</span>\n",
              "<span style=\"color: #7fbf7f; text-decoration-color: #7fbf7f\">│   </span><span style=\"font-weight: bold\">)</span>,\n",
              "<span style=\"color: #7fbf7f; text-decoration-color: #7fbf7f\">│   </span><span style=\"color: #800080; text-decoration-color: #800080; font-weight: bold\">Document</span><span style=\"font-weight: bold\">(</span>\n",
              "<span style=\"color: #7fbf7f; text-decoration-color: #7fbf7f\">│   │   </span><span style=\"color: #808000; text-decoration-color: #808000\">page_content</span>=<span style=\"color: #008000; text-decoration-color: #008000\">'國民黨立委陳玉珍表示，逐條討論時，民進黨立委的發言內容都跟法案無關、只是謾罵，可見民進黨無心討論，純粹反對國會改革，下週二時賴清德已就任總統，盼能用新任總統的高度告訴民進黨團，當家不鬧事，用民主程序完成國會改革。\\n參考資料：中央社1,2,3,4,5,6,7,8,9、立法院議事暨公報資訊網\\n責任編輯：倪旻勤'</span>,\n",
              "<span style=\"color: #7fbf7f; text-decoration-color: #7fbf7f\">│   │   </span><span style=\"color: #808000; text-decoration-color: #808000\">metadata</span>=<span style=\"font-weight: bold\">{</span>\n",
              "<span style=\"color: #7fbf7f; text-decoration-color: #7fbf7f\">│   │   │   </span><span style=\"color: #008000; text-decoration-color: #008000\">'source'</span>: <span style=\"color: #008000; text-decoration-color: #008000\">'https://www.businessweekly.com.tw/focus/blog/3015636'</span>\n",
              "<span style=\"color: #7fbf7f; text-decoration-color: #7fbf7f\">│   │   </span><span style=\"font-weight: bold\">}</span>\n",
              "<span style=\"color: #7fbf7f; text-decoration-color: #7fbf7f\">│   </span><span style=\"font-weight: bold\">)</span>\n",
              "<span style=\"font-weight: bold\">]</span>\n",
              "</pre>\n"
            ]
          },
          "metadata": {}
        }
      ],
      "source": [
        "from langchain_text_splitters import RecursiveCharacterTextSplitter\n",
        "text_splitter = RecursiveCharacterTextSplitter(chunk_size=300,\n",
        "                                               chunk_overlap=30)\n",
        "chunks = text_splitter.split_documents(documents)\n",
        "pprint(chunks, expand_all=True)"
      ]
    },
    {
      "cell_type": "markdown",
      "metadata": {
        "id": "DLInDTDv9zAk"
      },
      "source": [
        "## 將切割片段嵌入到資料庫中"
      ]
    },
    {
      "cell_type": "code",
      "source": [
        "!pip install chromadb"
      ],
      "metadata": {
        "id": "46WtxFQUEYn-"
      },
      "execution_count": null,
      "outputs": []
    },
    {
      "cell_type": "code",
      "execution_count": null,
      "metadata": {
        "id": "BS88UDKuqHFS"
      },
      "outputs": [],
      "source": [
        "from langchain_openai import OpenAIEmbeddings\n",
        "from langchain_community.vectorstores import Chroma\n",
        "# 嵌入模型\n",
        "embeddings = OpenAIEmbeddings()\n",
        "# 建立向量資料庫\n",
        "db = Chroma.from_documents(chunks, embeddings)"
      ]
    },
    {
      "cell_type": "markdown",
      "metadata": {
        "id": "xyQk-JQJ95y8"
      },
      "source": [
        "## 依照文意相關性查詢片段內容"
      ]
    },
    {
      "cell_type": "code",
      "execution_count": null,
      "metadata": {
        "colab": {
          "base_uri": "https://localhost:8080/",
          "height": 334
        },
        "id": "VqAl82QaR8rp",
        "outputId": "b1b09ff6-0790-4d06-f66a-535d2c4d5747"
      },
      "outputs": [
        {
          "output_type": "display_data",
          "data": {
            "text/plain": [
              "\u001b[1m[\u001b[0m\n",
              "\u001b[2;32m│   \u001b[0m\u001b[1;35mDocument\u001b[0m\u001b[1m(\u001b[0m\n",
              "\u001b[2;32m│   │   \u001b[0m\u001b[33mpage_content\u001b[0m=\u001b[32m'曹興誠表示，至於法律戰，與中共友好者取得立法院多數，想擴充立法權壓制行政權等，據他香港友人稱目前在港都不太敢亂說話，若藍營立委希望台灣保持現狀不要讓中共統治，就不要讓立院變成中共狗腿，呼籲群眾若藍營立委仍執迷不悟，希望有所抗爭。5月17日：朝野爆發激烈衝突6立委送醫立法院會17日處理國會改革法案，朝野從清晨起爆發多起肢體衝突，傍晚開始進行處理，晚間7時左右爆發嚴重衝突，造成至少6位立委送醫。\\n立法院會排定處理國民黨團、民眾黨團所提攸關國會改革的相關法案，包括立法院職權行使法、刑法、立法委員互選院長副院長辦法等修法。'\u001b[0m,\n",
              "\u001b[2;32m│   │   \u001b[0m\u001b[33mmetadata\u001b[0m=\u001b[1m{\u001b[0m\u001b[32m'source'\u001b[0m: \u001b[32m'https://www.businessweekly.com.tw/focus/blog/3015636'\u001b[0m\u001b[1m}\u001b[0m\n",
              "\u001b[2;32m│   \u001b[0m\u001b[1m)\u001b[0m,\n",
              "\u001b[2;32m│   \u001b[0m\u001b[1;35mDocument\u001b[0m\u001b[1m(\u001b[0m\n",
              "\u001b[2;32m│   │   \u001b[0m\u001b[33mpage_content\u001b[0m=\u001b[32m'立法院司法及法制委員會4月15日初審通過國民黨立委傅崐萁、台灣民眾黨立法院黨團所提立法院職權行使法部分條文修正草案等案，但全數條文保留，交黨團協商。藍白所提國會職權修正法案，經立法院司法及法制委員會召委、國民黨立委吳宗憲主持的朝野黨團協商無共識下，吳宗憲宣告依規定送院會。全案列為5月17日、5月21日、5月24日、5月28日院會的討論事項，而5月17日、5月21日、5月24日均挑燈夜戰，延長開會時間到午夜12時。5月28日的院會，於下午4時59分三讀修正通過立法院職權行使法部分條文，並於晚上10時54分許三讀修正通過刑法部分條文。立法院會處理時，藍白為使議事順利，開會前均在議場門口排隊卡位，'\u001b[0m,\n",
              "\u001b[2;32m│   │   \u001b[0m\u001b[33mmetadata\u001b[0m=\u001b[1m{\u001b[0m\u001b[32m'source'\u001b[0m: \u001b[32m'https://www.businessweekly.com.tw/focus/blog/3015636'\u001b[0m\u001b[1m}\u001b[0m\n",
              "\u001b[2;32m│   \u001b[0m\u001b[1m)\u001b[0m,\n",
              "\u001b[2;32m│   \u001b[0m\u001b[1;35mDocument\u001b[0m\u001b[1m(\u001b[0m\n",
              "\u001b[2;32m│   │   \u001b[0m\u001b[33mpage_content\u001b[0m=\u001b[32m'立法院會5月17日、21日二讀表決通過立法院職權行使法部分條文修正草案；24日院會續審立法院職權相關法案，多個民團到立法院外表達訴求。\\n24日上午活動現場天雨路滑，許多民眾冒雨到場參與活動，並自發性協助民團布置場地，現場氣氛和平、理性，也有醫護人員自發組成「青島東路醫療站」，並訂定醫療通道、醫療中立等流程原則，避免意外事故或緊急衝突發生。\\n此外，許多民眾為表達訴求、理念，也自製許多標語，例如「白藍綁架國會」、「真民主能討論」、「我藐視國會」等語詞。'\u001b[0m,\n",
              "\u001b[2;32m│   │   \u001b[0m\u001b[33mmetadata\u001b[0m=\u001b[1m{\u001b[0m\u001b[32m'source'\u001b[0m: \u001b[32m'https://www.businessweekly.com.tw/focus/blog/3015636'\u001b[0m\u001b[1m}\u001b[0m\n",
              "\u001b[2;32m│   \u001b[0m\u001b[1m)\u001b[0m,\n",
              "\u001b[2;32m│   \u001b[0m\u001b[1;35mDocument\u001b[0m\u001b[1m(\u001b[0m\n",
              "\u001b[2;32m│   │   \u001b[0m\u001b[33mpage_content\u001b[0m=\u001b[32m'。而在立法院會三讀修正通過刑法部分條文後，國民黨立委高喊修法通過、國會重生，民進黨立委則喊釋憲挺人民等口號。5月24日：民團冒雨集結、自組醫療站立法院職權行使法24日續審，民團將在場外上陣宣講，由於現場天雨路滑，不少志工民眾協助布置場地、發送雨衣，另有醫護人員自發到場設立青島東路醫療站，避免意外事故發生。'\u001b[0m,\n",
              "\u001b[2;32m│   │   \u001b[0m\u001b[33mmetadata\u001b[0m=\u001b[1m{\u001b[0m\u001b[32m'source'\u001b[0m: \u001b[32m'https://www.businessweekly.com.tw/focus/blog/3015636'\u001b[0m\u001b[1m}\u001b[0m\n",
              "\u001b[2;32m│   \u001b[0m\u001b[1m)\u001b[0m\n",
              "\u001b[1m]\u001b[0m\n"
            ],
            "text/html": [
              "<pre style=\"white-space:pre;overflow-x:auto;line-height:normal;font-family:Menlo,'DejaVu Sans Mono',consolas,'Courier New',monospace\"><span style=\"font-weight: bold\">[</span>\n",
              "<span style=\"color: #7fbf7f; text-decoration-color: #7fbf7f\">│   </span><span style=\"color: #800080; text-decoration-color: #800080; font-weight: bold\">Document</span><span style=\"font-weight: bold\">(</span>\n",
              "<span style=\"color: #7fbf7f; text-decoration-color: #7fbf7f\">│   │   </span><span style=\"color: #808000; text-decoration-color: #808000\">page_content</span>=<span style=\"color: #008000; text-decoration-color: #008000\">'曹興誠表示，至於法律戰，與中共友好者取得立法院多數，想擴充立法權壓制行政權等，據他香港友人稱目前在港都不太敢亂說話，若藍營立委希望台灣保持現狀不要讓中共統治，就不要讓立院變成中共狗腿，呼籲群眾若藍營立委仍執迷不悟，希望有所抗爭。5月17日：朝野爆發激烈衝突6立委送醫立法院會17日處理國會改革法案，朝野從清晨起爆發多起肢體衝突，傍晚開始進行處理，晚間7時左右爆發嚴重衝突，造成至少6位立委送醫。\\n立法院會排定處理國民黨團、民眾黨團所提攸關國會改革的相關法案，包括立法院職權行使法、刑法、立法委員互選院長副院長辦法等修法。'</span>,\n",
              "<span style=\"color: #7fbf7f; text-decoration-color: #7fbf7f\">│   │   </span><span style=\"color: #808000; text-decoration-color: #808000\">metadata</span>=<span style=\"font-weight: bold\">{</span><span style=\"color: #008000; text-decoration-color: #008000\">'source'</span>: <span style=\"color: #008000; text-decoration-color: #008000\">'https://www.businessweekly.com.tw/focus/blog/3015636'</span><span style=\"font-weight: bold\">}</span>\n",
              "<span style=\"color: #7fbf7f; text-decoration-color: #7fbf7f\">│   </span><span style=\"font-weight: bold\">)</span>,\n",
              "<span style=\"color: #7fbf7f; text-decoration-color: #7fbf7f\">│   </span><span style=\"color: #800080; text-decoration-color: #800080; font-weight: bold\">Document</span><span style=\"font-weight: bold\">(</span>\n",
              "<span style=\"color: #7fbf7f; text-decoration-color: #7fbf7f\">│   │   </span><span style=\"color: #808000; text-decoration-color: #808000\">page_content</span>=<span style=\"color: #008000; text-decoration-color: #008000\">'立法院司法及法制委員會4月15日初審通過國民黨立委傅崐萁、台灣民眾黨立法院黨團所提立法院職權行使法部分條文修正草案等案，但全數條文保留，交黨團協商。藍白所提國會職權修正法案，經立法院司法及法制委員會召委、國民黨立委吳宗憲主持的朝野黨團協商無共識下，吳宗憲宣告依規定送院會。全案列為5月17日、5月21日、5月24日、5月28日院會的討論事項，而5月17日、5月21日、5月24日均挑燈夜戰，延長開會時間到午夜12時。5月28日的院會，於下午4時59分三讀修正通過立法院職權行使法部分條文，並於晚上10時54分許三讀修正通過刑法部分條文。立法院會處理時，藍白為使議事順利，開會前均在議場門口排隊卡位，'</span>,\n",
              "<span style=\"color: #7fbf7f; text-decoration-color: #7fbf7f\">│   │   </span><span style=\"color: #808000; text-decoration-color: #808000\">metadata</span>=<span style=\"font-weight: bold\">{</span><span style=\"color: #008000; text-decoration-color: #008000\">'source'</span>: <span style=\"color: #008000; text-decoration-color: #008000\">'https://www.businessweekly.com.tw/focus/blog/3015636'</span><span style=\"font-weight: bold\">}</span>\n",
              "<span style=\"color: #7fbf7f; text-decoration-color: #7fbf7f\">│   </span><span style=\"font-weight: bold\">)</span>,\n",
              "<span style=\"color: #7fbf7f; text-decoration-color: #7fbf7f\">│   </span><span style=\"color: #800080; text-decoration-color: #800080; font-weight: bold\">Document</span><span style=\"font-weight: bold\">(</span>\n",
              "<span style=\"color: #7fbf7f; text-decoration-color: #7fbf7f\">│   │   </span><span style=\"color: #808000; text-decoration-color: #808000\">page_content</span>=<span style=\"color: #008000; text-decoration-color: #008000\">'立法院會5月17日、21日二讀表決通過立法院職權行使法部分條文修正草案；24日院會續審立法院職權相關法案，多個民團到立法院外表達訴求。\\n24日上午活動現場天雨路滑，許多民眾冒雨到場參與活動，並自發性協助民團布置場地，現場氣氛和平、理性，也有醫護人員自發組成「青島東路醫療站」，並訂定醫療通道、醫療中立等流程原則，避免意外事故或緊急衝突發生。\\n此外，許多民眾為表達訴求、理念，也自製許多標語，例如「白藍綁架國會」、「真民主能討論」、「我藐視國會」等語詞。'</span>,\n",
              "<span style=\"color: #7fbf7f; text-decoration-color: #7fbf7f\">│   │   </span><span style=\"color: #808000; text-decoration-color: #808000\">metadata</span>=<span style=\"font-weight: bold\">{</span><span style=\"color: #008000; text-decoration-color: #008000\">'source'</span>: <span style=\"color: #008000; text-decoration-color: #008000\">'https://www.businessweekly.com.tw/focus/blog/3015636'</span><span style=\"font-weight: bold\">}</span>\n",
              "<span style=\"color: #7fbf7f; text-decoration-color: #7fbf7f\">│   </span><span style=\"font-weight: bold\">)</span>,\n",
              "<span style=\"color: #7fbf7f; text-decoration-color: #7fbf7f\">│   </span><span style=\"color: #800080; text-decoration-color: #800080; font-weight: bold\">Document</span><span style=\"font-weight: bold\">(</span>\n",
              "<span style=\"color: #7fbf7f; text-decoration-color: #7fbf7f\">│   │   </span><span style=\"color: #808000; text-decoration-color: #808000\">page_content</span>=<span style=\"color: #008000; text-decoration-color: #008000\">'。而在立法院會三讀修正通過刑法部分條文後，國民黨立委高喊修法通過、國會重生，民進黨立委則喊釋憲挺人民等口號。5月24日：民團冒雨集結、自組醫療站立法院職權行使法24日續審，民團將在場外上陣宣講，由於現場天雨路滑，不少志工民眾協助布置場地、發送雨衣，另有醫護人員自發到場設立青島東路醫療站，避免意外事故發生。'</span>,\n",
              "<span style=\"color: #7fbf7f; text-decoration-color: #7fbf7f\">│   │   </span><span style=\"color: #808000; text-decoration-color: #808000\">metadata</span>=<span style=\"font-weight: bold\">{</span><span style=\"color: #008000; text-decoration-color: #008000\">'source'</span>: <span style=\"color: #008000; text-decoration-color: #008000\">'https://www.businessweekly.com.tw/focus/blog/3015636'</span><span style=\"font-weight: bold\">}</span>\n",
              "<span style=\"color: #7fbf7f; text-decoration-color: #7fbf7f\">│   </span><span style=\"font-weight: bold\">)</span>\n",
              "<span style=\"font-weight: bold\">]</span>\n",
              "</pre>\n"
            ]
          },
          "metadata": {}
        }
      ],
      "source": [
        "# 相似度查詢\n",
        "pprint(db.similarity_search(\"立法院在吵甚麼?\"))"
      ]
    },
    {
      "cell_type": "markdown",
      "metadata": {
        "id": "2RYUSU83mUNo"
      },
      "source": [
        "## 找出關聯片段提供給語言模型參考後回覆\n"
      ]
    },
    {
      "cell_type": "code",
      "execution_count": null,
      "metadata": {
        "id": "qf2-qKSfqXNu"
      },
      "outputs": [],
      "source": [
        "str_parser = StrOutputParser()\n",
        "retriever = db.as_retriever()\n",
        "template = (\n",
        "    \"請根據以下內容加上自身判斷回答問題:\\n\"\n",
        "    \"{context}\\n\"\n",
        "    \"問題: {question}\"\n",
        "    )\n",
        "prompt = ChatPromptTemplate.from_template(template)"
      ]
    },
    {
      "cell_type": "code",
      "execution_count": null,
      "metadata": {
        "id": "ZMCsXoDwqdKl"
      },
      "outputs": [],
      "source": [
        "chain = (\n",
        "    {\"context\": retriever, \"question\": RunnablePassthrough()}\n",
        "    | prompt\n",
        "    | llm\n",
        "    | str_parser\n",
        ")"
      ]
    },
    {
      "cell_type": "code",
      "execution_count": null,
      "metadata": {
        "colab": {
          "base_uri": "https://localhost:8080/"
        },
        "id": "rlRSiusetX3S",
        "outputId": "dd133b23-2335-426b-c7bf-24a8270e5635"
      },
      "outputs": [
        {
          "output_type": "stream",
          "name": "stdout",
          "text": [
            "根據提供的內容，立法院的爭論主要圍繞以下幾個議題：\n",
            "\n",
            "1. **國會改革法案**：\n",
            "    - 立法院處理國民黨團、民眾黨團所提攸關國會改革的相關法案，包括《立法院職權行使法》、《刑法》，以及《立法委員互選院長副院長辦法》等修法。\n",
            "    - 國會改革法案引發了朝野激烈的肢體衝突，造成多位立委受傷送醫。\n",
            "\n",
            "2. **藍白聯盟的國會擴權法案**：\n",
            "    - 國民黨和民眾黨提出的國會擴權法案，在表決前的最後一刻才確定條文內容，這被批評為黑箱操作。\n",
            "    - 表決方式也引起爭議，使用了舉手表決的方式（不記名表決），這是自1989年以來首次使用這種方式，被認為是帶回中國人大的表決方式。\n",
            "\n",
            "3. **對總統報告的即問即答權利**：\n",
            "    - 國民黨與民眾黨主張，應賦予立委在總統報告後可「即問即答」的權利。\n",
            "    - 民進黨則認為根據《憲法》規定，立院只是「得」聽取總統的國情報告，並未授權立委對總統進行詢答，這樣的改變可能違憲，應由行政院長而非總統負責回應。\n",
            "\n",
            "4. **立法院程序和民主倒退的指控**：\n",
            "    - 立法院在5月17日的會議程序引發爭議，包括未經立法院長主持朝野協商及逐條討論就強行表決，這被批評為憲政史上的惡例。\n",
            "\n",
            "總結來說，立法院的爭論焦點集中在國會改革法案的內容和表決程序上，以及應如何處理總統報告後的即問即答權利，這些都涉及到立法院職權的擴張和憲政程序的合法性問題。\n"
          ]
        }
      ],
      "source": [
        "# 進行問答\n",
        "print(chain.invoke(\"立法院在爭論甚麼?\"))"
      ]
    },
    {
      "cell_type": "markdown",
      "metadata": {
        "id": "mqkzz3AD-Scw"
      },
      "source": [
        "## 設計可連續問答的立法院爭議懶人包"
      ]
    },
    {
      "cell_type": "markdown",
      "metadata": {
        "id": "305WIyHY_CtV"
      },
      "source": [
        "### 把查詢資料庫的功能製作成工具"
      ]
    },
    {
      "cell_type": "code",
      "execution_count": null,
      "metadata": {
        "id": "NjzwMYkKIKWJ"
      },
      "outputs": [],
      "source": [
        "from langchain.tools.retriever import create_retriever_tool\n",
        "\n",
        "tool = create_retriever_tool(\n",
        "    retriever=retriever,\n",
        "    name=\"retriever\",\n",
        "    description=\"搜尋並返回立法院國會改革法案內容懶人包\",\n",
        ")\n",
        "tools = [tool]"
      ]
    },
    {
      "cell_type": "markdown",
      "metadata": {
        "id": "MMnrxchi_PWh"
      },
      "source": [
        "### 設計進行問答的助理"
      ]
    },
    {
      "cell_type": "code",
      "execution_count": null,
      "metadata": {
        "id": "_u4tLgfAIMaY"
      },
      "outputs": [],
      "source": [
        "from langchain_core.prompts import MessagesPlaceholder\n",
        "prompt = ChatPromptTemplate.from_messages([\n",
        "    ('system','你是一位善用工具的好助理, '\n",
        "              '請自己判斷上下文來回答問題'),\n",
        "    # 用來放置聊天過程的佔位器\n",
        "    MessagesPlaceholder(variable_name=\"chat_history\"),\n",
        "    ('human','{input}'),\n",
        "    # 用來讓助理置入工具執行結果的佔位器\n",
        "    MessagesPlaceholder(variable_name=\"agent_scratchpad\")\n",
        "])"
      ]
    },
    {
      "cell_type": "code",
      "execution_count": null,
      "metadata": {
        "id": "Zu-KWcNGIN9o"
      },
      "outputs": [],
      "source": [
        "agent = create_tool_calling_agent(llm, tools, prompt)\n",
        "agent_executor = AgentExecutor(agent=agent, tools=tools)"
      ]
    },
    {
      "cell_type": "markdown",
      "metadata": {
        "id": "iMvltLcr_qGv"
      },
      "source": [
        "### 建立用來記錄聊天過程的資料庫"
      ]
    },
    {
      "cell_type": "code",
      "execution_count": null,
      "metadata": {
        "id": "uEs8_0VTBAso"
      },
      "outputs": [],
      "source": [
        "from langchain.memory import ConversationBufferWindowMemory\n",
        "from langchain_core.runnables.history import RunnableWithMessageHistory\n",
        "memory = ConversationBufferWindowMemory(k=6)\n",
        "memory_chain = RunnableWithMessageHistory(\n",
        "    agent_executor,\n",
        "    lambda session_id: memory.chat_memory,\n",
        "    input_messages_key=\"input\",\n",
        "    history_messages_key=\"chat_history\",\n",
        ")"
      ]
    },
    {
      "cell_type": "markdown",
      "metadata": {
        "id": "mCOq93KCAf0Z"
      },
      "source": [
        "### 開始聊天"
      ]
    },
    {
      "cell_type": "markdown",
      "source": [
        "立法院爭議的項目?\n",
        "\n",
        "為什麼民進黨要堅持不通過國會改革法案?\n",
        "\n",
        "為甚麼民進黨會產生這些疑慮?"
      ],
      "metadata": {
        "id": "9UD6ZbjGuAIi"
      }
    },
    {
      "cell_type": "code",
      "execution_count": null,
      "metadata": {
        "colab": {
          "base_uri": "https://localhost:8080/",
          "height": 408
        },
        "id": "Ckzi66mSIViI",
        "outputId": "2a363f34-afbb-4288-e5d3-09a1b347a279"
      },
      "outputs": [
        {
          "output_type": "stream",
          "name": "stdout",
          "text": [
            "我說：黃國昌是誰\n",
            "AI 回覆：黃國昌是台灣的政治人物和學者，曾擔任立法委員。他是台灣基進的創黨成員之一，並且以其在立法院中的直言敢諫和反貪腐立場而知名。黃國昌原本是法律學者，專長於憲法和行政法。除了政治活動，他還在學術界有一定的影響力。\n",
            "\n"
          ]
        },
        {
          "output_type": "error",
          "ename": "KeyboardInterrupt",
          "evalue": "Interrupted by user",
          "traceback": [
            "\u001b[0;31m---------------------------------------------------------------------------\u001b[0m",
            "\u001b[0;31mKeyboardInterrupt\u001b[0m                         Traceback (most recent call last)",
            "\u001b[0;32m<ipython-input-64-c04067c81491>\u001b[0m in \u001b[0;36m<cell line: 1>\u001b[0;34m()\u001b[0m\n\u001b[1;32m      1\u001b[0m \u001b[0;32mwhile\u001b[0m \u001b[0;32mTrue\u001b[0m\u001b[0;34m:\u001b[0m\u001b[0;34m\u001b[0m\u001b[0;34m\u001b[0m\u001b[0m\n\u001b[0;32m----> 2\u001b[0;31m     \u001b[0mmsg\u001b[0m \u001b[0;34m=\u001b[0m \u001b[0minput\u001b[0m\u001b[0;34m(\u001b[0m\u001b[0;34m\"我說：\"\u001b[0m\u001b[0;34m)\u001b[0m\u001b[0;34m\u001b[0m\u001b[0;34m\u001b[0m\u001b[0m\n\u001b[0m\u001b[1;32m      3\u001b[0m     \u001b[0;32mif\u001b[0m \u001b[0;32mnot\u001b[0m \u001b[0mmsg\u001b[0m\u001b[0;34m.\u001b[0m\u001b[0mstrip\u001b[0m\u001b[0;34m(\u001b[0m\u001b[0;34m)\u001b[0m\u001b[0;34m:\u001b[0m\u001b[0;34m\u001b[0m\u001b[0;34m\u001b[0m\u001b[0m\n\u001b[1;32m      4\u001b[0m         \u001b[0;32mbreak\u001b[0m\u001b[0;34m\u001b[0m\u001b[0;34m\u001b[0m\u001b[0m\n\u001b[1;32m      5\u001b[0m     for chunk in memory_chain.stream(\n",
            "\u001b[0;32m/usr/local/lib/python3.10/dist-packages/ipykernel/kernelbase.py\u001b[0m in \u001b[0;36mraw_input\u001b[0;34m(self, prompt)\u001b[0m\n\u001b[1;32m    849\u001b[0m                 \u001b[0;34m\"raw_input was called, but this frontend does not support input requests.\"\u001b[0m\u001b[0;34m\u001b[0m\u001b[0;34m\u001b[0m\u001b[0m\n\u001b[1;32m    850\u001b[0m             )\n\u001b[0;32m--> 851\u001b[0;31m         return self._input_request(str(prompt),\n\u001b[0m\u001b[1;32m    852\u001b[0m             \u001b[0mself\u001b[0m\u001b[0;34m.\u001b[0m\u001b[0m_parent_ident\u001b[0m\u001b[0;34m,\u001b[0m\u001b[0;34m\u001b[0m\u001b[0;34m\u001b[0m\u001b[0m\n\u001b[1;32m    853\u001b[0m             \u001b[0mself\u001b[0m\u001b[0;34m.\u001b[0m\u001b[0m_parent_header\u001b[0m\u001b[0;34m,\u001b[0m\u001b[0;34m\u001b[0m\u001b[0;34m\u001b[0m\u001b[0m\n",
            "\u001b[0;32m/usr/local/lib/python3.10/dist-packages/ipykernel/kernelbase.py\u001b[0m in \u001b[0;36m_input_request\u001b[0;34m(self, prompt, ident, parent, password)\u001b[0m\n\u001b[1;32m    893\u001b[0m             \u001b[0;32mexcept\u001b[0m \u001b[0mKeyboardInterrupt\u001b[0m\u001b[0;34m:\u001b[0m\u001b[0;34m\u001b[0m\u001b[0;34m\u001b[0m\u001b[0m\n\u001b[1;32m    894\u001b[0m                 \u001b[0;31m# re-raise KeyboardInterrupt, to truncate traceback\u001b[0m\u001b[0;34m\u001b[0m\u001b[0;34m\u001b[0m\u001b[0m\n\u001b[0;32m--> 895\u001b[0;31m                 \u001b[0;32mraise\u001b[0m \u001b[0mKeyboardInterrupt\u001b[0m\u001b[0;34m(\u001b[0m\u001b[0;34m\"Interrupted by user\"\u001b[0m\u001b[0;34m)\u001b[0m \u001b[0;32mfrom\u001b[0m \u001b[0;32mNone\u001b[0m\u001b[0;34m\u001b[0m\u001b[0;34m\u001b[0m\u001b[0m\n\u001b[0m\u001b[1;32m    896\u001b[0m             \u001b[0;32mexcept\u001b[0m \u001b[0mException\u001b[0m \u001b[0;32mas\u001b[0m \u001b[0me\u001b[0m\u001b[0;34m:\u001b[0m\u001b[0;34m\u001b[0m\u001b[0;34m\u001b[0m\u001b[0m\n\u001b[1;32m    897\u001b[0m                 \u001b[0mself\u001b[0m\u001b[0;34m.\u001b[0m\u001b[0mlog\u001b[0m\u001b[0;34m.\u001b[0m\u001b[0mwarning\u001b[0m\u001b[0;34m(\u001b[0m\u001b[0;34m\"Invalid Message:\"\u001b[0m\u001b[0;34m,\u001b[0m \u001b[0mexc_info\u001b[0m\u001b[0;34m=\u001b[0m\u001b[0;32mTrue\u001b[0m\u001b[0;34m)\u001b[0m\u001b[0;34m\u001b[0m\u001b[0;34m\u001b[0m\u001b[0m\n",
            "\u001b[0;31mKeyboardInterrupt\u001b[0m: Interrupted by user"
          ]
        }
      ],
      "source": [
        "while True:\n",
        "    msg = input(\"我說：\")\n",
        "    if not msg.strip():\n",
        "        break\n",
        "    for chunk in memory_chain.stream(\n",
        "        {\"input\": msg},\n",
        "        config={\"configurable\": {\"session_id\": \"test_id\"}}):\n",
        "        if 'output' in chunk:\n",
        "            print(f\"AI 回覆：{chunk['output']}\", end=\"\", flush=True)\n",
        "    print('\\n')"
      ]
    }
  ],
  "metadata": {
    "colab": {
      "provenance": [],
      "toc_visible": true,
      "include_colab_link": true
    },
    "kernelspec": {
      "display_name": "Python 3",
      "name": "python3"
    },
    "language_info": {
      "name": "python"
    }
  },
  "nbformat": 4,
  "nbformat_minor": 0
}